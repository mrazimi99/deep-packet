{
  "nbformat": 4,
  "nbformat_minor": 0,
  "metadata": {
    "colab": {
      "name": "DeepPacket.ipynb",
      "provenance": [],
      "collapsed_sections": [],
      "mount_file_id": "1uAWlcaY6JE_geOUfJHVLbWTWfpV7SyfE",
      "authorship_tag": "ABX9TyNQ3r+31ZBgosYK+M3/n0TW",
      "include_colab_link": true
    },
    "kernelspec": {
      "name": "python3",
      "display_name": "Python 3"
    },
    "language_info": {
      "name": "python"
    },
    "accelerator": "GPU"
  },
  "cells": [
    {
      "cell_type": "markdown",
      "metadata": {
        "id": "view-in-github",
        "colab_type": "text"
      },
      "source": [
        "<a href=\"https://colab.research.google.com/github/mrazimi99/deep-packet/blob/main/DeepPacket.ipynb\" target=\"_parent\"><img src=\"https://colab.research.google.com/assets/colab-badge.svg\" alt=\"Open In Colab\"/></a>"
      ]
    },
    {
      "cell_type": "code",
      "metadata": {
        "id": "w_DUBMHZuVXh",
        "colab": {
          "base_uri": "https://localhost:8080/"
        },
        "outputId": "39011f40-212b-4a7e-ca42-ed9586303fed"
      },
      "source": [
        "!pip install scapy"
      ],
      "execution_count": 3,
      "outputs": [
        {
          "output_type": "stream",
          "text": [
            "Requirement already satisfied: scapy in /usr/local/lib/python3.7/dist-packages (2.4.5)\n"
          ],
          "name": "stdout"
        }
      ]
    },
    {
      "cell_type": "code",
      "metadata": {
        "id": "6FVOGPeeOnT5"
      },
      "source": [
        "from pathlib import Path\n",
        "import os\n",
        "import os.path\n",
        "import numpy as np\n",
        "import pandas as pd\n",
        "from joblib import Parallel, delayed\n",
        "from scapy.compat import raw\n",
        "from scapy.layers.inet import IP, UDP\n",
        "from scapy.layers.l2 import Ether\n",
        "from scapy.packet import Padding\n",
        "from scapy.utils import rdpcap\n",
        "from scipy import sparse\n",
        "from sklearn.model_selection import train_test_split\n",
        "from imblearn.under_sampling import RandomUnderSampler\n",
        "\n",
        "import torch\n",
        "import torchvision\n",
        "import torchvision.transforms as transforms\n",
        "import torch.nn as nn\n",
        "import torch.nn.functional as F\n",
        "from random import sample\n",
        "import matplotlib.pyplot as plt\n",
        "import math\n",
        "\n",
        "from torch.utils.data import Dataset, DataLoader, random_split\n",
        "from torch.utils.data.sampler import SubsetRandomSampler\n",
        "\n",
        "import time\n",
        "from datetime import timedelta\n",
        "from datetime import datetime\n",
        "import pickle\n",
        "\n",
        "from utils import should_omit_packet, PREFIX_TO_APP_ID, PREFIX_TO_TRAFFIC_ID"
      ],
      "execution_count": null,
      "outputs": []
    },
    {
      "cell_type": "code",
      "metadata": {
        "id": "hcBZoPxz7oix",
        "colab": {
          "base_uri": "https://localhost:8080/"
        },
        "outputId": "489d3a36-7500-4d08-b66b-0349b940fa5f"
      },
      "source": [
        "def remove_ether_header(packet):\n",
        "    if Ether in packet:\n",
        "        return packet[Ether].payload\n",
        "\n",
        "    return packet\n",
        "\n",
        "\n",
        "def mask_ip(packet):\n",
        "    if IP in packet:\n",
        "        packet[IP].src = '0.0.0.0'\n",
        "        packet[IP].dst = '0.0.0.0'\n",
        "\n",
        "    return packet\n",
        "\n",
        "\n",
        "def pad_udp(packet):\n",
        "    if UDP in packet:\n",
        "        # get layers after udp\n",
        "        layer_after = packet[UDP].payload.copy()\n",
        "\n",
        "        # build a padding layer\n",
        "        pad = Padding()\n",
        "        pad.load = '\\x00' * 12\n",
        "\n",
        "        layer_before = packet.copy()\n",
        "        layer_before[UDP].remove_payload()\n",
        "        packet = layer_before / pad / layer_after\n",
        "\n",
        "        return packet\n",
        "\n",
        "    return packet\n",
        "\n",
        "\n",
        "def packet_to_sparse_array(packet, max_length=1500):\n",
        "    arr = np.frombuffer(raw(packet), dtype=np.uint8)[0: max_length] / 255\n",
        "    if len(arr) < max_length:\n",
        "        pad_width = max_length - len(arr)\n",
        "        arr = np.pad(arr, pad_width=(0, pad_width), constant_values=0)\n",
        "\n",
        "    arr = sparse.csr_matrix(arr)\n",
        "    return arr\n",
        "\n",
        "\n",
        "def transform_packet(packet):\n",
        "    if should_omit_packet(packet):\n",
        "        return None\n",
        "\n",
        "    packet = remove_ether_header(packet)\n",
        "    packet = pad_udp(packet)\n",
        "    packet = mask_ip(packet)\n",
        "\n",
        "    arr = packet_to_sparse_array(packet)\n",
        "\n",
        "    return arr\n",
        "\n",
        "pcaps = 'drive/MyDrive/deep-packet/Pcaps/'\n",
        "cache = 'drive/MyDrive/deep-packet/dataset.pickle'\n",
        "dataset = []\n",
        "\n",
        "if not os.path.isfile(cache):\n",
        "    for path in os.listdir(pcaps):\n",
        "        print('Processing ' + path)\n",
        "        cnt = 0\n",
        "        for i, packet in enumerate(rdpcap(pcaps + path)):\n",
        "            #####\n",
        "            if cnt > 500:\n",
        "                break\n",
        "            #####\n",
        "            arr = transform_packet(packet)\n",
        "            if arr is not None:\n",
        "                cnt += 1\n",
        "                # get labels for app identification\n",
        "                prefix = path.split('.')[0].lower()\n",
        "                app_label = PREFIX_TO_APP_ID.get(prefix)\n",
        "                traffic_label = PREFIX_TO_TRAFFIC_ID.get(prefix)\n",
        "                row = {\n",
        "                    'app_label': app_label,\n",
        "                    'traffic_label': traffic_label,\n",
        "                    'feature': arr.todense().tolist()[0]\n",
        "                }\n",
        "                dataset.append(row)\n",
        "    \n",
        "    with open(cache, 'wb') as f:\n",
        "        pickle.dump(dataset, f)\n",
        "else:\n",
        "    with open(cache, 'rb') as f:\n",
        "        dataset = pickle.load(f)"
      ],
      "execution_count": 5,
      "outputs": [
        {
          "output_type": "stream",
          "text": [
            "Processing AIMchat2.pcapng\n",
            "Processing scpDown5.pcap\n",
            "Processing sftp_up_2a.pcap\n",
            "Processing email1b.pcap\n",
            "Processing facebook_audio2a.pcap\n",
            "Processing vpn_vimeo_B.pcap\n",
            "Processing skype_video1a.pcap\n",
            "Processing hangouts_audio4.pcapng\n",
            "Processing skype_chat1a.pcap\n",
            "Processing youtube2.pcap\n",
            "Processing ftps_up_2b.pcap\n",
            "Processing scpDown1.pcap\n",
            "Processing hangouts_audio3.pcapng\n",
            "Processing torYoutube2.pcap\n",
            "Processing ftps_up_2a.pcap\n"
          ],
          "name": "stdout"
        }
      ]
    },
    {
      "cell_type": "code",
      "metadata": {
        "id": "Iv7-3usPJ3u9"
      },
      "source": [
        "traffic_labels = [row['traffic_label'] for row in dataset]\n",
        "app_labels = [row['app_label'] for row in dataset]\n",
        "traffic_classes = set(traffic_labels)\n",
        "app_classes = set(app_labels)\n",
        "\n",
        "traffic_train_all, traffic_test_all = train_test_split(dataset, test_size=0.2, random_state=42, stratify=traffic_labels)\n",
        "app_train_all, app_test_all = train_test_split(dataset, test_size=0.2, random_state=42, stratify=app_labels)"
      ],
      "execution_count": 6,
      "outputs": []
    },
    {
      "cell_type": "code",
      "metadata": {
        "id": "CBA3SdIiLwur",
        "colab": {
          "base_uri": "https://localhost:8080/"
        },
        "outputId": "1796752f-0bc0-420a-b6a6-d0861abec4d2"
      },
      "source": [
        "undersample = RandomUnderSampler(sampling_strategy='majority')\n",
        "traffic_features = [elem['feature'] for elem in traffic_train_all]\n",
        "train_traffic_labels = [elem['traffic_label'] for elem in traffic_train_all]\n",
        "traffic_train, traffic_y = undersample.fit_resample(traffic_features, train_traffic_labels)\n",
        "\n",
        "undersample = RandomUnderSampler(sampling_strategy='majority')\n",
        "app_features = [elem['feature'] for elem in app_train_all]\n",
        "train_app_labels = [elem['app_label'] for elem in app_train_all]\n",
        "app_train, app_y = undersample.fit_resample(app_features, train_app_labels)"
      ],
      "execution_count": 7,
      "outputs": [
        {
          "output_type": "stream",
          "text": [
            "/usr/local/lib/python3.7/dist-packages/sklearn/utils/deprecation.py:87: FutureWarning: Function safe_indexing is deprecated; safe_indexing is deprecated in version 0.22 and will be removed in version 0.24.\n",
            "  warnings.warn(msg, category=FutureWarning)\n",
            "/usr/local/lib/python3.7/dist-packages/sklearn/utils/deprecation.py:87: FutureWarning: Function safe_indexing is deprecated; safe_indexing is deprecated in version 0.22 and will be removed in version 0.24.\n",
            "  warnings.warn(msg, category=FutureWarning)\n"
          ],
          "name": "stderr"
        }
      ]
    },
    {
      "cell_type": "code",
      "metadata": {
        "id": "krD6bp6Fp_UB"
      },
      "source": [
        "traffic_train_final = [{'feature': torch.from_numpy(np.array(f.tolist(), dtype=np.float32)), 'label': l} for f, l in zip(traffic_train, traffic_y)]\n",
        "app_train_final = [{'feature': torch.from_numpy(np.array(f.tolist(), dtype=np.float32)), 'label': l} for f, l in zip(app_train, app_y)]\n",
        "\n",
        "traffic_test_final = [{'feature': torch.from_numpy(np.array(elem['feature'], dtype=np.float32)), 'label': elem['traffic_label']} for elem in traffic_test_all]\n",
        "app_test_final = [{'feature': torch.from_numpy(np.array(elem['feature'], dtype=np.float32)), 'label': elem['app_label']} for elem in app_test_all]"
      ],
      "execution_count": 8,
      "outputs": []
    },
    {
      "cell_type": "code",
      "metadata": {
        "id": "QoG1Qy1NQ95i"
      },
      "source": [
        "batch_size = 64\n",
        "num_workers = 2\n",
        "traffic_train_loader = torch.utils.data.DataLoader(traffic_train_final, batch_size=batch_size, num_workers=num_workers)\n",
        "app_train_loader = torch.utils.data.DataLoader(app_train_final, batch_size=batch_size, num_workers=num_workers)\n",
        "traffic_test_loader = torch.utils.data.DataLoader(traffic_test_final, batch_size=batch_size, num_workers=num_workers)\n",
        "app_test_loader = torch.utils.data.DataLoader(app_test_final, batch_size=batch_size, num_workers=num_workers)"
      ],
      "execution_count": 9,
      "outputs": []
    },
    {
      "cell_type": "code",
      "metadata": {
        "id": "mmato3xNRhxT"
      },
      "source": [
        "class Model(nn.Module):\n",
        "    def __init__(self, input_num, middle_layers, output_num, act):\n",
        "        super(Model, self).__init__()\n",
        "        self.layers = nn.ModuleList()\n",
        "        self.acts = []\n",
        "\n",
        "        self.layers.append(nn.Linear(input_num, middle_layers[0]))\n",
        "        self.acts.append(act)\n",
        "\n",
        "        for i in range(len(middle_layers) - 1):\n",
        "            self.layers.append(nn.Linear(middle_layers[i], middle_layers[i + 1]))\n",
        "            self.acts.append(act)\n",
        "\n",
        "        self.layers.append(nn.Linear(middle_layers[-1], output_num))\n",
        "\n",
        "    def forward(self, x):\n",
        "\n",
        "        x = x.view(x.size(0), -1)\n",
        "\n",
        "        for i in range(len(self.layers) - 1):\n",
        "            x = self.layers[i](x)\n",
        "            x = self.acts[i](x)\n",
        "\n",
        "        x = self.layers[-1](x)\n",
        "        return x"
      ],
      "execution_count": 10,
      "outputs": []
    },
    {
      "cell_type": "code",
      "metadata": {
        "colab": {
          "base_uri": "https://localhost:8080/"
        },
        "id": "U_9ZsVWjRiwS",
        "outputId": "00e9a6c7-09dd-4aa6-e136-8ca3a4b52a4f"
      },
      "source": [
        "device = torch.device(\"cuda:0\" if torch.cuda.is_available() else \"cpu\")\n",
        "print(device)"
      ],
      "execution_count": 11,
      "outputs": [
        {
          "output_type": "stream",
          "text": [
            "cuda:0\n"
          ],
          "name": "stdout"
        }
      ]
    },
    {
      "cell_type": "code",
      "metadata": {
        "id": "6ucN-6xXRswA"
      },
      "source": [
        "def fit(model, train_loader, device, criterion, optimizer, num_epochs=10):\n",
        "    total_time = 0.\n",
        "    loss_per_epoch = {e + 1 : 0 for e in range(num_epochs)}\n",
        "\n",
        "    for epoch in range(num_epochs):\n",
        "        train_loss = 0.\n",
        "        d1 = datetime.now()\n",
        "\n",
        "        for elem in train_loader:\n",
        "            byte_array = elem['feature'].to(device)\n",
        "            labels = elem['label'].to(device)\n",
        "\n",
        "            # Clear gradients w.r.t. parameters\n",
        "            optimizer.zero_grad()\n",
        "\n",
        "            # Forward pass to get output/logits\n",
        "            outputs = model(byte_array)\n",
        "\n",
        "            # Calculate Loss: softmax --> cross entropy loss\n",
        "            loss = criterion(outputs, labels)\n",
        "\n",
        "            # Getting gradients w.r.t. parameters\n",
        "            loss.backward()\n",
        "\n",
        "            # Updating parameters\n",
        "            optimizer.step()\n",
        "            train_loss += loss.item()\n",
        "\n",
        "        average_loss = train_loss / len(train_loader)\n",
        "        d2 = datetime.now()\n",
        "        delta = d2 - d1\n",
        "        seconds = float(delta.total_seconds())\n",
        "        total_time += seconds\n",
        "        loss_per_epoch[epoch + 1] = average_loss\n",
        "        print('epoch %d, train_loss: %.3f, time elapsed: %s seconds' % (epoch + 1, average_loss, seconds))\n",
        "\n",
        "    if math.isnan(max(loss_per_epoch.values())):\n",
        "        print('Could not plot for nan losses.')\n",
        "    else:\n",
        "        plt.plot(list(loss_per_epoch.keys()), list(loss_per_epoch.values()))\n",
        "        plt.title('Avreage Loss Per Epoch')\n",
        "        plt.xlabel('Epoch')\n",
        "        plt.ylabel('Aerage Loss')\n",
        "        plt.xlim(1, num_epochs + 1)\n",
        "        plt.ylim(0, max(loss_per_epoch.values()) + 1)\n",
        "        plt.show()\n",
        "\n",
        "    print('total training time: %.3f minutes' % (total_time / 60))"
      ],
      "execution_count": 12,
      "outputs": []
    },
    {
      "cell_type": "code",
      "metadata": {
        "id": "mK-SAGbxRvsv"
      },
      "source": [
        "def test_model_accuracy(model, test_loader, classes):\n",
        "    # Calculate Accuracy         \n",
        "    correct = 0.\n",
        "    total = 0.\n",
        "    correct_predicted = {id : 0 for id in range(len(classes))}\n",
        "    num_of_labels = {id : 0 for id in range(len(classes))}\n",
        "\n",
        "    # Iterate through test dataset\n",
        "    with torch.no_grad():\n",
        "      for elem in test_loader:\n",
        "        byte_array = elem['feature'].to(device)\n",
        "        labels = elem['label']\n",
        "        outputs = model(byte_array)\n",
        "        _, predicted = torch.max(outputs.data, 1)\n",
        "        total += labels.size(0)\n",
        "\n",
        "        for p, l in zip(predicted, labels):\n",
        "            num_of_labels[l.item()] += 1\n",
        "\n",
        "            if p == l:\n",
        "                correct_predicted[p.to('cpu').item()] += 1\n",
        "\n",
        "        correct += (predicted.to('cpu') == labels).sum().item()\n",
        "\n",
        "    accuracy = 100 * correct / total\n",
        "    print('Accuracy: {}%'.format(accuracy))\n",
        "    return [x / y if y else 0 for x, y in zip(correct_predicted.values(), num_of_labels.values())]"
      ],
      "execution_count": 13,
      "outputs": []
    },
    {
      "cell_type": "code",
      "metadata": {
        "id": "EZWdvJNsZn85"
      },
      "source": [
        "def analyse(model, train_loader, test_loader, classes):\n",
        "    print('Train ', end='')\n",
        "    train_accs = test_model_accuracy(model, train_loader, classes)\n",
        "    print('Test ', end='')\n",
        "    test_accs = test_model_accuracy(model, test_loader, classes)\n",
        "    plt.figure(figsize=(30, 9), dpi= 80, facecolor='w', edgecolor='k')\n",
        "    plt.bar([i - 0.1 for i in range(len(classes))], train_accs, width=0.2, label='Train')\n",
        "    plt.bar([i + 0.1 for i in range(len(classes))], test_accs, width=0.2, label='Test')\n",
        "    plt.legend()\n",
        "    plt.xlim(-0.2, len(classes))\n",
        "    plt.xticks(list(range(len(classes))), classes, rotation='vertical')\n",
        "    plt.title('Comparision Between Test and Train Accuracies')\n",
        "    plt.xlabel('Category')\n",
        "    plt.ylabel('Accuracy')\n",
        "    plt.show()"
      ],
      "execution_count": 14,
      "outputs": []
    },
    {
      "cell_type": "code",
      "metadata": {
        "id": "BEFHAeOgZzwB"
      },
      "source": [
        "input_vector = 1500\n",
        "output_len = max(traffic_classes) + 1\n",
        "model = Model(input_vector, [200, 200] , 10, F.relu)\n",
        "model = model.to(device)\n",
        "\n",
        "learning_rate = 0.01\n",
        "criterion = nn.CrossEntropyLoss()\n",
        "optimizer = torch.optim.SGD(model.parameters(), lr=learning_rate)"
      ],
      "execution_count": 15,
      "outputs": []
    },
    {
      "cell_type": "code",
      "metadata": {
        "colab": {
          "base_uri": "https://localhost:8080/"
        },
        "id": "qK6lhyRpeZV3",
        "outputId": "c6dc01c8-6f0a-4419-87b7-fcadcd33f012"
      },
      "source": [
        "print(traffic_classes)"
      ],
      "execution_count": 16,
      "outputs": [
        {
          "output_type": "stream",
          "text": [
            "{0, 1, 2, 3, 5, 9}\n"
          ],
          "name": "stdout"
        }
      ]
    },
    {
      "cell_type": "code",
      "metadata": {
        "id": "IgrSnLt6s_Us",
        "colab": {
          "base_uri": "https://localhost:8080/",
          "height": 1000
        },
        "outputId": "b3511b79-b0fa-4424-e172-37149a4f49f8"
      },
      "source": [
        "fit(model, traffic_train_loader, device, criterion, optimizer, num_epochs=300)"
      ],
      "execution_count": 17,
      "outputs": [
        {
          "output_type": "stream",
          "text": [
            "epoch 1, train_loss: 2.167, time elapsed: 0.631906 seconds\n",
            "epoch 2, train_loss: 1.783, time elapsed: 0.447686 seconds\n",
            "epoch 3, train_loss: 1.601, time elapsed: 0.423357 seconds\n",
            "epoch 4, train_loss: 1.454, time elapsed: 0.437914 seconds\n",
            "epoch 5, train_loss: 1.363, time elapsed: 0.428701 seconds\n",
            "epoch 6, train_loss: 1.321, time elapsed: 0.428379 seconds\n",
            "epoch 7, train_loss: 1.291, time elapsed: 0.4422 seconds\n",
            "epoch 8, train_loss: 1.259, time elapsed: 0.432447 seconds\n",
            "epoch 9, train_loss: 1.226, time elapsed: 0.433186 seconds\n",
            "epoch 10, train_loss: 1.194, time elapsed: 3.484497 seconds\n",
            "epoch 11, train_loss: 1.162, time elapsed: 3.673189 seconds\n",
            "epoch 12, train_loss: 1.130, time elapsed: 0.461285 seconds\n",
            "epoch 13, train_loss: 1.099, time elapsed: 0.44502 seconds\n",
            "epoch 14, train_loss: 1.068, time elapsed: 0.44784 seconds\n",
            "epoch 15, train_loss: 1.038, time elapsed: 0.448435 seconds\n",
            "epoch 16, train_loss: 1.008, time elapsed: 0.43505 seconds\n",
            "epoch 17, train_loss: 0.979, time elapsed: 0.447521 seconds\n",
            "epoch 18, train_loss: 0.952, time elapsed: 0.43302 seconds\n",
            "epoch 19, train_loss: 0.929, time elapsed: 0.440517 seconds\n",
            "epoch 20, train_loss: 0.910, time elapsed: 0.454116 seconds\n",
            "epoch 21, train_loss: 0.892, time elapsed: 0.441175 seconds\n",
            "epoch 22, train_loss: 0.877, time elapsed: 0.456387 seconds\n",
            "epoch 23, train_loss: 0.864, time elapsed: 0.440493 seconds\n",
            "epoch 24, train_loss: 0.853, time elapsed: 0.458105 seconds\n",
            "epoch 25, train_loss: 0.844, time elapsed: 0.440984 seconds\n",
            "epoch 26, train_loss: 0.835, time elapsed: 0.446735 seconds\n",
            "epoch 27, train_loss: 0.827, time elapsed: 0.444061 seconds\n",
            "epoch 28, train_loss: 0.818, time elapsed: 0.443605 seconds\n",
            "epoch 29, train_loss: 0.809, time elapsed: 0.445743 seconds\n",
            "epoch 30, train_loss: 0.801, time elapsed: 0.435793 seconds\n",
            "epoch 31, train_loss: 0.792, time elapsed: 0.445786 seconds\n",
            "epoch 32, train_loss: 0.784, time elapsed: 0.445982 seconds\n",
            "epoch 33, train_loss: 0.775, time elapsed: 0.453669 seconds\n",
            "epoch 34, train_loss: 0.766, time elapsed: 0.430703 seconds\n",
            "epoch 35, train_loss: 0.758, time elapsed: 0.44742 seconds\n",
            "epoch 36, train_loss: 0.749, time elapsed: 0.459654 seconds\n",
            "epoch 37, train_loss: 0.740, time elapsed: 0.439041 seconds\n",
            "epoch 38, train_loss: 0.731, time elapsed: 0.429222 seconds\n",
            "epoch 39, train_loss: 0.722, time elapsed: 0.430256 seconds\n",
            "epoch 40, train_loss: 0.712, time elapsed: 0.464602 seconds\n",
            "epoch 41, train_loss: 0.703, time elapsed: 0.428299 seconds\n",
            "epoch 42, train_loss: 0.694, time elapsed: 0.45233 seconds\n",
            "epoch 43, train_loss: 0.685, time elapsed: 0.443033 seconds\n",
            "epoch 44, train_loss: 0.675, time elapsed: 0.4403 seconds\n",
            "epoch 45, train_loss: 0.666, time elapsed: 0.457207 seconds\n",
            "epoch 46, train_loss: 0.656, time elapsed: 0.447842 seconds\n",
            "epoch 47, train_loss: 0.648, time elapsed: 0.443158 seconds\n",
            "epoch 48, train_loss: 0.638, time elapsed: 0.428279 seconds\n",
            "epoch 49, train_loss: 0.630, time elapsed: 0.448958 seconds\n",
            "epoch 50, train_loss: 0.620, time elapsed: 0.435986 seconds\n",
            "epoch 51, train_loss: 0.613, time elapsed: 0.457005 seconds\n",
            "epoch 52, train_loss: 0.603, time elapsed: 0.436374 seconds\n",
            "epoch 53, train_loss: 0.596, time elapsed: 0.445324 seconds\n",
            "epoch 54, train_loss: 0.587, time elapsed: 0.462648 seconds\n",
            "epoch 55, train_loss: 0.581, time elapsed: 0.442277 seconds\n",
            "epoch 56, train_loss: 0.572, time elapsed: 0.445302 seconds\n",
            "epoch 57, train_loss: 0.567, time elapsed: 0.435982 seconds\n",
            "epoch 58, train_loss: 0.558, time elapsed: 0.455117 seconds\n",
            "epoch 59, train_loss: 0.554, time elapsed: 0.426554 seconds\n",
            "epoch 60, train_loss: 0.545, time elapsed: 0.458472 seconds\n",
            "epoch 61, train_loss: 0.541, time elapsed: 0.436564 seconds\n",
            "epoch 62, train_loss: 0.532, time elapsed: 0.435623 seconds\n",
            "epoch 63, train_loss: 0.529, time elapsed: 0.447303 seconds\n",
            "epoch 64, train_loss: 0.520, time elapsed: 0.43238 seconds\n",
            "epoch 65, train_loss: 0.517, time elapsed: 0.440037 seconds\n",
            "epoch 66, train_loss: 0.509, time elapsed: 0.437237 seconds\n",
            "epoch 67, train_loss: 0.506, time elapsed: 0.4365 seconds\n",
            "epoch 68, train_loss: 0.498, time elapsed: 0.449591 seconds\n",
            "epoch 69, train_loss: 0.495, time elapsed: 0.432976 seconds\n",
            "epoch 70, train_loss: 0.487, time elapsed: 0.451016 seconds\n",
            "epoch 71, train_loss: 0.484, time elapsed: 0.431773 seconds\n",
            "epoch 72, train_loss: 0.477, time elapsed: 0.462127 seconds\n",
            "epoch 73, train_loss: 0.474, time elapsed: 0.440014 seconds\n",
            "epoch 74, train_loss: 0.467, time elapsed: 0.451337 seconds\n",
            "epoch 75, train_loss: 0.464, time elapsed: 0.430344 seconds\n",
            "epoch 76, train_loss: 0.458, time elapsed: 0.43567 seconds\n",
            "epoch 77, train_loss: 0.454, time elapsed: 0.452007 seconds\n",
            "epoch 78, train_loss: 0.448, time elapsed: 0.443445 seconds\n",
            "epoch 79, train_loss: 0.444, time elapsed: 0.448697 seconds\n",
            "epoch 80, train_loss: 0.439, time elapsed: 0.444061 seconds\n",
            "epoch 81, train_loss: 0.435, time elapsed: 0.463208 seconds\n",
            "epoch 82, train_loss: 0.430, time elapsed: 0.435097 seconds\n",
            "epoch 83, train_loss: 0.426, time elapsed: 0.441752 seconds\n",
            "epoch 84, train_loss: 0.422, time elapsed: 0.462205 seconds\n",
            "epoch 85, train_loss: 0.419, time elapsed: 0.442205 seconds\n",
            "epoch 86, train_loss: 0.415, time elapsed: 0.453328 seconds\n",
            "epoch 87, train_loss: 0.411, time elapsed: 0.449565 seconds\n",
            "epoch 88, train_loss: 0.408, time elapsed: 0.443599 seconds\n",
            "epoch 89, train_loss: 0.404, time elapsed: 0.434817 seconds\n",
            "epoch 90, train_loss: 0.401, time elapsed: 0.434876 seconds\n",
            "epoch 91, train_loss: 0.398, time elapsed: 0.437993 seconds\n",
            "epoch 92, train_loss: 0.394, time elapsed: 0.431803 seconds\n",
            "epoch 93, train_loss: 0.391, time elapsed: 0.443858 seconds\n",
            "epoch 94, train_loss: 0.389, time elapsed: 0.441986 seconds\n",
            "epoch 95, train_loss: 0.386, time elapsed: 0.455993 seconds\n",
            "epoch 96, train_loss: 0.383, time elapsed: 0.438335 seconds\n",
            "epoch 97, train_loss: 0.380, time elapsed: 0.445583 seconds\n",
            "epoch 98, train_loss: 0.378, time elapsed: 0.434633 seconds\n",
            "epoch 99, train_loss: 0.375, time elapsed: 0.441105 seconds\n",
            "epoch 100, train_loss: 0.372, time elapsed: 0.448926 seconds\n",
            "epoch 101, train_loss: 0.370, time elapsed: 0.437642 seconds\n",
            "epoch 102, train_loss: 0.367, time elapsed: 0.454726 seconds\n",
            "epoch 103, train_loss: 0.365, time elapsed: 0.425686 seconds\n",
            "epoch 104, train_loss: 0.362, time elapsed: 0.43599 seconds\n",
            "epoch 105, train_loss: 0.360, time elapsed: 0.434073 seconds\n",
            "epoch 106, train_loss: 0.358, time elapsed: 0.439258 seconds\n",
            "epoch 107, train_loss: 0.355, time elapsed: 0.470572 seconds\n",
            "epoch 108, train_loss: 0.353, time elapsed: 0.465349 seconds\n",
            "epoch 109, train_loss: 0.351, time elapsed: 0.445359 seconds\n",
            "epoch 110, train_loss: 0.349, time elapsed: 0.437267 seconds\n",
            "epoch 111, train_loss: 0.346, time elapsed: 0.443344 seconds\n",
            "epoch 112, train_loss: 0.344, time elapsed: 0.437891 seconds\n",
            "epoch 113, train_loss: 0.342, time elapsed: 0.440443 seconds\n",
            "epoch 114, train_loss: 0.340, time elapsed: 0.44856 seconds\n",
            "epoch 115, train_loss: 0.338, time elapsed: 0.43725 seconds\n",
            "epoch 116, train_loss: 0.336, time elapsed: 0.447474 seconds\n",
            "epoch 117, train_loss: 0.335, time elapsed: 0.452169 seconds\n",
            "epoch 118, train_loss: 0.333, time elapsed: 0.448509 seconds\n",
            "epoch 119, train_loss: 0.331, time elapsed: 0.44552 seconds\n",
            "epoch 120, train_loss: 0.329, time elapsed: 0.461879 seconds\n",
            "epoch 121, train_loss: 0.328, time elapsed: 0.453106 seconds\n",
            "epoch 122, train_loss: 0.326, time elapsed: 0.444141 seconds\n",
            "epoch 123, train_loss: 0.324, time elapsed: 0.436155 seconds\n",
            "epoch 124, train_loss: 0.323, time elapsed: 0.438346 seconds\n",
            "epoch 125, train_loss: 0.321, time elapsed: 0.439673 seconds\n",
            "epoch 126, train_loss: 0.320, time elapsed: 0.45316 seconds\n",
            "epoch 127, train_loss: 0.318, time elapsed: 0.443274 seconds\n",
            "epoch 128, train_loss: 0.317, time elapsed: 0.442199 seconds\n",
            "epoch 129, train_loss: 0.315, time elapsed: 0.437309 seconds\n",
            "epoch 130, train_loss: 0.314, time elapsed: 0.448586 seconds\n",
            "epoch 131, train_loss: 0.312, time elapsed: 0.464284 seconds\n",
            "epoch 132, train_loss: 0.311, time elapsed: 0.435355 seconds\n",
            "epoch 133, train_loss: 0.310, time elapsed: 0.435854 seconds\n",
            "epoch 134, train_loss: 0.308, time elapsed: 0.440045 seconds\n",
            "epoch 135, train_loss: 0.307, time elapsed: 0.449745 seconds\n",
            "epoch 136, train_loss: 0.306, time elapsed: 0.438819 seconds\n",
            "epoch 137, train_loss: 0.304, time elapsed: 0.44614 seconds\n",
            "epoch 138, train_loss: 0.303, time elapsed: 0.440076 seconds\n",
            "epoch 139, train_loss: 0.302, time elapsed: 0.44441 seconds\n",
            "epoch 140, train_loss: 0.301, time elapsed: 0.444112 seconds\n",
            "epoch 141, train_loss: 0.300, time elapsed: 0.453439 seconds\n",
            "epoch 142, train_loss: 0.299, time elapsed: 0.437558 seconds\n",
            "epoch 143, train_loss: 0.297, time elapsed: 0.445504 seconds\n",
            "epoch 144, train_loss: 0.296, time elapsed: 0.456199 seconds\n",
            "epoch 145, train_loss: 0.295, time elapsed: 0.443673 seconds\n",
            "epoch 146, train_loss: 0.294, time elapsed: 0.445999 seconds\n",
            "epoch 147, train_loss: 0.293, time elapsed: 0.43943 seconds\n",
            "epoch 148, train_loss: 0.292, time elapsed: 0.452386 seconds\n",
            "epoch 149, train_loss: 0.291, time elapsed: 0.453558 seconds\n",
            "epoch 150, train_loss: 0.290, time elapsed: 0.46084 seconds\n",
            "epoch 151, train_loss: 0.289, time elapsed: 0.434387 seconds\n",
            "epoch 152, train_loss: 0.288, time elapsed: 0.446141 seconds\n",
            "epoch 153, train_loss: 0.287, time elapsed: 0.445229 seconds\n",
            "epoch 154, train_loss: 0.286, time elapsed: 0.450678 seconds\n",
            "epoch 155, train_loss: 0.285, time elapsed: 0.483257 seconds\n",
            "epoch 156, train_loss: 0.284, time elapsed: 0.436042 seconds\n",
            "epoch 157, train_loss: 0.283, time elapsed: 0.460935 seconds\n",
            "epoch 158, train_loss: 0.282, time elapsed: 0.460322 seconds\n",
            "epoch 159, train_loss: 0.281, time elapsed: 0.462477 seconds\n",
            "epoch 160, train_loss: 0.280, time elapsed: 0.445775 seconds\n",
            "epoch 161, train_loss: 0.279, time elapsed: 0.449501 seconds\n",
            "epoch 162, train_loss: 0.279, time elapsed: 0.449367 seconds\n",
            "epoch 163, train_loss: 0.278, time elapsed: 0.440091 seconds\n",
            "epoch 164, train_loss: 0.277, time elapsed: 0.449849 seconds\n",
            "epoch 165, train_loss: 0.276, time elapsed: 0.448388 seconds\n",
            "epoch 166, train_loss: 0.275, time elapsed: 0.44725 seconds\n",
            "epoch 167, train_loss: 0.274, time elapsed: 0.448751 seconds\n",
            "epoch 168, train_loss: 0.274, time elapsed: 0.464083 seconds\n",
            "epoch 169, train_loss: 0.273, time elapsed: 0.449907 seconds\n",
            "epoch 170, train_loss: 0.272, time elapsed: 0.458234 seconds\n",
            "epoch 171, train_loss: 0.271, time elapsed: 0.439097 seconds\n",
            "epoch 172, train_loss: 0.271, time elapsed: 0.437395 seconds\n",
            "epoch 173, train_loss: 0.270, time elapsed: 0.442269 seconds\n",
            "epoch 174, train_loss: 0.269, time elapsed: 0.442732 seconds\n",
            "epoch 175, train_loss: 0.268, time elapsed: 0.468253 seconds\n",
            "epoch 176, train_loss: 0.268, time elapsed: 0.443118 seconds\n",
            "epoch 177, train_loss: 0.267, time elapsed: 0.454951 seconds\n",
            "epoch 178, train_loss: 0.266, time elapsed: 0.469502 seconds\n",
            "epoch 179, train_loss: 0.265, time elapsed: 0.447263 seconds\n",
            "epoch 180, train_loss: 0.265, time elapsed: 0.455 seconds\n",
            "epoch 181, train_loss: 0.264, time elapsed: 0.449202 seconds\n",
            "epoch 182, train_loss: 0.263, time elapsed: 0.448113 seconds\n",
            "epoch 183, train_loss: 0.263, time elapsed: 0.444999 seconds\n",
            "epoch 184, train_loss: 0.262, time elapsed: 0.464267 seconds\n",
            "epoch 185, train_loss: 0.261, time elapsed: 0.440665 seconds\n",
            "epoch 186, train_loss: 0.261, time elapsed: 0.461772 seconds\n",
            "epoch 187, train_loss: 0.260, time elapsed: 0.462281 seconds\n",
            "epoch 188, train_loss: 0.259, time elapsed: 0.462488 seconds\n",
            "epoch 189, train_loss: 0.259, time elapsed: 0.445138 seconds\n",
            "epoch 190, train_loss: 0.258, time elapsed: 0.451812 seconds\n",
            "epoch 191, train_loss: 0.258, time elapsed: 0.464333 seconds\n",
            "epoch 192, train_loss: 0.257, time elapsed: 0.459509 seconds\n",
            "epoch 193, train_loss: 0.256, time elapsed: 0.469058 seconds\n",
            "epoch 194, train_loss: 0.256, time elapsed: 0.466256 seconds\n",
            "epoch 195, train_loss: 0.255, time elapsed: 0.460114 seconds\n",
            "epoch 196, train_loss: 0.255, time elapsed: 0.447804 seconds\n",
            "epoch 197, train_loss: 0.254, time elapsed: 0.456341 seconds\n",
            "epoch 198, train_loss: 0.253, time elapsed: 0.452886 seconds\n",
            "epoch 199, train_loss: 0.253, time elapsed: 0.461459 seconds\n",
            "epoch 200, train_loss: 0.252, time elapsed: 0.470788 seconds\n",
            "epoch 201, train_loss: 0.252, time elapsed: 0.48126 seconds\n",
            "epoch 202, train_loss: 0.251, time elapsed: 0.466367 seconds\n",
            "epoch 203, train_loss: 0.251, time elapsed: 0.463506 seconds\n",
            "epoch 204, train_loss: 0.250, time elapsed: 0.468669 seconds\n",
            "epoch 205, train_loss: 0.250, time elapsed: 0.457851 seconds\n",
            "epoch 206, train_loss: 0.249, time elapsed: 0.446822 seconds\n",
            "epoch 207, train_loss: 0.248, time elapsed: 0.441805 seconds\n",
            "epoch 208, train_loss: 0.248, time elapsed: 0.465616 seconds\n",
            "epoch 209, train_loss: 0.247, time elapsed: 0.4563 seconds\n",
            "epoch 210, train_loss: 0.247, time elapsed: 0.44841 seconds\n",
            "epoch 211, train_loss: 0.246, time elapsed: 0.451083 seconds\n",
            "epoch 212, train_loss: 0.246, time elapsed: 0.451329 seconds\n",
            "epoch 213, train_loss: 0.245, time elapsed: 0.456068 seconds\n",
            "epoch 214, train_loss: 0.245, time elapsed: 0.449056 seconds\n",
            "epoch 215, train_loss: 0.244, time elapsed: 0.449362 seconds\n",
            "epoch 216, train_loss: 0.244, time elapsed: 0.438476 seconds\n",
            "epoch 217, train_loss: 0.243, time elapsed: 0.458827 seconds\n",
            "epoch 218, train_loss: 0.243, time elapsed: 0.455641 seconds\n",
            "epoch 219, train_loss: 0.242, time elapsed: 0.452265 seconds\n",
            "epoch 220, train_loss: 0.242, time elapsed: 0.450711 seconds\n",
            "epoch 221, train_loss: 0.242, time elapsed: 0.44545 seconds\n",
            "epoch 222, train_loss: 0.241, time elapsed: 0.461425 seconds\n",
            "epoch 223, train_loss: 0.241, time elapsed: 0.458104 seconds\n",
            "epoch 224, train_loss: 0.240, time elapsed: 0.454157 seconds\n",
            "epoch 225, train_loss: 0.240, time elapsed: 0.460881 seconds\n",
            "epoch 226, train_loss: 0.239, time elapsed: 0.466748 seconds\n",
            "epoch 227, train_loss: 0.239, time elapsed: 0.452937 seconds\n",
            "epoch 228, train_loss: 0.238, time elapsed: 0.457183 seconds\n",
            "epoch 229, train_loss: 0.238, time elapsed: 0.457114 seconds\n",
            "epoch 230, train_loss: 0.238, time elapsed: 0.450163 seconds\n",
            "epoch 231, train_loss: 0.237, time elapsed: 0.449633 seconds\n",
            "epoch 232, train_loss: 0.237, time elapsed: 0.447714 seconds\n",
            "epoch 233, train_loss: 0.236, time elapsed: 0.450507 seconds\n",
            "epoch 234, train_loss: 0.236, time elapsed: 0.45794 seconds\n",
            "epoch 235, train_loss: 0.235, time elapsed: 0.463154 seconds\n",
            "epoch 236, train_loss: 0.235, time elapsed: 0.45596 seconds\n",
            "epoch 237, train_loss: 0.235, time elapsed: 0.45326 seconds\n",
            "epoch 238, train_loss: 0.234, time elapsed: 0.457266 seconds\n",
            "epoch 239, train_loss: 0.234, time elapsed: 0.460206 seconds\n",
            "epoch 240, train_loss: 0.233, time elapsed: 0.470525 seconds\n",
            "epoch 241, train_loss: 0.233, time elapsed: 0.460718 seconds\n",
            "epoch 242, train_loss: 0.233, time elapsed: 0.460847 seconds\n",
            "epoch 243, train_loss: 0.232, time elapsed: 0.440976 seconds\n",
            "epoch 244, train_loss: 0.232, time elapsed: 0.449453 seconds\n",
            "epoch 245, train_loss: 0.231, time elapsed: 0.451948 seconds\n",
            "epoch 246, train_loss: 0.231, time elapsed: 0.449999 seconds\n",
            "epoch 247, train_loss: 0.231, time elapsed: 0.467129 seconds\n",
            "epoch 248, train_loss: 0.230, time elapsed: 0.447986 seconds\n",
            "epoch 249, train_loss: 0.230, time elapsed: 0.453305 seconds\n",
            "epoch 250, train_loss: 0.229, time elapsed: 0.453652 seconds\n",
            "epoch 251, train_loss: 0.229, time elapsed: 0.459725 seconds\n",
            "epoch 252, train_loss: 0.229, time elapsed: 0.442419 seconds\n",
            "epoch 253, train_loss: 0.228, time elapsed: 0.455116 seconds\n",
            "epoch 254, train_loss: 0.228, time elapsed: 0.468863 seconds\n",
            "epoch 255, train_loss: 0.227, time elapsed: 0.446716 seconds\n",
            "epoch 256, train_loss: 0.227, time elapsed: 0.459386 seconds\n",
            "epoch 257, train_loss: 0.227, time elapsed: 0.461665 seconds\n",
            "epoch 258, train_loss: 0.226, time elapsed: 0.451437 seconds\n",
            "epoch 259, train_loss: 0.226, time elapsed: 0.463927 seconds\n",
            "epoch 260, train_loss: 0.226, time elapsed: 0.46809 seconds\n",
            "epoch 261, train_loss: 0.225, time elapsed: 0.44773 seconds\n",
            "epoch 262, train_loss: 0.225, time elapsed: 0.456549 seconds\n",
            "epoch 263, train_loss: 0.224, time elapsed: 0.447087 seconds\n",
            "epoch 264, train_loss: 0.224, time elapsed: 0.460281 seconds\n",
            "epoch 265, train_loss: 0.224, time elapsed: 0.458107 seconds\n",
            "epoch 266, train_loss: 0.223, time elapsed: 0.459803 seconds\n",
            "epoch 267, train_loss: 0.223, time elapsed: 0.446135 seconds\n",
            "epoch 268, train_loss: 0.223, time elapsed: 0.440604 seconds\n",
            "epoch 269, train_loss: 0.222, time elapsed: 0.453116 seconds\n",
            "epoch 270, train_loss: 0.222, time elapsed: 0.448752 seconds\n",
            "epoch 271, train_loss: 0.222, time elapsed: 0.453583 seconds\n",
            "epoch 272, train_loss: 0.221, time elapsed: 0.453776 seconds\n",
            "epoch 273, train_loss: 0.221, time elapsed: 0.458878 seconds\n",
            "epoch 274, train_loss: 0.221, time elapsed: 0.455708 seconds\n",
            "epoch 275, train_loss: 0.220, time elapsed: 0.440005 seconds\n",
            "epoch 276, train_loss: 0.220, time elapsed: 0.468593 seconds\n",
            "epoch 277, train_loss: 0.219, time elapsed: 0.451765 seconds\n",
            "epoch 278, train_loss: 0.219, time elapsed: 0.458525 seconds\n",
            "epoch 279, train_loss: 0.219, time elapsed: 0.442231 seconds\n",
            "epoch 280, train_loss: 0.218, time elapsed: 0.459037 seconds\n",
            "epoch 281, train_loss: 0.218, time elapsed: 0.440485 seconds\n",
            "epoch 282, train_loss: 0.218, time elapsed: 0.453115 seconds\n",
            "epoch 283, train_loss: 0.217, time elapsed: 0.450271 seconds\n",
            "epoch 284, train_loss: 0.217, time elapsed: 0.455232 seconds\n",
            "epoch 285, train_loss: 0.217, time elapsed: 0.449358 seconds\n",
            "epoch 286, train_loss: 0.216, time elapsed: 0.454821 seconds\n",
            "epoch 287, train_loss: 0.216, time elapsed: 0.45868 seconds\n",
            "epoch 288, train_loss: 0.216, time elapsed: 0.447031 seconds\n",
            "epoch 289, train_loss: 0.215, time elapsed: 0.456137 seconds\n",
            "epoch 290, train_loss: 0.215, time elapsed: 0.449349 seconds\n",
            "epoch 291, train_loss: 0.215, time elapsed: 0.45343 seconds\n",
            "epoch 292, train_loss: 0.214, time elapsed: 0.438561 seconds\n",
            "epoch 293, train_loss: 0.214, time elapsed: 0.458584 seconds\n",
            "epoch 294, train_loss: 0.214, time elapsed: 0.459159 seconds\n",
            "epoch 295, train_loss: 0.213, time elapsed: 0.450492 seconds\n",
            "epoch 296, train_loss: 0.213, time elapsed: 0.459442 seconds\n",
            "epoch 297, train_loss: 0.213, time elapsed: 0.438471 seconds\n",
            "epoch 298, train_loss: 0.212, time elapsed: 0.458132 seconds\n",
            "epoch 299, train_loss: 0.212, time elapsed: 0.44054 seconds\n",
            "epoch 300, train_loss: 0.212, time elapsed: 0.441572 seconds\n"
          ],
          "name": "stdout"
        },
        {
          "output_type": "display_data",
          "data": {
            "image/png": "[encoded data removed]",
            "text/plain": [
              "<Figure size 432x288 with 1 Axes>"
            ]
          },
          "metadata": {
            "tags": [],
            "needs_background": "light"
          }
        },
        {
          "output_type": "stream",
          "text": [
            "total training time: 2.353 minutes\n"
          ],
          "name": "stdout"
        }
      ]
    },
    {
      "cell_type": "code",
      "metadata": {
        "id": "NjcN1DvUfvEC",
        "colab": {
          "base_uri": "https://localhost:8080/",
          "height": 499
        },
        "outputId": "3f543915-153d-4287-c42d-113bca6e0c83"
      },
      "source": [
        "print(traffic_classes)\n",
        "classes = [i for i in range(max(traffic_classes) + 1)]\n",
        "print(classes)\n",
        "analyse(model, traffic_train_loader, traffic_test_loader, classes)"
      ],
      "execution_count": 18,
      "outputs": [
        {
          "output_type": "stream",
          "text": [
            "{0, 1, 2, 3, 5, 9}\n",
            "[0, 1, 2, 3, 4, 5, 6, 7, 8, 9]\n",
            "Train Accuracy: 83.36118405347338%\n",
            "Test Accuracy: 69.91028295376121%\n"
          ],
          "name": "stdout"
        },
        {
          "output_type": "display_data",
          "data": {
            "image/png": "[encoded data removed]",
            "text/plain": [
              "<Figure size 2400x720 with 1 Axes>"
            ]
          },
          "metadata": {
            "tags": []
          }
        }
      ]
    }
  ]
}