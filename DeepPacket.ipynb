{
  "nbformat": 4,
  "nbformat_minor": 0,
  "metadata": {
    "colab": {
      "name": "DeepPacket.ipynb",
      "provenance": [],
      "collapsed_sections": [],
      "mount_file_id": "1uAWlcaY6JE_geOUfJHVLbWTWfpV7SyfE",
      "authorship_tag": "ABX9TyO6Xq/hdU9RpqX5Hffde/qe",
      "include_colab_link": true
    },
    "kernelspec": {
      "name": "python3",
      "display_name": "Python 3"
    },
    "language_info": {
      "name": "python"
    },
    "accelerator": "GPU"
  },
  "cells": [
    {
      "cell_type": "markdown",
      "metadata": {
        "id": "view-in-github",
        "colab_type": "text"
      },
      "source": [
        "<a href=\"https://colab.research.google.com/github/mrazimi99/deep-packet/blob/main/DeepPacket.ipynb\" target=\"_parent\"><img src=\"https://colab.research.google.com/assets/colab-badge.svg\" alt=\"Open In Colab\"/></a>"
      ]
    },
    {
      "cell_type": "code",
      "metadata": {
        "id": "wQKgG_ESe-rc"
      },
      "source": [
        "# !apt install axel\n",
        "# !apt install dtrx\n",
        "# !apt install tshark"
      ],
      "execution_count": null,
      "outputs": []
    },
    {
      "cell_type": "code",
      "metadata": {
        "id": "w_DUBMHZuVXh",
        "colab": {
          "base_uri": "https://localhost:8080/"
        },
        "outputId": "cf563f1f-e7e4-4ccd-f5da-e4edb118a9b4"
      },
      "source": [
        "!pip install scapy"
      ],
      "execution_count": 3,
      "outputs": [
        {
          "output_type": "stream",
          "text": [
            "Requirement already satisfied: scapy in /usr/local/lib/python3.7/dist-packages (2.4.5)\n"
          ],
          "name": "stdout"
        }
      ]
    },
    {
      "cell_type": "code",
      "metadata": {
        "colab": {
          "base_uri": "https://localhost:8080/"
        },
        "id": "6FVOGPeeOnT5",
        "outputId": "3dc9e3a6-1c7a-4479-8148-cd54669d4f4e"
      },
      "source": [
        "from pathlib import Path\n",
        "import os\n",
        "import os.path\n",
        "import numpy as np\n",
        "import pandas as pd\n",
        "from joblib import Parallel, delayed\n",
        "from scapy.compat import raw\n",
        "from scapy.layers.inet import IP, UDP\n",
        "from scapy.layers.l2 import Ether\n",
        "from scapy.packet import Padding\n",
        "from scapy.utils import rdpcap, PcapReader\n",
        "from scipy import sparse\n",
        "from sklearn.model_selection import train_test_split\n",
        "from imblearn.under_sampling import RandomUnderSampler\n",
        "\n",
        "import torch\n",
        "import torchvision\n",
        "import torchvision.transforms as transforms\n",
        "import torch.nn as nn\n",
        "import torch.nn.functional as F\n",
        "from random import sample\n",
        "import matplotlib.pyplot as plt\n",
        "import math\n",
        "\n",
        "from torch.utils.data import Dataset, DataLoader, random_split\n",
        "from torch.utils.data.sampler import SubsetRandomSampler\n",
        "\n",
        "import time\n",
        "from datetime import timedelta\n",
        "from datetime import datetime\n",
        "import pickle\n",
        "\n",
        "import sys\n",
        "sys.path.append('drive/MyDrive/deep_packet')\n",
        "from utils import should_omit_packet, PREFIX_TO_APP_ID, PREFIX_TO_TRAFFIC_ID, ID_TO_APP, ID_TO_TRAFFIC"
      ],
      "execution_count": 4,
      "outputs": [
        {
          "output_type": "stream",
          "text": [
            "/usr/local/lib/python3.7/dist-packages/sklearn/externals/six.py:31: FutureWarning: The module is deprecated in version 0.21 and will be removed in version 0.23 since we've dropped support for Python 2.7. Please rely on the official version of six (https://pypi.org/project/six/).\n",
            "  \"(https://pypi.org/project/six/).\", FutureWarning)\n",
            "/usr/local/lib/python3.7/dist-packages/sklearn/utils/deprecation.py:144: FutureWarning: The sklearn.neighbors.base module is  deprecated in version 0.22 and will be removed in version 0.24. The corresponding classes / functions should instead be imported from sklearn.neighbors. Anything that cannot be imported from sklearn.neighbors is now part of the private API.\n",
            "  warnings.warn(message, FutureWarning)\n"
          ],
          "name": "stderr"
        }
      ]
    },
    {
      "cell_type": "code",
      "metadata": {
        "id": "hcBZoPxz7oix"
      },
      "source": [
        "def remove_ether_header(packet):\n",
        "    if Ether in packet:\n",
        "        return packet[Ether].payload\n",
        "\n",
        "    return packet\n",
        "\n",
        "\n",
        "def mask_ip(packet):\n",
        "    if IP in packet:\n",
        "        packet[IP].src = '0.0.0.0'\n",
        "        packet[IP].dst = '0.0.0.0'\n",
        "\n",
        "    return packet\n",
        "\n",
        "\n",
        "def pad_udp(packet):\n",
        "    if UDP in packet:\n",
        "        # get layers after udp\n",
        "        layer_after = packet[UDP].payload.copy()\n",
        "\n",
        "        # build a padding layer\n",
        "        pad = Padding()\n",
        "        pad.load = '\\x00' * 12\n",
        "\n",
        "        layer_before = packet.copy()\n",
        "        layer_before[UDP].remove_payload()\n",
        "        packet = layer_before / pad / layer_after\n",
        "\n",
        "        return packet\n",
        "\n",
        "    return packet\n",
        "\n",
        "\n",
        "def packet_to_sparse_array(packet, max_length=1500):\n",
        "    arr = np.frombuffer(raw(packet), dtype=np.uint8)[0: max_length]     # Divide to 255 later\n",
        "    if len(arr) < max_length:\n",
        "        pad_width = max_length - len(arr)\n",
        "        arr = np.pad(arr, pad_width=(0, pad_width), constant_values=0)\n",
        "\n",
        "    arr = sparse.csr_matrix(arr)\n",
        "    return arr\n",
        "\n",
        "\n",
        "def transform_packet(packet):\n",
        "    if should_omit_packet(packet):\n",
        "        return None\n",
        "\n",
        "    packet = remove_ether_header(packet)\n",
        "    packet = pad_udp(packet)\n",
        "    packet = mask_ip(packet)\n",
        "\n",
        "    arr = packet_to_sparse_array(packet)\n",
        "\n",
        "    return arr\n",
        "\n",
        "pcaps = 'drive/MyDrive/deep_packet/Pcaps/vpn/'\n",
        "cache = 'drive/MyDrive/deep_packet/Dataset/vpn_dataset.pickle'\n",
        "dataset = []\n",
        "\n",
        "# if not os.path.isfile(cache):\n",
        "if False:\n",
        "    for path in os.listdir(pcaps):\n",
        "        print('Processing ' + path)\n",
        "        for i, packet in enumerate(rdpcap(pcaps + path)):\n",
        "            arr = transform_packet(packet)\n",
        "            if arr is not None:\n",
        "                # get labels for app identification\n",
        "                prefix = path.split('.')[0].lower()\n",
        "                app_label = PREFIX_TO_APP_ID.get(prefix)\n",
        "                traffic_label = PREFIX_TO_TRAFFIC_ID.get(prefix)\n",
        "                row = {\n",
        "                    'app_label': app_label,\n",
        "                    'traffic_label': traffic_label,\n",
        "                    'feature': arr.todense().tolist()[0]\n",
        "                }\n",
        "                dataset.append(row)\n",
        "    \n",
        "    with open(cache, 'wb') as f:\n",
        "        pickle.dump(dataset, f)\n",
        "else:\n",
        "    dataset = []\n",
        "    data_dir = 'drive/MyDrive/deep_packet/Dataset/'\n",
        "    for path in os.listdir(data_dir):\n",
        "        with open(data_dir + path, 'rb') as f:\n",
        "            dataset.extend(pickle.load(f))"
      ],
      "execution_count": 5,
      "outputs": []
    },
    {
      "cell_type": "code",
      "metadata": {
        "id": "Iv7-3usPJ3u9"
      },
      "source": [
        "# traffic_labels = [row['traffic_label'] for row in dataset]\n",
        "app_labels = [row['app_label'] for row in dataset]\n",
        "# traffic_classes = set(traffic_labels)\n",
        "app_classes = set(app_labels)\n",
        "\n",
        "# traffic_train_all, traffic_test_all = train_test_split(dataset, test_size=0.2, random_state=42, stratify=traffic_labels)\n",
        "app_train_all, app_test_all = train_test_split(dataset, test_size=0.2, random_state=42, stratify=app_labels)\n",
        "\n",
        "del dataset"
      ],
      "execution_count": 6,
      "outputs": []
    },
    {
      "cell_type": "code",
      "metadata": {
        "id": "CBA3SdIiLwur",
        "colab": {
          "base_uri": "https://localhost:8080/"
        },
        "outputId": "bd5c53bb-2976-4f1b-8b53-b34af74070ef"
      },
      "source": [
        "# undersample = RandomUnderSampler(sampling_strategy='majority')\n",
        "# traffic_features = [elem['feature'] for elem in traffic_train_all]\n",
        "# train_traffic_labels = [elem['traffic_label'] for elem in traffic_train_all]\n",
        "# traffic_train, traffic_y = undersample.fit_resample(traffic_features, train_traffic_labels)\n",
        "# del traffic_features, train_traffic_labels, traffic_train_all\n",
        "\n",
        "undersample = RandomUnderSampler(sampling_strategy='majority')\n",
        "app_features = [elem['feature'] for elem in app_train_all]\n",
        "train_app_labels = [elem['app_label'] for elem in app_train_all]\n",
        "app_train, app_y = undersample.fit_resample(app_features, train_app_labels)\n",
        "del app_features, train_app_labels, app_train_all"
      ],
      "execution_count": 7,
      "outputs": [
        {
          "output_type": "stream",
          "text": [
            "/usr/local/lib/python3.7/dist-packages/sklearn/utils/deprecation.py:87: FutureWarning: Function safe_indexing is deprecated; safe_indexing is deprecated in version 0.22 and will be removed in version 0.24.\n",
            "  warnings.warn(msg, category=FutureWarning)\n"
          ],
          "name": "stderr"
        }
      ]
    },
    {
      "cell_type": "code",
      "metadata": {
        "id": "krD6bp6Fp_UB"
      },
      "source": [
        "# traffic_train_final = [{'feature': torch.from_numpy(np.array([a/255.0 for a in f.tolist()], dtype=np.float32)), 'label': l} for f, l in zip(traffic_train, traffic_y)]\n",
        "# del traffic_train, traffic_y\n",
        "app_train_final = [{'feature': torch.from_numpy(np.array([a/255.0 for a in f.tolist()], dtype=np.float32)), 'label': l} for f, l in zip(app_train, app_y)]\n",
        "del app_train, app_y\n",
        "\n",
        "# traffic_test_final = [{'feature': torch.from_numpy(np.array([a/255.0 for a in elem['feature']], dtype=np.float32)), 'label': elem['traffic_label']} for elem in traffic_test_all]\n",
        "# del traffic_test_all\n",
        "app_test_final = [{'feature': torch.from_numpy(np.array([a/255.0 for a in elem['feature']], dtype=np.float32)), 'label': elem['app_label']} for elem in app_test_all]\n",
        "del app_test_all"
      ],
      "execution_count": 8,
      "outputs": []
    },
    {
      "cell_type": "code",
      "metadata": {
        "id": "QoG1Qy1NQ95i"
      },
      "source": [
        "batch_size = 64\n",
        "num_workers = 2\n",
        "import random\n",
        "# random.shuffle(traffic_train_final)\n",
        "random.shuffle(app_train_final)\n",
        "# traffic_train_loader = torch.utils.data.DataLoader(traffic_train_final, batch_size=batch_size, num_workers=num_workers)\n",
        "app_train_loader = torch.utils.data.DataLoader(app_train_final, batch_size=batch_size, num_workers=num_workers)\n",
        "# traffic_test_loader = torch.utils.data.DataLoader(traffic_test_final, batch_size=batch_size, num_workers=num_workers)\n",
        "app_test_loader = torch.utils.data.DataLoader(app_test_final, batch_size=batch_size, num_workers=num_workers)"
      ],
      "execution_count": 9,
      "outputs": []
    },
    {
      "cell_type": "code",
      "metadata": {
        "id": "mmato3xNRhxT"
      },
      "source": [
        "class Model(nn.Module):\n",
        "    def __init__(self, input_num, middle_layers, output_num, act):\n",
        "        super(Model, self).__init__()\n",
        "        self.layers = nn.ModuleList()\n",
        "        self.acts = []\n",
        "\n",
        "        self.layers.append(nn.Linear(input_num, middle_layers[0]))\n",
        "        self.acts.append(act)\n",
        "\n",
        "        for i in range(len(middle_layers) - 1):\n",
        "            self.layers.append(nn.Linear(middle_layers[i], middle_layers[i + 1]))\n",
        "            self.acts.append(act)\n",
        "\n",
        "        self.layers.append(nn.Linear(middle_layers[-1], output_num))\n",
        "\n",
        "    def forward(self, x):\n",
        "\n",
        "        x = x.view(x.size(0), -1)\n",
        "\n",
        "        for i in range(len(self.layers) - 1):\n",
        "            x = self.layers[i](x)\n",
        "            x = self.acts[i](x)\n",
        "\n",
        "        x = self.layers[-1](x)\n",
        "        return x"
      ],
      "execution_count": 10,
      "outputs": []
    },
    {
      "cell_type": "code",
      "metadata": {
        "colab": {
          "base_uri": "https://localhost:8080/"
        },
        "id": "U_9ZsVWjRiwS",
        "outputId": "ee0908cb-ba66-41d2-f939-103327a60abe"
      },
      "source": [
        "device = torch.device(\"cuda:0\" if torch.cuda.is_available() else \"cpu\")\n",
        "print(device)"
      ],
      "execution_count": 11,
      "outputs": [
        {
          "output_type": "stream",
          "text": [
            "cuda:0\n"
          ],
          "name": "stdout"
        }
      ]
    },
    {
      "cell_type": "code",
      "metadata": {
        "id": "6ucN-6xXRswA"
      },
      "source": [
        "def fit(model, train_loader, device, criterion, optimizer, num_epochs=10):\n",
        "    total_time = 0.\n",
        "    loss_per_epoch = {e + 1 : 0 for e in range(num_epochs)}\n",
        "\n",
        "    for epoch in range(num_epochs):\n",
        "        train_loss = 0.\n",
        "        d1 = datetime.now()\n",
        "\n",
        "        for elem in train_loader:\n",
        "            byte_array = elem['feature'].to(device)\n",
        "            labels = elem['label'].to(device)\n",
        "\n",
        "            # Clear gradients w.r.t. parameters\n",
        "            optimizer.zero_grad()\n",
        "\n",
        "            # Forward pass to get output/logits\n",
        "            outputs = model(byte_array)\n",
        "\n",
        "            # Calculate Loss: softmax --> cross entropy loss\n",
        "            loss = criterion(outputs, labels)\n",
        "\n",
        "            # Getting gradients w.r.t. parameters\n",
        "            loss.backward()\n",
        "\n",
        "            # Updating parameters\n",
        "            optimizer.step()\n",
        "            train_loss += loss.item()\n",
        "\n",
        "        average_loss = train_loss / len(train_loader)\n",
        "        d2 = datetime.now()\n",
        "        delta = d2 - d1\n",
        "        seconds = float(delta.total_seconds())\n",
        "        total_time += seconds\n",
        "        loss_per_epoch[epoch + 1] = average_loss\n",
        "        print('epoch %d, train_loss: %.3f, time elapsed: %s seconds' % (epoch + 1, average_loss, seconds))\n",
        "\n",
        "    if math.isnan(max(loss_per_epoch.values())):\n",
        "        print('Could not plot for nan losses.')\n",
        "    else:\n",
        "        plt.plot(list(loss_per_epoch.keys()), list(loss_per_epoch.values()))\n",
        "        plt.title('Avreage Loss Per Epoch')\n",
        "        plt.xlabel('Epoch')\n",
        "        plt.ylabel('Aerage Loss')\n",
        "        plt.xlim(1, num_epochs + 1)\n",
        "        plt.ylim(0, max(loss_per_epoch.values()) + 1)\n",
        "        plt.show()\n",
        "\n",
        "    print('total training time: %.3f minutes' % (total_time / 60))"
      ],
      "execution_count": 12,
      "outputs": []
    },
    {
      "cell_type": "code",
      "metadata": {
        "id": "mK-SAGbxRvsv"
      },
      "source": [
        "def test_model_accuracy(model, test_loader, classes):\n",
        "    # Calculate Accuracy         \n",
        "    correct = 0.\n",
        "    total = 0.\n",
        "    correct_predicted = {id : 0 for id in range(len(classes))}\n",
        "    num_of_labels = {id : 0 for id in range(len(classes))}\n",
        "    all_predicted = {id : 0 for id in range(len(classes))}\n",
        "\n",
        "    # Iterate through test dataset\n",
        "    with torch.no_grad():\n",
        "      for elem in test_loader:\n",
        "        byte_array = elem['feature'].to(device)\n",
        "        labels = elem['label']\n",
        "        outputs = model(byte_array)\n",
        "        _, predicted = torch.max(outputs.data, 1)\n",
        "        total += labels.size(0)\n",
        "\n",
        "        for p, l in zip(predicted, labels):\n",
        "            num_of_labels[l.item()] += 1\n",
        "            pc = p.to('cpu').item()\n",
        "            all_predicted[pc] += 1\n",
        "\n",
        "            if p == l:\n",
        "                correct_predicted[pc] += 1\n",
        "\n",
        "        correct += (predicted.to('cpu') == labels).sum().item()\n",
        "\n",
        "    accuracy = 100 * correct / total\n",
        "    print('Accuracy: {}%'.format(accuracy))\n",
        "    return [x / y if y else 0 for x, y in zip(correct_predicted.values(), all_predicted.values())], [x / y if y else 0 for x, y in zip(correct_predicted.values(), num_of_labels.values())]"
      ],
      "execution_count": 13,
      "outputs": []
    },
    {
      "cell_type": "code",
      "metadata": {
        "id": "EZWdvJNsZn85"
      },
      "source": [
        "def analyse(model, train_loader, test_loader, classes):\n",
        "    print('Train ', end='')\n",
        "    train_rcs, train_prs = test_model_accuracy(model, train_loader, classes)\n",
        "    print('Test ', end='')\n",
        "    test_rcs, test_prs = test_model_accuracy(model, test_loader, classes)\n",
        "    test_f1 = []\n",
        "\n",
        "    print('Class\\tRc\\tPr\\tF1')\n",
        "    for i, (rc, pr) in enumerate(zip(test_rcs, test_prs)):\n",
        "        f1 = 2 * rc * pr / (rc + pr) if (rc + pr) else 0\n",
        "        test_f1.append(f1)\n",
        "        print(str(i) + '\\t' + str(round(rc, 2)) + '\\t' + str(round(pr, 2)) + '\\t' + str(round(f1, 2)))\n",
        "    print('Avg\\t' + str(round(sum(test_rcs) / len(test_rcs))) + '\\t' + str(round(sum(test_prs) / len(test_prs))) + '\\t' + str(round(sum(test_f1) / len(test_f1))))\n",
        "\n",
        "    plt.figure(figsize=(30, 9), dpi= 80, facecolor='w', edgecolor='k')\n",
        "    plt.bar([i - 0.1 for i in range(len(classes))], train_prs, width=0.2, label='Train')\n",
        "    plt.bar([i + 0.1 for i in range(len(classes))], test_prs, width=0.2, label='Test')\n",
        "    plt.legend()\n",
        "    plt.xlim(-0.2, len(classes))\n",
        "    plt.xticks(list(range(len(classes))), classes, rotation='vertical')\n",
        "    plt.title('Comparision Between Test and Train Accuracies')\n",
        "    plt.xlabel('Category')\n",
        "    plt.ylabel('Accuracy')\n",
        "    plt.show()"
      ],
      "execution_count": 14,
      "outputs": []
    },
    {
      "cell_type": "code",
      "metadata": {
        "id": "BEFHAeOgZzwB"
      },
      "source": [
        "input_vector = 1500\n",
        "\n",
        "# output_len = max(traffic_classes) + 1\n",
        "output_len = max(app_classes) + 1\n",
        "\n",
        "model = Model(input_vector, [200, 100, 50] , output_len, F.relu)\n",
        "model = model.to(device)\n",
        "\n",
        "learning_rate = 0.05\n",
        "criterion = nn.CrossEntropyLoss()\n",
        "optimizer = torch.optim.SGD(model.parameters(), lr=learning_rate)"
      ],
      "execution_count": 15,
      "outputs": []
    },
    {
      "cell_type": "code",
      "metadata": {
        "colab": {
          "base_uri": "https://localhost:8080/"
        },
        "id": "qK6lhyRpeZV3",
        "outputId": "da3932db-5825-4be4-ac28-40bad250c882"
      },
      "source": [
        "# print(traffic_classes)\n",
        "print(app_classes)"
      ],
      "execution_count": 16,
      "outputs": [
        {
          "output_type": "stream",
          "text": [
            "{0, 1, 2, 3, 4, 5, 6, 7, 8, 9, 10, 11, 12, 14, 15, 16}\n"
          ],
          "name": "stdout"
        }
      ]
    },
    {
      "cell_type": "code",
      "metadata": {
        "id": "IgrSnLt6s_Us",
        "colab": {
          "base_uri": "https://localhost:8080/",
          "height": 1000
        },
        "outputId": "6280f470-317b-49d9-cfa6-e32d030dee01"
      },
      "source": [
        "# fit(model, traffic_train_loader, device, criterion, optimizer, num_epochs=200)\n",
        "fit(model, app_train_loader, device, criterion, optimizer, num_epochs=200)"
      ],
      "execution_count": 18,
      "outputs": [
        {
          "output_type": "stream",
          "text": [
            "epoch 1, train_loss: 1.451, time elapsed: 11.566765 seconds\n",
            "epoch 2, train_loss: 0.530, time elapsed: 11.136521 seconds\n",
            "epoch 3, train_loss: 0.304, time elapsed: 10.91869 seconds\n",
            "epoch 4, train_loss: 0.289, time elapsed: 11.023295 seconds\n",
            "epoch 5, train_loss: 0.223, time elapsed: 11.137987 seconds\n",
            "epoch 6, train_loss: 0.190, time elapsed: 10.983711 seconds\n",
            "epoch 7, train_loss: 0.162, time elapsed: 11.067984 seconds\n",
            "epoch 8, train_loss: 0.185, time elapsed: 10.971045 seconds\n",
            "epoch 9, train_loss: 0.149, time elapsed: 10.973469 seconds\n",
            "epoch 10, train_loss: 0.136, time elapsed: 11.298604 seconds\n",
            "epoch 11, train_loss: 0.128, time elapsed: 10.938595 seconds\n",
            "epoch 12, train_loss: 0.111, time elapsed: 10.838002 seconds\n",
            "epoch 13, train_loss: 0.114, time elapsed: 10.810298 seconds\n",
            "epoch 14, train_loss: 0.092, time elapsed: 11.05622 seconds\n",
            "epoch 15, train_loss: 0.118, time elapsed: 11.206305 seconds\n",
            "epoch 16, train_loss: 0.098, time elapsed: 11.060811 seconds\n",
            "epoch 17, train_loss: 0.079, time elapsed: 11.030449 seconds\n",
            "epoch 18, train_loss: 0.084, time elapsed: 10.981798 seconds\n",
            "epoch 19, train_loss: 0.071, time elapsed: 10.91252 seconds\n",
            "epoch 20, train_loss: 0.124, time elapsed: 10.864468 seconds\n",
            "epoch 21, train_loss: 0.080, time elapsed: 11.237243 seconds\n",
            "epoch 22, train_loss: 0.126, time elapsed: 11.148219 seconds\n",
            "epoch 23, train_loss: 0.081, time elapsed: 10.97581 seconds\n",
            "epoch 24, train_loss: 0.068, time elapsed: 11.105015 seconds\n",
            "epoch 25, train_loss: 0.064, time elapsed: 11.012028 seconds\n",
            "epoch 26, train_loss: 0.088, time elapsed: 10.849092 seconds\n",
            "epoch 27, train_loss: 0.060, time elapsed: 10.873978 seconds\n",
            "epoch 28, train_loss: 0.052, time elapsed: 11.129419 seconds\n",
            "epoch 29, train_loss: 0.049, time elapsed: 11.130172 seconds\n",
            "epoch 30, train_loss: 0.047, time elapsed: 10.934203 seconds\n",
            "epoch 31, train_loss: 0.044, time elapsed: 11.145934 seconds\n",
            "epoch 32, train_loss: 0.043, time elapsed: 11.008562 seconds\n",
            "epoch 33, train_loss: 0.041, time elapsed: 10.959894 seconds\n",
            "epoch 34, train_loss: 0.040, time elapsed: 10.948253 seconds\n",
            "epoch 35, train_loss: 0.039, time elapsed: 11.016053 seconds\n",
            "epoch 36, train_loss: 0.038, time elapsed: 10.836748 seconds\n",
            "epoch 37, train_loss: 0.037, time elapsed: 10.956983 seconds\n",
            "epoch 38, train_loss: 0.036, time elapsed: 10.908412 seconds\n",
            "epoch 39, train_loss: 0.035, time elapsed: 11.109463 seconds\n",
            "epoch 40, train_loss: 0.034, time elapsed: 10.827869 seconds\n",
            "epoch 41, train_loss: 0.033, time elapsed: 10.861552 seconds\n",
            "epoch 42, train_loss: 0.033, time elapsed: 10.960149 seconds\n",
            "epoch 43, train_loss: 0.032, time elapsed: 10.81122 seconds\n",
            "epoch 44, train_loss: 0.031, time elapsed: 10.896069 seconds\n",
            "epoch 45, train_loss: 0.030, time elapsed: 10.856669 seconds\n",
            "epoch 46, train_loss: 0.030, time elapsed: 10.719479 seconds\n",
            "epoch 47, train_loss: 0.029, time elapsed: 10.710946 seconds\n",
            "epoch 48, train_loss: 0.029, time elapsed: 11.027874 seconds\n",
            "epoch 49, train_loss: 0.174, time elapsed: 10.91038 seconds\n",
            "epoch 50, train_loss: 0.128, time elapsed: 10.762708 seconds\n",
            "epoch 51, train_loss: 0.070, time elapsed: 10.949953 seconds\n",
            "epoch 52, train_loss: 0.050, time elapsed: 10.760718 seconds\n",
            "epoch 53, train_loss: 0.052, time elapsed: 11.00072 seconds\n",
            "epoch 54, train_loss: 0.042, time elapsed: 10.938528 seconds\n",
            "epoch 55, train_loss: 0.042, time elapsed: 10.897356 seconds\n",
            "epoch 56, train_loss: 0.032, time elapsed: 10.920186 seconds\n",
            "epoch 57, train_loss: 0.038, time elapsed: 10.901357 seconds\n",
            "epoch 58, train_loss: 0.028, time elapsed: 10.962069 seconds\n",
            "epoch 59, train_loss: 0.027, time elapsed: 10.970653 seconds\n",
            "epoch 60, train_loss: 0.026, time elapsed: 10.866544 seconds\n",
            "epoch 61, train_loss: 0.025, time elapsed: 10.782359 seconds\n",
            "epoch 62, train_loss: 0.025, time elapsed: 10.977028 seconds\n",
            "epoch 63, train_loss: 0.024, time elapsed: 10.727791 seconds\n",
            "epoch 64, train_loss: 0.024, time elapsed: 10.962626 seconds\n",
            "epoch 65, train_loss: 0.023, time elapsed: 10.91192 seconds\n",
            "epoch 66, train_loss: 0.023, time elapsed: 10.80784 seconds\n",
            "epoch 67, train_loss: 0.022, time elapsed: 10.813099 seconds\n",
            "epoch 68, train_loss: 0.023, time elapsed: 10.815029 seconds\n",
            "epoch 69, train_loss: 0.022, time elapsed: 10.82957 seconds\n",
            "epoch 70, train_loss: 0.022, time elapsed: 11.116144 seconds\n",
            "epoch 71, train_loss: 0.021, time elapsed: 11.110534 seconds\n",
            "epoch 72, train_loss: 0.021, time elapsed: 10.77938 seconds\n",
            "epoch 73, train_loss: 0.021, time elapsed: 10.942109 seconds\n",
            "epoch 74, train_loss: 0.021, time elapsed: 10.950067 seconds\n",
            "epoch 75, train_loss: 0.020, time elapsed: 10.736679 seconds\n",
            "epoch 76, train_loss: 0.020, time elapsed: 11.07459 seconds\n",
            "epoch 77, train_loss: 0.019, time elapsed: 10.866228 seconds\n",
            "epoch 78, train_loss: 0.020, time elapsed: 10.74643 seconds\n",
            "epoch 79, train_loss: 0.019, time elapsed: 10.69472 seconds\n",
            "epoch 80, train_loss: 0.019, time elapsed: 10.950112 seconds\n",
            "epoch 81, train_loss: 0.019, time elapsed: 10.962793 seconds\n",
            "epoch 82, train_loss: 0.019, time elapsed: 10.866482 seconds\n",
            "epoch 83, train_loss: 0.019, time elapsed: 10.901349 seconds\n",
            "epoch 84, train_loss: 0.018, time elapsed: 10.929754 seconds\n",
            "epoch 85, train_loss: 0.019, time elapsed: 10.956997 seconds\n",
            "epoch 86, train_loss: 0.018, time elapsed: 10.840653 seconds\n",
            "epoch 87, train_loss: 0.018, time elapsed: 10.770504 seconds\n",
            "epoch 88, train_loss: 0.018, time elapsed: 10.665182 seconds\n",
            "epoch 89, train_loss: 0.018, time elapsed: 10.978836 seconds\n",
            "epoch 90, train_loss: 0.049, time elapsed: 10.853285 seconds\n",
            "epoch 91, train_loss: 0.057, time elapsed: 10.945044 seconds\n",
            "epoch 92, train_loss: 0.029, time elapsed: 11.025281 seconds\n",
            "epoch 93, train_loss: 0.067, time elapsed: 10.963408 seconds\n",
            "epoch 94, train_loss: 0.026, time elapsed: 10.859324 seconds\n",
            "epoch 95, train_loss: 0.023, time elapsed: 10.915338 seconds\n",
            "epoch 96, train_loss: 0.021, time elapsed: 10.964543 seconds\n",
            "epoch 97, train_loss: 0.023, time elapsed: 10.988183 seconds\n",
            "epoch 98, train_loss: 0.018, time elapsed: 10.989218 seconds\n",
            "epoch 99, train_loss: 0.016, time elapsed: 11.047247 seconds\n",
            "epoch 100, train_loss: 0.016, time elapsed: 10.793137 seconds\n",
            "epoch 101, train_loss: 0.016, time elapsed: 10.862173 seconds\n",
            "epoch 102, train_loss: 0.016, time elapsed: 10.824635 seconds\n",
            "epoch 103, train_loss: 0.016, time elapsed: 10.916306 seconds\n",
            "epoch 104, train_loss: 0.015, time elapsed: 10.926729 seconds\n",
            "epoch 105, train_loss: 0.015, time elapsed: 10.946178 seconds\n",
            "epoch 106, train_loss: 0.016, time elapsed: 10.969429 seconds\n",
            "epoch 107, train_loss: 0.015, time elapsed: 10.840056 seconds\n",
            "epoch 108, train_loss: 0.015, time elapsed: 10.825831 seconds\n",
            "epoch 109, train_loss: 0.015, time elapsed: 10.895543 seconds\n",
            "epoch 110, train_loss: 0.015, time elapsed: 10.905706 seconds\n",
            "epoch 111, train_loss: 0.015, time elapsed: 10.924978 seconds\n",
            "epoch 112, train_loss: 0.014, time elapsed: 11.06754 seconds\n",
            "epoch 113, train_loss: 0.014, time elapsed: 10.953077 seconds\n",
            "epoch 114, train_loss: 0.015, time elapsed: 11.215143 seconds\n",
            "epoch 115, train_loss: 0.014, time elapsed: 10.857252 seconds\n",
            "epoch 116, train_loss: 0.014, time elapsed: 11.18837 seconds\n",
            "epoch 117, train_loss: 0.014, time elapsed: 10.944814 seconds\n",
            "epoch 118, train_loss: 0.014, time elapsed: 10.824324 seconds\n",
            "epoch 119, train_loss: 0.014, time elapsed: 11.125017 seconds\n",
            "epoch 120, train_loss: 0.013, time elapsed: 11.038053 seconds\n",
            "epoch 121, train_loss: 0.013, time elapsed: 10.862275 seconds\n",
            "epoch 122, train_loss: 0.014, time elapsed: 10.904065 seconds\n",
            "epoch 123, train_loss: 0.014, time elapsed: 10.810079 seconds\n",
            "epoch 124, train_loss: 0.013, time elapsed: 10.790262 seconds\n",
            "epoch 125, train_loss: 0.013, time elapsed: 11.131206 seconds\n",
            "epoch 126, train_loss: 0.014, time elapsed: 10.842497 seconds\n",
            "epoch 127, train_loss: 0.013, time elapsed: 10.966782 seconds\n",
            "epoch 128, train_loss: 0.013, time elapsed: 11.128881 seconds\n",
            "epoch 129, train_loss: 0.013, time elapsed: 10.83694 seconds\n",
            "epoch 130, train_loss: 0.013, time elapsed: 10.822808 seconds\n",
            "epoch 131, train_loss: 0.013, time elapsed: 11.225357 seconds\n",
            "epoch 132, train_loss: 0.013, time elapsed: 10.673846 seconds\n",
            "epoch 133, train_loss: 0.013, time elapsed: 10.773529 seconds\n",
            "epoch 134, train_loss: 0.013, time elapsed: 10.974286 seconds\n",
            "epoch 135, train_loss: 0.013, time elapsed: 10.782606 seconds\n",
            "epoch 136, train_loss: 0.013, time elapsed: 11.002568 seconds\n",
            "epoch 137, train_loss: 0.012, time elapsed: 11.007954 seconds\n",
            "epoch 138, train_loss: 0.012, time elapsed: 10.757357 seconds\n",
            "epoch 139, train_loss: 0.013, time elapsed: 10.822292 seconds\n",
            "epoch 140, train_loss: 0.012, time elapsed: 10.734399 seconds\n",
            "epoch 141, train_loss: 0.012, time elapsed: 10.682461 seconds\n",
            "epoch 142, train_loss: 0.012, time elapsed: 11.019829 seconds\n",
            "epoch 143, train_loss: 0.012, time elapsed: 10.8448 seconds\n",
            "epoch 144, train_loss: 0.011, time elapsed: 11.063265 seconds\n",
            "epoch 145, train_loss: 0.012, time elapsed: 10.955029 seconds\n",
            "epoch 146, train_loss: 0.012, time elapsed: 10.95999 seconds\n",
            "epoch 147, train_loss: 0.011, time elapsed: 11.058716 seconds\n",
            "epoch 148, train_loss: 0.012, time elapsed: 11.222054 seconds\n",
            "epoch 149, train_loss: 0.075, time elapsed: 10.884134 seconds\n",
            "epoch 150, train_loss: 0.031, time elapsed: 11.097337 seconds\n",
            "epoch 151, train_loss: 0.022, time elapsed: 10.914744 seconds\n",
            "epoch 152, train_loss: 0.027, time elapsed: 10.959225 seconds\n",
            "epoch 153, train_loss: 0.019, time elapsed: 11.004834 seconds\n",
            "epoch 154, train_loss: 0.015, time elapsed: 10.784755 seconds\n",
            "epoch 155, train_loss: 0.013, time elapsed: 10.669215 seconds\n",
            "epoch 156, train_loss: 0.012, time elapsed: 11.146798 seconds\n",
            "epoch 157, train_loss: 0.011, time elapsed: 11.025199 seconds\n",
            "epoch 158, train_loss: 0.011, time elapsed: 11.034031 seconds\n",
            "epoch 159, train_loss: 0.011, time elapsed: 10.77028 seconds\n",
            "epoch 160, train_loss: 0.011, time elapsed: 10.792219 seconds\n",
            "epoch 161, train_loss: 0.012, time elapsed: 10.887897 seconds\n",
            "epoch 162, train_loss: 0.011, time elapsed: 10.856416 seconds\n",
            "epoch 163, train_loss: 0.011, time elapsed: 10.792008 seconds\n",
            "epoch 164, train_loss: 0.011, time elapsed: 10.903766 seconds\n",
            "epoch 165, train_loss: 0.011, time elapsed: 10.969547 seconds\n",
            "epoch 166, train_loss: 0.011, time elapsed: 10.829799 seconds\n",
            "epoch 167, train_loss: 0.011, time elapsed: 10.848911 seconds\n",
            "epoch 168, train_loss: 0.012, time elapsed: 10.875345 seconds\n",
            "epoch 169, train_loss: 0.011, time elapsed: 10.807165 seconds\n",
            "epoch 170, train_loss: 0.011, time elapsed: 10.727507 seconds\n",
            "epoch 171, train_loss: 0.011, time elapsed: 11.012991 seconds\n",
            "epoch 172, train_loss: 0.011, time elapsed: 10.784359 seconds\n",
            "epoch 173, train_loss: 0.010, time elapsed: 10.839523 seconds\n",
            "epoch 174, train_loss: 0.010, time elapsed: 10.947838 seconds\n",
            "epoch 175, train_loss: 0.011, time elapsed: 10.989081 seconds\n",
            "epoch 176, train_loss: 0.011, time elapsed: 10.804628 seconds\n",
            "epoch 177, train_loss: 0.010, time elapsed: 10.771607 seconds\n",
            "epoch 178, train_loss: 0.011, time elapsed: 10.872163 seconds\n",
            "epoch 179, train_loss: 0.010, time elapsed: 10.752375 seconds\n",
            "epoch 180, train_loss: 0.010, time elapsed: 10.893617 seconds\n",
            "epoch 181, train_loss: 0.011, time elapsed: 10.740332 seconds\n",
            "epoch 182, train_loss: 0.010, time elapsed: 10.990289 seconds\n",
            "epoch 183, train_loss: 0.010, time elapsed: 10.887228 seconds\n",
            "epoch 184, train_loss: 0.010, time elapsed: 10.772987 seconds\n",
            "epoch 185, train_loss: 0.010, time elapsed: 11.0061 seconds\n",
            "epoch 186, train_loss: 0.009, time elapsed: 11.007131 seconds\n",
            "epoch 187, train_loss: 0.010, time elapsed: 10.754306 seconds\n",
            "epoch 188, train_loss: 0.010, time elapsed: 10.888541 seconds\n",
            "epoch 189, train_loss: 0.010, time elapsed: 10.961844 seconds\n",
            "epoch 190, train_loss: 0.010, time elapsed: 10.768277 seconds\n",
            "epoch 191, train_loss: 0.010, time elapsed: 10.925278 seconds\n",
            "epoch 192, train_loss: 0.009, time elapsed: 10.809123 seconds\n",
            "epoch 193, train_loss: 0.010, time elapsed: 10.775093 seconds\n",
            "epoch 194, train_loss: 0.010, time elapsed: 10.833305 seconds\n",
            "epoch 195, train_loss: 0.010, time elapsed: 10.84195 seconds\n",
            "epoch 196, train_loss: 0.009, time elapsed: 10.820969 seconds\n",
            "epoch 197, train_loss: 0.011, time elapsed: 10.97239 seconds\n",
            "epoch 198, train_loss: 0.010, time elapsed: 10.922091 seconds\n",
            "epoch 199, train_loss: 0.009, time elapsed: 10.851367 seconds\n",
            "epoch 200, train_loss: 0.009, time elapsed: 10.953252 seconds\n"
          ],
          "name": "stdout"
        },
        {
          "output_type": "display_data",
          "data": {
            "image/png": "[encoded data removed]",
            "text/plain": [
              "<Figure size 432x288 with 1 Axes>"
            ]
          },
          "metadata": {
            "tags": [],
            "needs_background": "light"
          }
        },
        {
          "output_type": "stream",
          "text": [
            "total training time: 36.414 minutes\n"
          ],
          "name": "stdout"
        }
      ]
    },
    {
      "cell_type": "code",
      "metadata": {
        "id": "NjcN1DvUfvEC",
        "colab": {
          "base_uri": "https://localhost:8080/",
          "height": 735
        },
        "outputId": "37ca73fb-9c99-4c3b-9528-718e494368a3"
      },
      "source": [
        "classes = [i for i in range(max(traffic_classes) + 1)]\n",
        "print(classes)\n",
        "analyse(model, traffic_train_loader, traffic_test_loader, classes)"
      ],
      "execution_count": 39,
      "outputs": [
        {
          "output_type": "stream",
          "text": [
            "[0, 1, 2, 3, 4, 5, 6, 7, 8, 9, 10, 11]\n",
            "Train Accuracy: 99.5091242927268%\n",
            "Test Accuracy: 97.76634236552223%\n",
            "Class\tRc\tPr\tF1\n",
            "0\t0.96\t0.97\t0.96\n",
            "1\t0.95\t0.94\t0.95\n",
            "2\t0.99\t1.0\t0.99\n",
            "3\t0.98\t0.95\t0.97\n",
            "4\t0\t0\t0\n",
            "5\t0.96\t0.98\t0.97\n",
            "6\t0.97\t0.98\t0.98\n",
            "7\t0.99\t0.99\t0.99\n",
            "8\t0.97\t0.99\t0.98\n",
            "9\t0.99\t1.0\t1.0\n",
            "10\t0.99\t1.0\t1.0\n",
            "11\t0.98\t0.99\t0.99\n",
            "Avg\t1\t1\t1\n"
          ],
          "name": "stdout"
        },
        {
          "output_type": "display_data",
          "data": {
            "image/png": "[encoded data removed]",
            "text/plain": [
              "<Figure size 2400x720 with 1 Axes>"
            ]
          },
          "metadata": {
            "tags": []
          }
        }
      ]
    },
    {
      "cell_type": "code",
      "metadata": {
        "colab": {
          "base_uri": "https://localhost:8080/",
          "height": 824
        },
        "id": "KN8318FztwKV",
        "outputId": "0a71d54a-0ac7-4686-9bd5-89101845826b"
      },
      "source": [
        "app_classes = [i for i in range(max(app_classes) + 1)]\n",
        "print(app_classes)\n",
        "analyse(model, app_train_loader, app_test_loader, app_classes)"
      ],
      "execution_count": 19,
      "outputs": [
        {
          "output_type": "stream",
          "text": [
            "[0, 1, 2, 3, 4, 5, 6, 7, 8, 9, 10, 11, 12, 13, 14, 15, 16]\n",
            "Train Accuracy: 99.73957528701894%\n",
            "Test Accuracy: 97.1102355873603%\n",
            "Class\tRc\tPr\tF1\n",
            "0\t0.91\t0.91\t0.91\n",
            "1\t0.93\t0.99\t0.96\n",
            "2\t0.93\t0.97\t0.95\n",
            "3\t1.0\t1.0\t1.0\n",
            "4\t0.92\t0.93\t0.92\n",
            "5\t0.96\t0.98\t0.97\n",
            "6\t0.94\t0.95\t0.94\n",
            "7\t1.0\t1.0\t1.0\n",
            "8\t0.99\t1.0\t1.0\n",
            "9\t1.0\t1.0\t1.0\n",
            "10\t0.99\t0.86\t0.92\n",
            "11\t0.98\t0.98\t0.98\n",
            "12\t1.0\t1.0\t1.0\n",
            "13\t0\t0\t0\n",
            "14\t0.98\t0.98\t0.98\n",
            "15\t0.99\t1.0\t0.99\n",
            "16\t0.99\t0.98\t0.98\n",
            "Avg\t1\t1\t1\n"
          ],
          "name": "stdout"
        },
        {
          "output_type": "display_data",
          "data": {
            "image/png": "[encoded data removed]",
            "text/plain": [
              "<Figure size 2400x720 with 1 Axes>"
            ]
          },
          "metadata": {
            "tags": []
          }
        }
      ]
    }
  ]
}