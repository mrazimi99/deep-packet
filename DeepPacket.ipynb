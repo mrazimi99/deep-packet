{
  "nbformat": 4,
  "nbformat_minor": 0,
  "metadata": {
    "colab": {
      "name": "DeepPacket.ipynb",
      "provenance": [],
      "collapsed_sections": [],
      "mount_file_id": "1uAWlcaY6JE_geOUfJHVLbWTWfpV7SyfE",
      "authorship_tag": "ABX9TyNWTpq2+IYeWxkhxdJBxqeX",
      "include_colab_link": true
    },
    "kernelspec": {
      "name": "python3",
      "display_name": "Python 3"
    },
    "language_info": {
      "name": "python"
    },
    "accelerator": "GPU"
  },
  "cells": [
    {
      "cell_type": "markdown",
      "metadata": {
        "id": "view-in-github",
        "colab_type": "text"
      },
      "source": [
        "<a href=\"https://colab.research.google.com/github/mrazimi99/deep-packet/blob/main/DeepPacket.ipynb\" target=\"_parent\"><img src=\"https://colab.research.google.com/assets/colab-badge.svg\" alt=\"Open In Colab\"/></a>"
      ]
    },
    {
      "cell_type": "code",
      "metadata": {
        "id": "wQKgG_ESe-rc"
      },
      "source": [
        "# !apt install axel\n",
        "# !apt install dtrx\n",
        "# !apt install tshark"
      ],
      "execution_count": 6,
      "outputs": []
    },
    {
      "cell_type": "code",
      "metadata": {
        "id": "CV0PKNslgBcD"
      },
      "source": [
        "# !axel -a -n 10 http://205.174.165.80/CICDataset/ISCX-VPN-NonVPN-2016/Dataset/VPN-PCAPs-02.zip\n",
        "# !aria2c -j 16 http://205.174.165.80/CICDataset/ISCX-VPN-NonVPN-2016/Dataset/NonVPN-PCAPs-03.zip\n",
        "# !wget -r -np -N http://205.174.165.80/CICDataset/ISCX-VPN-NonVPN-2016/Dataset/NonVPN-PCAPs-03.zip & wget -r -np -N http://205.174.165.80/CICDataset/ISCX-VPN-NonVPN-2016/Dataset/NonVPN-PCAPs-03.zip & wget -r -np -N http://205.174.165.80/CICDataset/ISCX-VPN-NonVPN-2016/Dataset/NonVPN-PCAPs-03.zip & wget -r -np -N http://205.174.165.80/CICDataset/ISCX-VPN-NonVPN-2016/Dataset/NonVPN-PCAPs-03.zip & wget -r -np -N http://205.174.165.80/CICDataset/ISCX-VPN-NonVPN-2016/Dataset/NonVPN-PCAPs-03.zip & wget -r -np -N http://205.174.165.80/CICDataset/ISCX-VPN-NonVPN-2016/Dataset/NonVPN-PCAPs-03.zip & wget -r -np -N http://205.174.165.80/CICDataset/ISCX-VPN-NonVPN-2016/Dataset/NonVPN-PCAPs-03.zip & wget -r -np -N http://205.174.165.80/CICDataset/ISCX-VPN-NonVPN-2016/Dataset/NonVPN-PCAPs-03.zip & wget -r -np -N http://205.174.165.80/CICDataset/ISCX-VPN-NonVPN-2016/Dataset/NonVPN-PCAPs-03.zip & wget -r -np -N http://205.174.165.80/CICDataset/ISCX-VPN-NonVPN-2016/Dataset/NonVPN-PCAPs-03.zip\n",
        "# !editcap -r NonVPN-PCAPs-03/skype_file3.pcap NonVPN-PCAPs-03/_skype_file3.pcap 10000-30000\n",
        "# !tshark -r NonVPN-PCAPs-03/skype_file3.pcap | wc -l\n",
        "\n",
        "# !mv drive/MyDrive/deep_packet/Pcaps/vpn/_vpn_youtube_A.pcap drive/MyDrive/deep_packet/Pcaps/vpn/vpn_youtube_A.pcap\n",
        "# !du -sh drive/MyDrive/deep_packet/Pcaps/vpn/\n",
        "\n",
        "# !ls drive/MyDrive/deep_packet/Pcaps/vpn/_*\n",
        "# !rm drive/MyDrive/deep_packet/Pcaps/vpn/vpn_skype_audio1.pcap drive/MyDrive/deep_packet/Pcaps/vpn/vpn_spotify_A.pcap drive/MyDrive/deep_packet/Pcaps/vpn/vpn_vimeo_A.pcap drive/MyDrive/deep_packet/Pcaps/vpn/vpn_voipbuster1a.pcap drive/MyDrive/deep_packet/Pcaps/vpn/vpn_youtube_A.pcap"
      ],
      "execution_count": null,
      "outputs": []
    },
    {
      "cell_type": "code",
      "metadata": {
        "id": "ituq9GfkLJeL"
      },
      "source": [
        "# !unzip VPN-PCAPs-02.zip -d vpn\n",
        "# !zip -F NonVPN-PCAPs-02.zip --out New.zip\n",
        "# !apt-get install dtrx\n",
        "# !dtrx NonVPN-PCAPs-03.zip\n",
        "\n",
        "# !mv NonVPN-PCAPs-03/_skype_file3.pcap NonVPN-PCAPs-03/skype_file3.pcap\n",
        "\n",
        "# !editcap -r vpn/vpn_youtube_A.pcap vpn/_vpn_youtube_A.pcap 100000-130000\n",
        "# !tshark -r vpn/vpn_youtube_A.pcap | wc -l\n",
        "\n",
        "# !rm vpn/vpn_youtube_A.pcap\n",
        "# !mv vpn/_vpn_youtube_A.pcap vpn/vpn_youtube_A.pcap\n",
        "# !mv NonVPN-PCAPs-03/* drive/MyDrive/deep_packet/Pcaps/non_vpn/\n",
        "# !du -sh drive/MyDrive/deep_packet/Pcaps/vpn\n",
        "# !mv vpn/* drive/MyDrive/deep_packet/Pcaps/vpn/\n",
        "# !du -sh drive/MyDrive/deep_packet/Pcaps/*/* | sort -rh\n",
        "# from itertools import chain\n",
        "# all_pcaps = list(chain(*[a for _, _, a in os.walk('drive/MyDrive/deep_packet/Pcaps/')][1:]))\n",
        "# st = '\\n'.join(all_pcaps)\n",
        "# with open('pcaps', 'w') as f:\n",
        "#     f.write(st)\n",
        "# !echo '' > a\n",
        "# com = \"for v in drive/MyDrive/deep_packet/Pcaps/non_vpn/*\\n\" +\\\n",
        "# \"    do \\n\" +\\\n",
        "# \"        tshark -r $v  | wc -l >> a\\n\" +\\\n",
        "# \"        echo $v >> a\\n\" +\\\n",
        "# \"    done\"\n",
        "# with open('com.sh', 'w') as f:\n",
        "#     f.write(com)\n",
        "    # os.system(\"tshark -r \" + f + \" | wc -l >> a\")"
      ],
      "execution_count": 154,
      "outputs": []
    },
    {
      "cell_type": "code",
      "metadata": {
        "id": "0fV6Wtc2SwSj"
      },
      "source": [
        "# !./com.sh\n",
        "# !sort -h a\n",
        "# !$a =ls\n",
        "# !cat a\n",
        "# !mkdir x\n",
        "# !touch {a,b}\n",
        "# !mv {a,b} x/\n",
        "# !ls x\n",
        "# !apt install tshark\n",
        "# # !mv drive/MyDrive/deep_packet/Pcaps/non_vpn/_youtubeHTML5_1.pcap drive/MyDrive/deep_packet/Pcaps/non_vpn/youtubeHTML5_1.pcap\n",
        "!du -sh drive/MyDrive/deep_packet/Pcaps/*"
      ],
      "execution_count": null,
      "outputs": []
    },
    {
      "cell_type": "code",
      "metadata": {
        "id": "w_DUBMHZuVXh",
        "colab": {
          "base_uri": "https://localhost:8080/"
        },
        "outputId": "dd10b890-68db-47ee-fc08-3f574705e3ba"
      },
      "source": [
        "!pip install scapy"
      ],
      "execution_count": 1,
      "outputs": [
        {
          "output_type": "stream",
          "text": [
            "Collecting scapy\n",
            "\u001b[?25l  Downloading https://files.pythonhosted.org/packages/85/47/c919432ca258f354bb2c1e645623f891603f185bfc7563d4a21f6432e7ed/scapy-2.4.5.tar.gz (1.1MB)\n",
            "\r\u001b[K     |▎                               | 10kB 18.7MB/s eta 0:00:01\r\u001b[K     |▋                               | 20kB 17.7MB/s eta 0:00:01\r\u001b[K     |▉                               | 30kB 15.5MB/s eta 0:00:01\r\u001b[K     |█▏                              | 40kB 14.4MB/s eta 0:00:01\r\u001b[K     |█▌                              | 51kB 6.8MB/s eta 0:00:01\r\u001b[K     |█▊                              | 61kB 7.9MB/s eta 0:00:01\r\u001b[K     |██                              | 71kB 8.4MB/s eta 0:00:01\r\u001b[K     |██▍                             | 81kB 8.7MB/s eta 0:00:01\r\u001b[K     |██▋                             | 92kB 9.1MB/s eta 0:00:01\r\u001b[K     |███                             | 102kB 7.4MB/s eta 0:00:01\r\u001b[K     |███▎                            | 112kB 7.4MB/s eta 0:00:01\r\u001b[K     |███▌                            | 122kB 7.4MB/s eta 0:00:01\r\u001b[K     |███▉                            | 133kB 7.4MB/s eta 0:00:01\r\u001b[K     |████▏                           | 143kB 7.4MB/s eta 0:00:01\r\u001b[K     |████▍                           | 153kB 7.4MB/s eta 0:00:01\r\u001b[K     |████▊                           | 163kB 7.4MB/s eta 0:00:01\r\u001b[K     |█████                           | 174kB 7.4MB/s eta 0:00:01\r\u001b[K     |█████▎                          | 184kB 7.4MB/s eta 0:00:01\r\u001b[K     |█████▋                          | 194kB 7.4MB/s eta 0:00:01\r\u001b[K     |██████                          | 204kB 7.4MB/s eta 0:00:01\r\u001b[K     |██████▏                         | 215kB 7.4MB/s eta 0:00:01\r\u001b[K     |██████▌                         | 225kB 7.4MB/s eta 0:00:01\r\u001b[K     |██████▉                         | 235kB 7.4MB/s eta 0:00:01\r\u001b[K     |███████                         | 245kB 7.4MB/s eta 0:00:01\r\u001b[K     |███████▍                        | 256kB 7.4MB/s eta 0:00:01\r\u001b[K     |███████▋                        | 266kB 7.4MB/s eta 0:00:01\r\u001b[K     |████████                        | 276kB 7.4MB/s eta 0:00:01\r\u001b[K     |████████▎                       | 286kB 7.4MB/s eta 0:00:01\r\u001b[K     |████████▌                       | 296kB 7.4MB/s eta 0:00:01\r\u001b[K     |████████▉                       | 307kB 7.4MB/s eta 0:00:01\r\u001b[K     |█████████▏                      | 317kB 7.4MB/s eta 0:00:01\r\u001b[K     |█████████▍                      | 327kB 7.4MB/s eta 0:00:01\r\u001b[K     |█████████▊                      | 337kB 7.4MB/s eta 0:00:01\r\u001b[K     |██████████                      | 348kB 7.4MB/s eta 0:00:01\r\u001b[K     |██████████▎                     | 358kB 7.4MB/s eta 0:00:01\r\u001b[K     |██████████▋                     | 368kB 7.4MB/s eta 0:00:01\r\u001b[K     |███████████                     | 378kB 7.4MB/s eta 0:00:01\r\u001b[K     |███████████▏                    | 389kB 7.4MB/s eta 0:00:01\r\u001b[K     |███████████▌                    | 399kB 7.4MB/s eta 0:00:01\r\u001b[K     |███████████▉                    | 409kB 7.4MB/s eta 0:00:01\r\u001b[K     |████████████                    | 419kB 7.4MB/s eta 0:00:01\r\u001b[K     |████████████▍                   | 430kB 7.4MB/s eta 0:00:01\r\u001b[K     |████████████▊                   | 440kB 7.4MB/s eta 0:00:01\r\u001b[K     |█████████████                   | 450kB 7.4MB/s eta 0:00:01\r\u001b[K     |█████████████▎                  | 460kB 7.4MB/s eta 0:00:01\r\u001b[K     |█████████████▋                  | 471kB 7.4MB/s eta 0:00:01\r\u001b[K     |█████████████▉                  | 481kB 7.4MB/s eta 0:00:01\r\u001b[K     |██████████████▏                 | 491kB 7.4MB/s eta 0:00:01\r\u001b[K     |██████████████▍                 | 501kB 7.4MB/s eta 0:00:01\r\u001b[K     |██████████████▊                 | 512kB 7.4MB/s eta 0:00:01\r\u001b[K     |███████████████                 | 522kB 7.4MB/s eta 0:00:01\r\u001b[K     |███████████████▎                | 532kB 7.4MB/s eta 0:00:01\r\u001b[K     |███████████████▋                | 542kB 7.4MB/s eta 0:00:01\r\u001b[K     |████████████████                | 552kB 7.4MB/s eta 0:00:01\r\u001b[K     |████████████████▏               | 563kB 7.4MB/s eta 0:00:01\r\u001b[K     |████████████████▌               | 573kB 7.4MB/s eta 0:00:01\r\u001b[K     |████████████████▉               | 583kB 7.4MB/s eta 0:00:01\r\u001b[K     |█████████████████               | 593kB 7.4MB/s eta 0:00:01\r\u001b[K     |█████████████████▍              | 604kB 7.4MB/s eta 0:00:01\r\u001b[K     |█████████████████▊              | 614kB 7.4MB/s eta 0:00:01\r\u001b[K     |██████████████████              | 624kB 7.4MB/s eta 0:00:01\r\u001b[K     |██████████████████▎             | 634kB 7.4MB/s eta 0:00:01\r\u001b[K     |██████████████████▋             | 645kB 7.4MB/s eta 0:00:01\r\u001b[K     |██████████████████▉             | 655kB 7.4MB/s eta 0:00:01\r\u001b[K     |███████████████████▏            | 665kB 7.4MB/s eta 0:00:01\r\u001b[K     |███████████████████▌            | 675kB 7.4MB/s eta 0:00:01\r\u001b[K     |███████████████████▊            | 686kB 7.4MB/s eta 0:00:01\r\u001b[K     |████████████████████            | 696kB 7.4MB/s eta 0:00:01\r\u001b[K     |████████████████████▍           | 706kB 7.4MB/s eta 0:00:01\r\u001b[K     |████████████████████▋           | 716kB 7.4MB/s eta 0:00:01\r\u001b[K     |█████████████████████           | 727kB 7.4MB/s eta 0:00:01\r\u001b[K     |█████████████████████▏          | 737kB 7.4MB/s eta 0:00:01\r\u001b[K     |█████████████████████▌          | 747kB 7.4MB/s eta 0:00:01\r\u001b[K     |█████████████████████▉          | 757kB 7.4MB/s eta 0:00:01\r\u001b[K     |██████████████████████          | 768kB 7.4MB/s eta 0:00:01\r\u001b[K     |██████████████████████▍         | 778kB 7.4MB/s eta 0:00:01\r\u001b[K     |██████████████████████▊         | 788kB 7.4MB/s eta 0:00:01\r\u001b[K     |███████████████████████         | 798kB 7.4MB/s eta 0:00:01\r\u001b[K     |███████████████████████▎        | 808kB 7.4MB/s eta 0:00:01\r\u001b[K     |███████████████████████▋        | 819kB 7.4MB/s eta 0:00:01\r\u001b[K     |███████████████████████▉        | 829kB 7.4MB/s eta 0:00:01\r\u001b[K     |████████████████████████▏       | 839kB 7.4MB/s eta 0:00:01\r\u001b[K     |████████████████████████▌       | 849kB 7.4MB/s eta 0:00:01\r\u001b[K     |████████████████████████▊       | 860kB 7.4MB/s eta 0:00:01\r\u001b[K     |█████████████████████████       | 870kB 7.4MB/s eta 0:00:01\r\u001b[K     |█████████████████████████▍      | 880kB 7.4MB/s eta 0:00:01\r\u001b[K     |█████████████████████████▋      | 890kB 7.4MB/s eta 0:00:01\r\u001b[K     |██████████████████████████      | 901kB 7.4MB/s eta 0:00:01\r\u001b[K     |██████████████████████████▎     | 911kB 7.4MB/s eta 0:00:01\r\u001b[K     |██████████████████████████▌     | 921kB 7.4MB/s eta 0:00:01\r\u001b[K     |██████████████████████████▉     | 931kB 7.4MB/s eta 0:00:01\r\u001b[K     |███████████████████████████▏    | 942kB 7.4MB/s eta 0:00:01\r\u001b[K     |███████████████████████████▍    | 952kB 7.4MB/s eta 0:00:01\r\u001b[K     |███████████████████████████▊    | 962kB 7.4MB/s eta 0:00:01\r\u001b[K     |████████████████████████████    | 972kB 7.4MB/s eta 0:00:01\r\u001b[K     |████████████████████████████▎   | 983kB 7.4MB/s eta 0:00:01\r\u001b[K     |████████████████████████████▋   | 993kB 7.4MB/s eta 0:00:01\r\u001b[K     |████████████████████████████▉   | 1.0MB 7.4MB/s eta 0:00:01\r\u001b[K     |█████████████████████████████▏  | 1.0MB 7.4MB/s eta 0:00:01\r\u001b[K     |█████████████████████████████▌  | 1.0MB 7.4MB/s eta 0:00:01\r\u001b[K     |█████████████████████████████▊  | 1.0MB 7.4MB/s eta 0:00:01\r\u001b[K     |██████████████████████████████  | 1.0MB 7.4MB/s eta 0:00:01\r\u001b[K     |██████████████████████████████▍ | 1.1MB 7.4MB/s eta 0:00:01\r\u001b[K     |██████████████████████████████▋ | 1.1MB 7.4MB/s eta 0:00:01\r\u001b[K     |███████████████████████████████ | 1.1MB 7.4MB/s eta 0:00:01\r\u001b[K     |███████████████████████████████▎| 1.1MB 7.4MB/s eta 0:00:01\r\u001b[K     |███████████████████████████████▌| 1.1MB 7.4MB/s eta 0:00:01\r\u001b[K     |███████████████████████████████▉| 1.1MB 7.4MB/s eta 0:00:01\r\u001b[K     |████████████████████████████████| 1.1MB 7.4MB/s \n",
            "\u001b[?25hBuilding wheels for collected packages: scapy\n",
            "  Building wheel for scapy (setup.py) ... \u001b[?25l\u001b[?25hdone\n",
            "  Created wheel for scapy: filename=scapy-2.4.5-py2.py3-none-any.whl size=1261554 sha256=102a1c6e3e7396393478a552b69f45fe277189218bba0a723989939cc7725c0e\n",
            "  Stored in directory: /root/.cache/pip/wheels/31/80/dc/d5fc39b70e1af4f4636356c849de414a76e83a89d8ee9cd78f\n",
            "Successfully built scapy\n",
            "Installing collected packages: scapy\n",
            "Successfully installed scapy-2.4.5\n"
          ],
          "name": "stdout"
        }
      ]
    },
    {
      "cell_type": "code",
      "metadata": {
        "colab": {
          "base_uri": "https://localhost:8080/"
        },
        "id": "6FVOGPeeOnT5",
        "outputId": "01bac219-4b71-4534-a6d1-81b396d24ac7"
      },
      "source": [
        "from pathlib import Path\n",
        "import os\n",
        "import os.path\n",
        "import numpy as np\n",
        "import pandas as pd\n",
        "from joblib import Parallel, delayed\n",
        "from scapy.compat import raw\n",
        "from scapy.layers.inet import IP, UDP\n",
        "from scapy.layers.l2 import Ether\n",
        "from scapy.packet import Padding\n",
        "from scapy.utils import rdpcap, PcapReader\n",
        "from scipy import sparse\n",
        "from sklearn.model_selection import train_test_split\n",
        "from imblearn.under_sampling import RandomUnderSampler\n",
        "\n",
        "import torch\n",
        "import torchvision\n",
        "import torchvision.transforms as transforms\n",
        "import torch.nn as nn\n",
        "import torch.nn.functional as F\n",
        "from random import sample\n",
        "import matplotlib.pyplot as plt\n",
        "import math\n",
        "\n",
        "from torch.utils.data import Dataset, DataLoader, random_split\n",
        "from torch.utils.data.sampler import SubsetRandomSampler\n",
        "\n",
        "import time\n",
        "from datetime import timedelta\n",
        "from datetime import datetime\n",
        "import pickle\n",
        "\n",
        "import sys\n",
        "sys.path.append('drive/MyDrive/deep_packet')\n",
        "from utils import should_omit_packet, PREFIX_TO_APP_ID, PREFIX_TO_TRAFFIC_ID"
      ],
      "execution_count": 2,
      "outputs": [
        {
          "output_type": "stream",
          "text": [
            "/usr/local/lib/python3.7/dist-packages/sklearn/externals/six.py:31: FutureWarning: The module is deprecated in version 0.21 and will be removed in version 0.23 since we've dropped support for Python 2.7. Please rely on the official version of six (https://pypi.org/project/six/).\n",
            "  \"(https://pypi.org/project/six/).\", FutureWarning)\n",
            "/usr/local/lib/python3.7/dist-packages/sklearn/utils/deprecation.py:144: FutureWarning: The sklearn.neighbors.base module is  deprecated in version 0.22 and will be removed in version 0.24. The corresponding classes / functions should instead be imported from sklearn.neighbors. Anything that cannot be imported from sklearn.neighbors is now part of the private API.\n",
            "  warnings.warn(message, FutureWarning)\n"
          ],
          "name": "stderr"
        }
      ]
    },
    {
      "cell_type": "code",
      "metadata": {
        "id": "hcBZoPxz7oix"
      },
      "source": [
        "def remove_ether_header(packet):\n",
        "    if Ether in packet:\n",
        "        return packet[Ether].payload\n",
        "\n",
        "    return packet\n",
        "\n",
        "\n",
        "def mask_ip(packet):\n",
        "    if IP in packet:\n",
        "        packet[IP].src = '0.0.0.0'\n",
        "        packet[IP].dst = '0.0.0.0'\n",
        "\n",
        "    return packet\n",
        "\n",
        "\n",
        "def pad_udp(packet):\n",
        "    if UDP in packet:\n",
        "        # get layers after udp\n",
        "        layer_after = packet[UDP].payload.copy()\n",
        "\n",
        "        # build a padding layer\n",
        "        pad = Padding()\n",
        "        pad.load = '\\x00' * 12\n",
        "\n",
        "        layer_before = packet.copy()\n",
        "        layer_before[UDP].remove_payload()\n",
        "        packet = layer_before / pad / layer_after\n",
        "\n",
        "        return packet\n",
        "\n",
        "    return packet\n",
        "\n",
        "\n",
        "def packet_to_sparse_array(packet, max_length=1500):\n",
        "    arr = np.frombuffer(raw(packet), dtype=np.uint8)[0: max_length]     # Divide to 255 later\n",
        "    if len(arr) < max_length:\n",
        "        pad_width = max_length - len(arr)\n",
        "        arr = np.pad(arr, pad_width=(0, pad_width), constant_values=0)\n",
        "\n",
        "    arr = sparse.csr_matrix(arr)\n",
        "    return arr\n",
        "\n",
        "\n",
        "def transform_packet(packet):\n",
        "    if should_omit_packet(packet):\n",
        "        return None\n",
        "\n",
        "    packet = remove_ether_header(packet)\n",
        "    packet = pad_udp(packet)\n",
        "    packet = mask_ip(packet)\n",
        "\n",
        "    arr = packet_to_sparse_array(packet)\n",
        "\n",
        "    return arr\n",
        "\n",
        "pcaps = 'drive/MyDrive/deep_packet/Pcaps/vpn/'\n",
        "cache = 'drive/MyDrive/deep_packet/Dataset/vpn_dataset.pickle'\n",
        "dataset = []\n",
        "\n",
        "if not os.path.isfile(cache):\n",
        "    for path in os.listdir(pcaps):\n",
        "        print('Processing ' + path)\n",
        "        for i, packet in enumerate(rdpcap(pcaps + path)):\n",
        "            arr = transform_packet(packet)\n",
        "            if arr is not None:\n",
        "                # get labels for app identification\n",
        "                prefix = path.split('.')[0].lower()\n",
        "                app_label = PREFIX_TO_APP_ID.get(prefix)\n",
        "                traffic_label = PREFIX_TO_TRAFFIC_ID.get(prefix)\n",
        "                row = {\n",
        "                    'app_label': app_label,\n",
        "                    'traffic_label': traffic_label,\n",
        "                    'feature': arr.todense().tolist()[0]\n",
        "                }\n",
        "                dataset.append(row)\n",
        "    \n",
        "    with open(cache, 'wb') as f:\n",
        "        pickle.dump(dataset, f)\n",
        "else:\n",
        "    with open(cache, 'rb') as f:\n",
        "        dataset = pickle.load(f)"
      ],
      "execution_count": null,
      "outputs": []
    },
    {
      "cell_type": "code",
      "metadata": {
        "id": "QQRVosHX7L2k"
      },
      "source": [
        "dataset = []\n",
        "data_dir = 'drive/MyDrive/deep_packet/Dataset/'\n",
        "for path in os.listdir(data_dir):\n",
        "    with open(data_dir + path, 'rb') as f:\n",
        "        dataset.extend(pickle.load(f))"
      ],
      "execution_count": 4,
      "outputs": []
    },
    {
      "cell_type": "code",
      "metadata": {
        "id": "ErkJHxrT8Lhs"
      },
      "source": [
        "# print([row['app_label'] for row in dataset if row['app_label'] is None][0])"
      ],
      "execution_count": null,
      "outputs": []
    },
    {
      "cell_type": "code",
      "metadata": {
        "id": "Iv7-3usPJ3u9"
      },
      "source": [
        "traffic_labels = [row['traffic_label'] for row in dataset]\n",
        "# app_labels = [row['app_label'] for row in dataset]\n",
        "traffic_classes = set(traffic_labels)\n",
        "# app_classes = set(app_labels)\n",
        "\n",
        "traffic_train_all, traffic_test_all = train_test_split(dataset, test_size=0.2, random_state=42, stratify=traffic_labels)\n",
        "# app_train_all, app_test_all = train_test_split(dataset, test_size=0.2, random_state=42, stratify=app_labels)\n",
        "\n",
        "del dataset"
      ],
      "execution_count": 5,
      "outputs": []
    },
    {
      "cell_type": "code",
      "metadata": {
        "id": "CBA3SdIiLwur",
        "colab": {
          "base_uri": "https://localhost:8080/"
        },
        "outputId": "f2a0cd04-5760-4a33-c120-cd9d0fb4d6a5"
      },
      "source": [
        "undersample = RandomUnderSampler(sampling_strategy='majority')\n",
        "traffic_features = [elem['feature'] for elem in traffic_train_all]\n",
        "train_traffic_labels = [elem['traffic_label'] for elem in traffic_train_all]\n",
        "traffic_train, traffic_y = undersample.fit_resample(traffic_features, train_traffic_labels)\n",
        "del traffic_features, train_traffic_labels, traffic_train_all\n",
        "\n",
        "# undersample = RandomUnderSampler(sampling_strategy='majority')\n",
        "# app_features = [elem['feature'] for elem in app_train_all]\n",
        "# train_app_labels = [elem['app_label'] for elem in app_train_all]\n",
        "# app_train, app_y = undersample.fit_resample(app_features, train_app_labels)\n",
        "# del app_features, train_app_labels, app_train_all"
      ],
      "execution_count": 6,
      "outputs": [
        {
          "output_type": "stream",
          "text": [
            "/usr/local/lib/python3.7/dist-packages/sklearn/utils/deprecation.py:87: FutureWarning: Function safe_indexing is deprecated; safe_indexing is deprecated in version 0.22 and will be removed in version 0.24.\n",
            "  warnings.warn(msg, category=FutureWarning)\n"
          ],
          "name": "stderr"
        }
      ]
    },
    {
      "cell_type": "code",
      "metadata": {
        "id": "krD6bp6Fp_UB"
      },
      "source": [
        "traffic_train_final = [{'feature': torch.from_numpy(np.array([a/255.0 for a in f.tolist()], dtype=np.float32)), 'label': l} for f, l in zip(traffic_train, traffic_y)]\n",
        "del traffic_train, traffic_y\n",
        "# app_train_final = [{'feature': torch.from_numpy(np.array([a/255.0 for a in f.tolist()], dtype=np.float32)), 'label': l} for f, l in zip(app_train, app_y)]\n",
        "# del app_train, app_y\n",
        "\n",
        "traffic_test_final = [{'feature': torch.from_numpy(np.array([a/255.0 for a in elem['feature']], dtype=np.float32)), 'label': elem['traffic_label']} for elem in traffic_test_all]\n",
        "del traffic_test_all\n",
        "# app_test_final = [{'feature': torch.from_numpy(np.array([a/255.0 for a in elem['feature']], dtype=np.float32)), 'label': elem['app_label']} for elem in app_test_all]\n",
        "# del app_test_all"
      ],
      "execution_count": 7,
      "outputs": []
    },
    {
      "cell_type": "code",
      "metadata": {
        "id": "QoG1Qy1NQ95i",
        "colab": {
          "base_uri": "https://localhost:8080/"
        },
        "outputId": "c35c5919-2068-4704-b9a9-257c2151e1e5"
      },
      "source": [
        "batch_size = 64\n",
        "num_workers = 16\n",
        "import random\n",
        "random.shuffle(traffic_train_final)\n",
        "traffic_train_loader = torch.utils.data.DataLoader(traffic_train_final, batch_size=batch_size, num_workers=num_workers)\n",
        "# app_train_loader = torch.utils.data.DataLoader(app_train_final, batch_size=batch_size, num_workers=num_workers)\n",
        "traffic_test_loader = torch.utils.data.DataLoader(traffic_test_final, batch_size=batch_size, num_workers=num_workers)\n",
        "# app_test_loader = torch.utils.data.DataLoader(app_test_final, batch_size=batch_size, num_workers=num_workers)"
      ],
      "execution_count": 28,
      "outputs": [
        {
          "output_type": "stream",
          "text": [
            "/usr/local/lib/python3.7/dist-packages/torch/utils/data/dataloader.py:481: UserWarning: This DataLoader will create 16 worker processes in total. Our suggested max number of worker in current system is 2, which is smaller than what this DataLoader is going to create. Please be aware that excessive worker creation might get DataLoader running slow or even freeze, lower the worker number to avoid potential slowness/freeze if necessary.\n",
            "  cpuset_checked))\n"
          ],
          "name": "stderr"
        }
      ]
    },
    {
      "cell_type": "code",
      "metadata": {
        "colab": {
          "base_uri": "https://localhost:8080/"
        },
        "id": "JcjX3ny5iZ83",
        "outputId": "7acffee6-9bf0-442a-8022-fd73eef0afc0"
      },
      "source": [
        "print(traffic_train_final[210000:211000], end=', ')"
      ],
      "execution_count": 29,
      "outputs": [
        {
          "output_type": "stream",
          "text": [
            "[{'feature': tensor([0.2706, 0.0314, 0.0196,  ..., 0.0000, 0.0000, 0.0000]), 'label': 7}, {'feature': tensor([0.2706, 0.0000, 0.0000,  ..., 0.0000, 0.0000, 0.0000]), 'label': 5}, {'feature': tensor([0.2706, 0.0000, 0.0000,  ..., 0.0000, 0.0000, 0.0000]), 'label': 0}, {'feature': tensor([0.2706, 0.0000, 0.0000,  ..., 0.0000, 0.0000, 0.0000]), 'label': 8}, {'feature': tensor([0.2706, 0.0314, 0.0196,  ..., 0.0000, 0.0000, 0.0000]), 'label': 7}, {'feature': tensor([0.2706, 0.0000, 0.0000,  ..., 0.0000, 0.0000, 0.0000]), 'label': 0}, {'feature': tensor([0.2706, 0.0000, 0.0000,  ..., 0.0000, 0.0000, 0.0000]), 'label': 2}, {'feature': tensor([0.2706, 0.0000, 0.0000,  ..., 0.0000, 0.0000, 0.0000]), 'label': 3}, {'feature': tensor([0.2706, 0.0000, 0.0196,  ..., 0.0000, 0.0000, 0.0000]), 'label': 10}, {'feature': tensor([0.2706, 0.0000, 0.0000,  ..., 0.0000, 0.0000, 0.0000]), 'label': 11}, {'feature': tensor([0.2706, 0.0000, 0.0000,  ..., 0.0000, 0.0000, 0.0000]), 'label': 0}, {'feature': tensor([0.2706, 0.0314, 0.0196,  ..., 0.0000, 0.0000, 0.0000]), 'label': 7}, {'feature': tensor([0.0000, 0.0039, 0.0314,  ..., 0.0000, 0.0000, 0.0000]), 'label': 1}, {'feature': tensor([0.2706, 0.0000, 0.0000,  ..., 0.0000, 0.0000, 0.0000]), 'label': 5}, {'feature': tensor([0.2706, 0.0000, 0.0196,  ..., 0.0000, 0.0000, 0.0000]), 'label': 10}, {'feature': tensor([0.2706, 0.2824, 0.0196,  ..., 0.0000, 0.0000, 0.0000]), 'label': 9}, {'feature': tensor([0.2706, 0.0314, 0.1098,  ..., 0.8118, 0.0078, 0.4078]), 'label': 2}, {'feature': tensor([0.2706, 0.0000, 0.0000,  ..., 0.0000, 0.0000, 0.0000]), 'label': 0}, {'feature': tensor([0.2706, 0.0000, 0.0000,  ..., 0.0000, 0.0000, 0.0000]), 'label': 11}, {'feature': tensor([0.2706, 0.0000, 0.0000,  ..., 0.0000, 0.0000, 0.0000]), 'label': 0}, {'feature': tensor([0.3765, 0.0000, 0.0000,  ..., 0.0000, 0.0000, 0.0000]), 'label': 1}, {'feature': tensor([0.2706, 0.0000, 0.0000,  ..., 0.0000, 0.0000, 0.0000]), 'label': 5}, {'feature': tensor([0.2706, 0.0000, 0.0196,  ..., 0.0000, 0.0000, 0.0000]), 'label': 3}, {'feature': tensor([0.2706, 0.2824, 0.0196,  ..., 0.0000, 0.0000, 0.0000]), 'label': 9}, {'feature': tensor([0.2706, 0.2824, 0.0196,  ..., 0.0000, 0.0000, 0.0000]), 'label': 9}, {'feature': tensor([0.2706, 0.2824, 0.0196,  ..., 0.0000, 0.0000, 0.0000]), 'label': 9}, {'feature': tensor([0.2706, 0.2824, 0.0196,  ..., 0.0000, 0.0000, 0.0000]), 'label': 9}, {'feature': tensor([0.2706, 0.0000, 0.0000,  ..., 0.0000, 0.0000, 0.0000]), 'label': 6}, {'feature': tensor([0.2706, 0.0000, 0.0196,  ..., 0.6510, 0.8706, 0.2078]), 'label': 2}, {'feature': tensor([0.2706, 0.0000, 0.0000,  ..., 0.0000, 0.0000, 0.0000]), 'label': 8}, {'feature': tensor([0.2706, 0.0314, 0.0196,  ..., 0.0000, 0.0000, 0.0000]), 'label': 7}, {'feature': tensor([0.2706, 0.0000, 0.0196,  ..., 0.0000, 0.0000, 0.0000]), 'label': 10}, {'feature': tensor([0.2706, 0.0314, 0.0196,  ..., 0.0000, 0.0000, 0.0000]), 'label': 7}, {'feature': tensor([0.0000, 0.0039, 0.0314,  ..., 0.0000, 0.0000, 0.0000]), 'label': 1}, {'feature': tensor([0.2706, 0.2824, 0.0196,  ..., 0.0000, 0.0000, 0.0000]), 'label': 9}, {'feature': tensor([0.2706, 0.0000, 0.0000,  ..., 0.0000, 0.0000, 0.0000]), 'label': 11}, {'feature': tensor([0.2706, 0.0000, 0.0196,  ..., 0.0000, 0.0000, 0.0000]), 'label': 0}, {'feature': tensor([0.3765, 0.0000, 0.0000,  ..., 0.0000, 0.0000, 0.0000]), 'label': 1}, {'feature': tensor([0.2706, 0.0314, 0.0196,  ..., 0.0000, 0.0000, 0.0000]), 'label': 7}, {'feature': tensor([0.2706, 0.0000, 0.0000,  ..., 0.0000, 0.0000, 0.0000]), 'label': 5}, {'feature': tensor([0.2706, 0.0000, 0.0000,  ..., 0.0000, 0.0000, 0.0000]), 'label': 8}, {'feature': tensor([0.2706, 0.0000, 0.0196,  ..., 0.1843, 0.9765, 0.9608]), 'label': 2}, {'feature': tensor([0.2706, 0.0000, 0.0000,  ..., 0.0000, 0.0000, 0.0000]), 'label': 0}, {'feature': tensor([0.2706, 0.0000, 0.0000,  ..., 0.0000, 0.0000, 0.0000]), 'label': 11}, {'feature': tensor([0.2706, 0.2824, 0.0196,  ..., 0.0000, 0.0000, 0.0000]), 'label': 9}, {'feature': tensor([0.2706, 0.2824, 0.0196,  ..., 0.0000, 0.0000, 0.0000]), 'label': 9}, {'feature': tensor([0.2706, 0.0000, 0.0196,  ..., 0.0000, 0.0000, 0.0000]), 'label': 10}, {'feature': tensor([0.2706, 0.0000, 0.0000,  ..., 0.0000, 0.0000, 0.0000]), 'label': 5}, {'feature': tensor([0.0000, 0.0039, 0.0314,  ..., 0.0000, 0.0000, 0.0000]), 'label': 1}, {'feature': tensor([0.2706, 0.0000, 0.0000,  ..., 0.0000, 0.0000, 0.0000]), 'label': 11}, {'feature': tensor([0.2706, 0.0314, 0.0196,  ..., 0.0000, 0.0000, 0.0000]), 'label': 7}, {'feature': tensor([0.2706, 0.0000, 0.0000,  ..., 0.0000, 0.0000, 0.0000]), 'label': 6}, {'feature': tensor([0.2706, 0.0000, 0.0000,  ..., 0.0000, 0.0000, 0.0000]), 'label': 5}, {'feature': tensor([0.2706, 0.0000, 0.0941,  ..., 0.3608, 0.7412, 0.2784]), 'label': 3}, {'feature': tensor([0.2706, 0.0000, 0.0000,  ..., 0.0000, 0.0000, 0.0000]), 'label': 11}, {'feature': tensor([0.2706, 0.0000, 0.0196,  ..., 0.9255, 0.4196, 0.3922]), 'label': 2}, {'feature': tensor([0.2706, 0.0000, 0.0392,  ..., 0.3647, 0.7961, 0.6000]), 'label': 3}, {'feature': tensor([0.2706, 0.0000, 0.0000,  ..., 0.0000, 0.0000, 0.0000]), 'label': 11}, {'feature': tensor([0.2706, 0.0000, 0.0000,  ..., 0.0000, 0.0000, 0.0000]), 'label': 5}, {'feature': tensor([0.2706, 0.0000, 0.0000,  ..., 0.0000, 0.0000, 0.0000]), 'label': 0}, {'feature': tensor([0.2706, 0.0000, 0.0078,  ..., 0.0000, 0.0000, 0.0000]), 'label': 8}, {'feature': tensor([0.2706, 0.0000, 0.0196,  ..., 0.0000, 0.0000, 0.0000]), 'label': 8}, {'feature': tensor([0.2706, 0.0314, 0.0196,  ..., 0.0000, 0.0000, 0.0000]), 'label': 7}, {'feature': tensor([0.2706, 0.0000, 0.0000,  ..., 0.0000, 0.0000, 0.0000]), 'label': 5}, {'feature': tensor([0.2706, 0.0000, 0.0000,  ..., 0.0000, 0.0000, 0.0000]), 'label': 11}, {'feature': tensor([0.2706, 0.0314, 0.0196,  ..., 0.0000, 0.0000, 0.0000]), 'label': 7}, {'feature': tensor([0.2706, 0.0000, 0.0235,  ..., 0.0431, 0.3804, 0.4627]), 'label': 3}, {'feature': tensor([0.2706, 0.0000, 0.0000,  ..., 0.0000, 0.0000, 0.0000]), 'label': 11}, {'feature': tensor([0.2706, 0.0000, 0.0078,  ..., 0.0000, 0.0000, 0.0000]), 'label': 6}, {'feature': tensor([0.2706, 0.0000, 0.0000,  ..., 0.0000, 0.0000, 0.0000]), 'label': 11}, {'feature': tensor([0.2706, 0.0000, 0.0000,  ..., 0.0000, 0.0000, 0.0000]), 'label': 5}, {'feature': tensor([0.2706, 0.0000, 0.0000,  ..., 0.0000, 0.0000, 0.0000]), 'label': 0}, {'feature': tensor([0.2706, 0.0314, 0.0863,  ..., 0.8353, 0.5412, 0.1647]), 'label': 2}, {'feature': tensor([0.2706, 0.2824, 0.0196,  ..., 0.0000, 0.0000, 0.0000]), 'label': 9}, {'feature': tensor([0.2706, 0.0000, 0.0000,  ..., 0.0000, 0.0000, 0.0000]), 'label': 5}, {'feature': tensor([0.2706, 0.0314, 0.0667,  ..., 0.4471, 0.3059, 0.0667]), 'label': 2}, {'feature': tensor([0.2706, 0.0000, 0.0157,  ..., 0.0000, 0.0000, 0.0000]), 'label': 0}, {'feature': tensor([0.2706, 0.0000, 0.0039,  ..., 0.0000, 0.0000, 0.0000]), 'label': 5}, {'feature': tensor([0.2706, 0.0000, 0.0196,  ..., 0.0000, 0.0000, 0.0000]), 'label': 0}, {'feature': tensor([0.2706, 0.0000, 0.0196,  ..., 0.0000, 0.0000, 0.0000]), 'label': 10}, {'feature': tensor([0.2706, 0.0000, 0.0392,  ..., 0.9882, 0.4078, 0.6627]), 'label': 3}, {'feature': tensor([0.2706, 0.0000, 0.0000,  ..., 0.0000, 0.0000, 0.0000]), 'label': 0}, {'feature': tensor([0.2706, 0.0000, 0.0000,  ..., 0.0000, 0.0000, 0.0000]), 'label': 8}, {'feature': tensor([0.2706, 0.0000, 0.0196,  ..., 0.0000, 0.0000, 0.0000]), 'label': 10}, {'feature': tensor([0.2706, 0.0000, 0.0000,  ..., 0.0000, 0.0000, 0.0000]), 'label': 0}, {'feature': tensor([0.2706, 0.0000, 0.0196,  ..., 0.8863, 0.4392, 0.3922]), 'label': 2}, {'feature': tensor([0.2706, 0.0000, 0.0000,  ..., 0.0000, 0.0000, 0.0000]), 'label': 5}, {'feature': tensor([0.2706, 0.0000, 0.0000,  ..., 0.0000, 0.0000, 0.0000]), 'label': 11}, {'feature': tensor([0.2706, 0.2824, 0.0196,  ..., 0.0000, 0.0000, 0.0000]), 'label': 9}, {'feature': tensor([0.2706, 0.0314, 0.0000,  ..., 0.0000, 0.0000, 0.0000]), 'label': 2}, {'feature': tensor([0.2706, 0.0000, 0.0000,  ..., 0.0000, 0.0000, 0.0000]), 'label': 11}, {'feature': tensor([0.2706, 0.0000, 0.0000,  ..., 0.0000, 0.0000, 0.0000]), 'label': 11}, {'feature': tensor([0.2706, 0.0000, 0.0000,  ..., 0.0000, 0.0000, 0.0000]), 'label': 1}, {'feature': tensor([0.2706, 0.0000, 0.0000,  ..., 0.0000, 0.0000, 0.0000]), 'label': 6}, {'feature': tensor([0.2706, 0.0000, 0.0000,  ..., 0.0000, 0.0000, 0.0000]), 'label': 5}, {'feature': tensor([0.2706, 0.0000, 0.0000,  ..., 0.0000, 0.0000, 0.0000]), 'label': 11}, {'feature': tensor([0.2706, 0.0000, 0.0000,  ..., 0.0000, 0.0000, 0.0000]), 'label': 5}, {'feature': tensor([0.2706, 0.0000, 0.0000,  ..., 0.0000, 0.0000, 0.0000]), 'label': 11}, {'feature': tensor([0.2706, 0.0314, 0.0196,  ..., 0.0000, 0.0000, 0.0000]), 'label': 7}, {'feature': tensor([0.0000, 0.0039, 0.0314,  ..., 0.0000, 0.0000, 0.0000]), 'label': 0}, {'feature': tensor([0.2706, 0.0000, 0.0000,  ..., 0.0000, 0.0000, 0.0000]), 'label': 11}, {'feature': tensor([0.2706, 0.0314, 0.0196,  ..., 0.0000, 0.0000, 0.0000]), 'label': 7}, {'feature': tensor([0.2706, 0.0000, 0.0000,  ..., 0.0000, 0.0000, 0.0000]), 'label': 5}, {'feature': tensor([0.2706, 0.0000, 0.0000,  ..., 0.0000, 0.0000, 0.0000]), 'label': 5}, {'feature': tensor([0.2706, 0.0000, 0.0000,  ..., 0.0000, 0.0000, 0.0000]), 'label': 11}, {'feature': tensor([0.2706, 0.0000, 0.0000,  ..., 0.0000, 0.0000, 0.0000]), 'label': 11}, {'feature': tensor([0.2706, 0.2824, 0.0196,  ..., 0.0000, 0.0000, 0.0000]), 'label': 9}, {'feature': tensor([0.2706, 0.0000, 0.0000,  ..., 0.0000, 0.0000, 0.0000]), 'label': 11}, {'feature': tensor([0.2706, 0.0000, 0.0196,  ..., 0.0000, 0.0000, 0.0000]), 'label': 6}, {'feature': tensor([0.0000, 0.0039, 0.0314,  ..., 0.0000, 0.0000, 0.0000]), 'label': 0}, {'feature': tensor([0.2706, 0.2824, 0.0196,  ..., 0.0000, 0.0000, 0.0000]), 'label': 9}, {'feature': tensor([0.2706, 0.0000, 0.0000,  ..., 0.0000, 0.0000, 0.0000]), 'label': 1}, {'feature': tensor([0.2706, 0.0000, 0.0000,  ..., 0.0000, 0.0000, 0.0000]), 'label': 0}, {'feature': tensor([0.2706, 0.0000, 0.0196,  ..., 0.0000, 0.0000, 0.0000]), 'label': 10}, {'feature': tensor([0.2706, 0.0000, 0.0000,  ..., 0.0000, 0.0000, 0.0000]), 'label': 0}, {'feature': tensor([0.2706, 0.0314, 0.0039,  ..., 0.0000, 0.0000, 0.0000]), 'label': 2}, {'feature': tensor([0.2706, 0.0000, 0.0196,  ..., 0.0000, 0.0000, 0.0000]), 'label': 10}, {'feature': tensor([0.2706, 0.0000, 0.0118,  ..., 0.0000, 0.0000, 0.0000]), 'label': 3}, {'feature': tensor([0.2706, 0.0000, 0.0196,  ..., 0.0000, 0.0000, 0.0000]), 'label': 10}, {'feature': tensor([0.2706, 0.0000, 0.0000,  ..., 0.0000, 0.0000, 0.0000]), 'label': 0}, {'feature': tensor([0.2706, 0.0000, 0.0000,  ..., 0.0000, 0.0000, 0.0000]), 'label': 11}, {'feature': tensor([0.2706, 0.0000, 0.0000,  ..., 0.0000, 0.0000, 0.0000]), 'label': 7}, {'feature': tensor([0.2706, 0.0000, 0.0000,  ..., 0.0000, 0.0000, 0.0000]), 'label': 0}, {'feature': tensor([0.2706, 0.0000, 0.0196,  ..., 0.0000, 0.0000, 0.0000]), 'label': 10}, {'feature': tensor([0.2706, 0.0000, 0.0000,  ..., 0.0000, 0.0000, 0.0000]), 'label': 11}, {'feature': tensor([0.2706, 0.0000, 0.0196,  ..., 0.0000, 0.0000, 0.0000]), 'label': 6}, {'feature': tensor([0.0000, 0.0039, 0.0314,  ..., 0.0000, 0.0000, 0.0000]), 'label': 1}, {'feature': tensor([0.2706, 0.0000, 0.0039,  ..., 0.0000, 0.0000, 0.0000]), 'label': 6}, {'feature': tensor([0.2706, 0.2824, 0.0000,  ..., 0.0000, 0.0000, 0.0000]), 'label': 9}, {'feature': tensor([0.2706, 0.0000, 0.0039,  ..., 0.0000, 0.0000, 0.0000]), 'label': 0}, {'feature': tensor([0.2706, 0.2824, 0.0196,  ..., 0.0000, 0.0000, 0.0000]), 'label': 9}, {'feature': tensor([0.2706, 0.0000, 0.0196,  ..., 0.0000, 0.0000, 0.0000]), 'label': 10}, {'feature': tensor([0.2706, 0.0000, 0.0392,  ..., 0.0863, 0.0196, 0.2078]), 'label': 3}, {'feature': tensor([0.2706, 0.2824, 0.0196,  ..., 0.0000, 0.0000, 0.0000]), 'label': 9}, {'feature': tensor([0.2706, 0.0314, 0.0000,  ..., 0.0000, 0.0000, 0.0000]), 'label': 2}, {'feature': tensor([0.2706, 0.0000, 0.0039,  ..., 0.0000, 0.0000, 0.0000]), 'label': 6}, {'feature': tensor([0.2706, 0.0000, 0.0000,  ..., 0.0000, 0.0000, 0.0000]), 'label': 0}, {'feature': tensor([0.2706, 0.0000, 0.0196,  ..., 0.0000, 0.0000, 0.0000]), 'label': 10}, {'feature': tensor([0.2706, 0.0000, 0.0039,  ..., 0.0000, 0.0000, 0.0000]), 'label': 0}, {'feature': tensor([0.2706, 0.0314, 0.0196,  ..., 0.0000, 0.0000, 0.0000]), 'label': 7}, {'feature': tensor([0.2706, 0.2824, 0.0196,  ..., 0.0000, 0.0000, 0.0000]), 'label': 9}, {'feature': tensor([0.2706, 0.0314, 0.0196,  ..., 0.0000, 0.0000, 0.0000]), 'label': 7}, {'feature': tensor([0.2706, 0.2824, 0.0196,  ..., 0.0000, 0.0000, 0.0000]), 'label': 9}, {'feature': tensor([0.3765, 0.0000, 0.0000,  ..., 0.0000, 0.0000, 0.0000]), 'label': 1}, {'feature': tensor([0.2706, 0.0000, 0.0000,  ..., 0.0000, 0.0000, 0.0000]), 'label': 11}, {'feature': tensor([0.2706, 0.0314, 0.0196,  ..., 0.5961, 0.5725, 0.4471]), 'label': 2}, {'feature': tensor([0.2706, 0.0000, 0.0196,  ..., 0.0000, 0.0000, 0.0000]), 'label': 3}, {'feature': tensor([0.2706, 0.0000, 0.0196,  ..., 0.0000, 0.0000, 0.0000]), 'label': 10}, {'feature': tensor([0.2706, 0.0000, 0.0196,  ..., 0.0000, 0.0000, 0.0000]), 'label': 10}, {'feature': tensor([0.2706, 0.0000, 0.0000,  ..., 0.0000, 0.0000, 0.0000]), 'label': 8}, {'feature': tensor([0.2706, 0.0000, 0.0000,  ..., 0.0000, 0.0000, 0.0000]), 'label': 2}, {'feature': tensor([0.2706, 0.0000, 0.0000,  ..., 0.0000, 0.0000, 0.0000]), 'label': 6}, {'feature': tensor([0.2706, 0.0000, 0.0000,  ..., 0.0000, 0.0000, 0.0000]), 'label': 0}, {'feature': tensor([0.2706, 0.0000, 0.0000,  ..., 0.0000, 0.0000, 0.0000]), 'label': 1}, {'feature': tensor([0.2706, 0.0000, 0.0000,  ..., 0.0000, 0.0000, 0.0000]), 'label': 5}, {'feature': tensor([0.2706, 0.2824, 0.0196,  ..., 0.0000, 0.0000, 0.0000]), 'label': 9}, {'feature': tensor([0.0000, 0.0039, 0.0314,  ..., 0.0000, 0.0000, 0.0000]), 'label': 1}, {'feature': tensor([0.2706, 0.0000, 0.0000,  ..., 0.0000, 0.0000, 0.0000]), 'label': 5}, {'feature': tensor([0.0000, 0.0039, 0.0314,  ..., 0.0000, 0.0000, 0.0000]), 'label': 1}, {'feature': tensor([0.2706, 0.2824, 0.0196,  ..., 0.0000, 0.0000, 0.0000]), 'label': 9}, {'feature': tensor([0.2706, 0.2824, 0.0196,  ..., 0.0000, 0.0000, 0.0000]), 'label': 9}, {'feature': tensor([0.2706, 0.0000, 0.0196,  ..., 0.9922, 0.1686, 0.4392]), 'label': 2}, {'feature': tensor([0.2706, 0.0000, 0.0824,  ..., 0.3333, 0.8235, 0.6157]), 'label': 3}, {'feature': tensor([0.2706, 0.0000, 0.0000,  ..., 0.0000, 0.0000, 0.0000]), 'label': 6}, {'feature': tensor([0.2706, 0.0314, 0.0196,  ..., 0.0000, 0.0000, 0.0000]), 'label': 7}, {'feature': tensor([0.2706, 0.0000, 0.0196,  ..., 0.0000, 0.0000, 0.0000]), 'label': 0}, {'feature': tensor([0.2706, 0.0000, 0.0000,  ..., 0.0000, 0.0000, 0.0000]), 'label': 5}, {'feature': tensor([0.2706, 0.0000, 0.0000,  ..., 0.0000, 0.0000, 0.0000]), 'label': 0}, {'feature': tensor([0.2706, 0.0000, 0.0000,  ..., 0.0000, 0.0000, 0.0000]), 'label': 1}, {'feature': tensor([0.2706, 0.0000, 0.0000,  ..., 0.0000, 0.0000, 0.0000]), 'label': 11}, {'feature': tensor([0.2706, 0.0000, 0.0000,  ..., 0.0000, 0.0000, 0.0000]), 'label': 0}, {'feature': tensor([0.2706, 0.0000, 0.0000,  ..., 0.0000, 0.0000, 0.0000]), 'label': 11}, {'feature': tensor([0.2706, 0.0314, 0.0196,  ..., 0.0000, 0.0000, 0.0000]), 'label': 7}, {'feature': tensor([0.2706, 0.2824, 0.0196,  ..., 0.0000, 0.0000, 0.0000]), 'label': 9}, {'feature': tensor([0.3765, 0.0000, 0.0000,  ..., 0.0000, 0.0000, 0.0000]), 'label': 1}, {'feature': tensor([0.2706, 0.0314, 0.0196,  ..., 0.0000, 0.0000, 0.0000]), 'label': 7}, {'feature': tensor([0.2706, 0.0000, 0.0000,  ..., 0.0000, 0.0000, 0.0000]), 'label': 11}, {'feature': tensor([0.2706, 0.0000, 0.0196,  ..., 0.0000, 0.0000, 0.0000]), 'label': 2}, {'feature': tensor([0.2706, 0.0314, 0.0745,  ..., 0.2510, 0.0353, 0.1804]), 'label': 2}, {'feature': tensor([0.2706, 0.2824, 0.0196,  ..., 0.0000, 0.0000, 0.0000]), 'label': 9}, {'feature': tensor([0.2706, 0.0000, 0.0000,  ..., 0.0000, 0.0000, 0.0000]), 'label': 7}, {'feature': tensor([0.2706, 0.0000, 0.0000,  ..., 0.0000, 0.0000, 0.0000]), 'label': 5}, {'feature': tensor([0.2706, 0.0000, 0.0000,  ..., 0.0000, 0.0000, 0.0000]), 'label': 5}, {'feature': tensor([0.2706, 0.0000, 0.0000,  ..., 0.0000, 0.0000, 0.0000]), 'label': 0}, {'feature': tensor([0.2706, 0.0000, 0.0196,  ..., 0.0000, 0.0000, 0.0000]), 'label': 10}, {'feature': tensor([0.2706, 0.2824, 0.0196,  ..., 0.0000, 0.0000, 0.0000]), 'label': 9}, {'feature': tensor([0.2706, 0.0000, 0.0196,  ..., 0.0000, 0.0000, 0.0000]), 'label': 8}, {'feature': tensor([0.2706, 0.0000, 0.0000,  ..., 0.0000, 0.0000, 0.0000]), 'label': 0}, {'feature': tensor([0.2706, 0.0000, 0.0196,  ..., 0.2627, 0.1176, 0.9922]), 'label': 2}, {'feature': tensor([0.2706, 0.0000, 0.0000,  ..., 0.0000, 0.0000, 0.0000]), 'label': 0}, {'feature': tensor([0.2706, 0.0000, 0.0000,  ..., 0.0000, 0.0000, 0.0000]), 'label': 11}, {'feature': tensor([0.2706, 0.0000, 0.0157,  ..., 0.0000, 0.0000, 0.0000]), 'label': 6}, {'feature': tensor([0.2706, 0.0000, 0.0000,  ..., 0.0000, 0.0000, 0.0000]), 'label': 5}, {'feature': tensor([0.2706, 0.0314, 0.0196,  ..., 0.0000, 0.0000, 0.0000]), 'label': 7}, {'feature': tensor([0.2706, 0.0000, 0.0000,  ..., 0.0000, 0.0000, 0.0000]), 'label': 6}, {'feature': tensor([0.2706, 0.0000, 0.0039,  ..., 0.0000, 0.0000, 0.0000]), 'label': 6}, {'feature': tensor([0.2706, 0.0000, 0.0039,  ..., 0.0000, 0.0000, 0.0000]), 'label': 6}, {'feature': tensor([0.2706, 0.2824, 0.0196,  ..., 0.0000, 0.0000, 0.0000]), 'label': 9}, {'feature': tensor([0.2706, 0.0000, 0.0039,  ..., 0.0000, 0.0000, 0.0000]), 'label': 6}, {'feature': tensor([0.2706, 0.0000, 0.0000,  ..., 0.0000, 0.0000, 0.0000]), 'label': 0}, {'feature': tensor([0.2706, 0.0000, 0.0000,  ..., 0.0000, 0.0000, 0.0000]), 'label': 11}, {'feature': tensor([0.2706, 0.0000, 0.0000,  ..., 0.0000, 0.0000, 0.0000]), 'label': 5}, {'feature': tensor([0.2706, 0.0000, 0.0000,  ..., 0.0000, 0.0000, 0.0000]), 'label': 5}, {'feature': tensor([0.2706, 0.2824, 0.0196,  ..., 0.0000, 0.0000, 0.0000]), 'label': 9}, {'feature': tensor([0.2706, 0.0000, 0.0000,  ..., 0.0000, 0.0000, 0.0000]), 'label': 0}, {'feature': tensor([0.2706, 0.0000, 0.0157,  ..., 0.0000, 0.0000, 0.0000]), 'label': 3}, {'feature': tensor([0.2706, 0.0000, 0.0000,  ..., 0.0000, 0.0000, 0.0000]), 'label': 11}, {'feature': tensor([0.2706, 0.0000, 0.0000,  ..., 0.0000, 0.0000, 0.0000]), 'label': 0}, {'feature': tensor([0.2706, 0.0314, 0.0196,  ..., 0.0000, 0.0000, 0.0000]), 'label': 7}, {'feature': tensor([0.0000, 0.0039, 0.0314,  ..., 0.0000, 0.0000, 0.0000]), 'label': 1}, {'feature': tensor([0.2706, 0.0000, 0.0000,  ..., 0.0000, 0.0000, 0.0000]), 'label': 5}, {'feature': tensor([0.0000, 0.0039, 0.0314,  ..., 0.0000, 0.0000, 0.0000]), 'label': 1}, {'feature': tensor([0.2706, 0.0000, 0.0000,  ..., 0.0000, 0.0000, 0.0000]), 'label': 2}, {'feature': tensor([0.2706, 0.0314, 0.0196,  ..., 0.0000, 0.0000, 0.0000]), 'label': 7}, {'feature': tensor([0.2706, 0.2824, 0.0196,  ..., 0.0000, 0.0000, 0.0000]), 'label': 9}, {'feature': tensor([0.2706, 0.0000, 0.0000,  ..., 0.0000, 0.0000, 0.0000]), 'label': 1}, {'feature': tensor([0.2706, 0.0000, 0.0000,  ..., 0.0000, 0.0000, 0.0000]), 'label': 11}, {'feature': tensor([0.2706, 0.0000, 0.0000,  ..., 0.0000, 0.0000, 0.0000]), 'label': 0}, {'feature': tensor([0.2706, 0.0000, 0.0196,  ..., 0.0000, 0.0000, 0.0000]), 'label': 8}, {'feature': tensor([0.2706, 0.0000, 0.0000,  ..., 0.0000, 0.0000, 0.0000]), 'label': 1}, {'feature': tensor([0.2706, 0.0000, 0.0000,  ..., 0.0000, 0.0000, 0.0000]), 'label': 5}, {'feature': tensor([0.2706, 0.2824, 0.0196,  ..., 0.0000, 0.0000, 0.0000]), 'label': 9}, {'feature': tensor([0.2706, 0.0000, 0.0039,  ..., 0.0000, 0.0000, 0.0000]), 'label': 6}, {'feature': tensor([0.2706, 0.0000, 0.0000,  ..., 0.0000, 0.0000, 0.0000]), 'label': 5}, {'feature': tensor([0.0000, 0.0039, 0.0314,  ..., 0.0000, 0.0000, 0.0000]), 'label': 1}, {'feature': tensor([0.2706, 0.0000, 0.0118,  ..., 0.0000, 0.0000, 0.0000]), 'label': 8}, {'feature': tensor([0.2706, 0.0000, 0.0000,  ..., 0.0000, 0.0000, 0.0000]), 'label': 0}, {'feature': tensor([0.2706, 0.0000, 0.0000,  ..., 0.0000, 0.0000, 0.0000]), 'label': 0}, {'feature': tensor([0.2706, 0.0000, 0.0196,  ..., 0.0000, 0.0000, 0.0000]), 'label': 10}, {'feature': tensor([0.2706, 0.0314, 0.0039,  ..., 0.0000, 0.0000, 0.0000]), 'label': 2}, {'feature': tensor([0.2706, 0.0000, 0.0000,  ..., 0.0000, 0.0000, 0.0000]), 'label': 8}, {'feature': tensor([0.2706, 0.0000, 0.0000,  ..., 0.0000, 0.0000, 0.0000]), 'label': 7}, {'feature': tensor([0.2706, 0.0000, 0.0000,  ..., 0.0000, 0.0000, 0.0000]), 'label': 0}, {'feature': tensor([0.2706, 0.0000, 0.0196,  ..., 0.0000, 0.0000, 0.0000]), 'label': 10}, {'feature': tensor([0.2706, 0.0000, 0.0000,  ..., 0.0000, 0.0000, 0.0000]), 'label': 6}, {'feature': tensor([0.2706, 0.0000, 0.0000,  ..., 0.0000, 0.0000, 0.0000]), 'label': 8}, {'feature': tensor([0.2706, 0.0000, 0.0000,  ..., 0.0000, 0.0000, 0.0000]), 'label': 2}, {'feature': tensor([0.2706, 0.0000, 0.0000,  ..., 0.0000, 0.0000, 0.0000]), 'label': 5}, {'feature': tensor([0.2706, 0.0000, 0.0196,  ..., 0.0000, 0.0000, 0.0000]), 'label': 8}, {'feature': tensor([0.2706, 0.0000, 0.0000,  ..., 0.0000, 0.0000, 0.0000]), 'label': 6}, {'feature': tensor([0.2706, 0.2824, 0.0196,  ..., 0.0000, 0.0000, 0.0000]), 'label': 9}, {'feature': tensor([0.2706, 0.0000, 0.0000,  ..., 0.0000, 0.0000, 0.0000]), 'label': 8}, {'feature': tensor([0.2706, 0.0000, 0.0196,  ..., 0.3216, 0.6078, 0.3961]), 'label': 2}, {'feature': tensor([0.2706, 0.0000, 0.0157,  ..., 0.0000, 0.0000, 0.0000]), 'label': 8}, {'feature': tensor([0.0000, 0.0039, 0.0314,  ..., 0.0000, 0.0000, 0.0000]), 'label': 0}, {'feature': tensor([0.2706, 0.0000, 0.0000,  ..., 0.0000, 0.0000, 0.0000]), 'label': 11}, {'feature': tensor([0.2706, 0.0000, 0.0196,  ..., 0.5529, 0.7137, 0.7059]), 'label': 2}, {'feature': tensor([0.2706, 0.0000, 0.0000,  ..., 0.0000, 0.0000, 0.0000]), 'label': 0}, {'feature': tensor([0.2706, 0.0000, 0.0196,  ..., 0.9882, 0.4196, 0.0392]), 'label': 2}, {'feature': tensor([0.2706, 0.0000, 0.0000,  ..., 0.0000, 0.0000, 0.0000]), 'label': 6}, {'feature': tensor([0.2706, 0.0000, 0.0000,  ..., 0.0000, 0.0000, 0.0000]), 'label': 6}, {'feature': tensor([0.2706, 0.0000, 0.0000,  ..., 0.0000, 0.0000, 0.0000]), 'label': 5}, {'feature': tensor([0.2706, 0.0000, 0.0000,  ..., 0.0000, 0.0000, 0.0000]), 'label': 8}, {'feature': tensor([0.2706, 0.0000, 0.0196,  ..., 0.0000, 0.0000, 0.0000]), 'label': 10}, {'feature': tensor([0.2706, 0.2824, 0.0196,  ..., 0.0000, 0.0000, 0.0000]), 'label': 9}, {'feature': tensor([0.2706, 0.0000, 0.0196,  ..., 0.0000, 0.0000, 0.0000]), 'label': 10}, {'feature': tensor([0.2706, 0.0000, 0.0196,  ..., 0.0000, 0.0000, 0.0000]), 'label': 2}, {'feature': tensor([0.2706, 0.0000, 0.0000,  ..., 0.0000, 0.0000, 0.0000]), 'label': 11}, {'feature': tensor([0.2706, 0.0000, 0.0196,  ..., 0.0000, 0.0000, 0.0000]), 'label': 10}, {'feature': tensor([0.2706, 0.0000, 0.0000,  ..., 0.0000, 0.0000, 0.0000]), 'label': 7}, {'feature': tensor([0.2706, 0.0000, 0.0000,  ..., 0.0000, 0.0000, 0.0000]), 'label': 2}, {'feature': tensor([0.2706, 0.0000, 0.0000,  ..., 0.0000, 0.0000, 0.0000]), 'label': 0}, {'feature': tensor([0.2706, 0.0000, 0.0000,  ..., 0.0000, 0.0000, 0.0000]), 'label': 2}, {'feature': tensor([0.2706, 0.0000, 0.0000,  ..., 0.0000, 0.0000, 0.0000]), 'label': 6}, {'feature': tensor([0.2706, 0.0000, 0.0196,  ..., 0.0000, 0.0000, 0.0000]), 'label': 6}, {'feature': tensor([0.2706, 0.2824, 0.0196,  ..., 0.0000, 0.0000, 0.0000]), 'label': 9}, {'feature': tensor([0.2706, 0.0000, 0.0000,  ..., 0.0000, 0.0000, 0.0000]), 'label': 7}, {'feature': tensor([0.2706, 0.0000, 0.0000,  ..., 0.0000, 0.0000, 0.0000]), 'label': 1}, {'feature': tensor([0.2706, 0.0000, 0.0039,  ..., 0.0000, 0.0000, 0.0000]), 'label': 2}, {'feature': tensor([0.2706, 0.0000, 0.0196,  ..., 0.0000, 0.0000, 0.0000]), 'label': 10}, {'feature': tensor([0.2706, 0.0314, 0.0196,  ..., 0.0000, 0.0000, 0.0000]), 'label': 7}, {'feature': tensor([0.2706, 0.0000, 0.0000,  ..., 0.0000, 0.0000, 0.0000]), 'label': 0}, {'feature': tensor([0.2706, 0.0000, 0.0000,  ..., 0.0000, 0.0000, 0.0000]), 'label': 5}, {'feature': tensor([0.2706, 0.2824, 0.0196,  ..., 0.0000, 0.0000, 0.0000]), 'label': 9}, {'feature': tensor([0.2706, 0.2824, 0.0196,  ..., 0.0000, 0.0000, 0.0000]), 'label': 9}, {'feature': tensor([0.2706, 0.0314, 0.0941,  ..., 0.9569, 0.1725, 0.4784]), 'label': 2}, {'feature': tensor([0.2706, 0.0000, 0.0039,  ..., 0.0000, 0.0000, 0.0000]), 'label': 8}, {'feature': tensor([0.2706, 0.0000, 0.0000,  ..., 0.0000, 0.0000, 0.0000]), 'label': 0}, {'feature': tensor([0.2706, 0.0000, 0.0000,  ..., 0.0000, 0.0000, 0.0000]), 'label': 11}, {'feature': tensor([0.2706, 0.0000, 0.0000,  ..., 0.0000, 0.0000, 0.0000]), 'label': 5}, {'feature': tensor([0.2706, 0.0000, 0.0196,  ..., 0.0000, 0.0000, 0.0000]), 'label': 1}, {'feature': tensor([0.2706, 0.0000, 0.0000,  ..., 0.0000, 0.0000, 0.0000]), 'label': 5}, {'feature': tensor([0.2706, 0.0000, 0.0000,  ..., 0.0000, 0.0000, 0.0000]), 'label': 0}, {'feature': tensor([0.2706, 0.0314, 0.0667,  ..., 0.1882, 1.0000, 0.2039]), 'label': 2}, {'feature': tensor([0.2706, 0.0000, 0.0196,  ..., 0.0000, 0.0000, 0.0000]), 'label': 10}, {'feature': tensor([0.2706, 0.0000, 0.0000,  ..., 0.0000, 0.0000, 0.0000]), 'label': 6}, {'feature': tensor([0.2706, 0.0000, 0.0039,  ..., 0.0000, 0.0000, 0.0000]), 'label': 0}, {'feature': tensor([0.2706, 0.0000, 0.0196,  ..., 0.9569, 0.7725, 0.1961]), 'label': 2}, {'feature': tensor([0.2706, 0.0000, 0.0196,  ..., 0.0000, 0.0000, 0.0000]), 'label': 10}, {'feature': tensor([0.2706, 0.0000, 0.0157,  ..., 0.0000, 0.0000, 0.0000]), 'label': 0}, {'feature': tensor([0.0000, 0.0039, 0.0314,  ..., 0.0000, 0.0000, 0.0000]), 'label': 1}, {'feature': tensor([0.2706, 0.0000, 0.0000,  ..., 0.0000, 0.0000, 0.0000]), 'label': 11}, {'feature': tensor([0.2706, 0.0314, 0.0196,  ..., 0.0000, 0.0000, 0.0000]), 'label': 7}, {'feature': tensor([0.2706, 0.0000, 0.0196,  ..., 0.0000, 0.0000, 0.0000]), 'label': 10}, {'feature': tensor([0.2706, 0.0000, 0.0196,  ..., 0.6078, 0.8000, 0.5608]), 'label': 2}, {'feature': tensor([0.2706, 0.0000, 0.0000,  ..., 0.0000, 0.0000, 0.0000]), 'label': 5}, {'feature': tensor([0.2706, 0.0000, 0.0000,  ..., 0.0000, 0.0000, 0.0000]), 'label': 11}, {'feature': tensor([0.2706, 0.0000, 0.0000,  ..., 0.0000, 0.0000, 0.0000]), 'label': 0}, {'feature': tensor([0.3765, 0.0000, 0.0000,  ..., 0.0000, 0.0000, 0.0000]), 'label': 1}, {'feature': tensor([0.2706, 0.0000, 0.0000,  ..., 0.0000, 0.0000, 0.0000]), 'label': 6}, {'feature': tensor([0.2706, 0.0000, 0.0196,  ..., 0.0000, 0.0000, 0.0000]), 'label': 10}, {'feature': tensor([0.2706, 0.0314, 0.0196,  ..., 0.0000, 0.0000, 0.0000]), 'label': 7}, {'feature': tensor([0.2706, 0.0000, 0.0196,  ..., 0.0000, 0.0000, 0.0000]), 'label': 10}, {'feature': tensor([0.2706, 0.0000, 0.0000,  ..., 0.0000, 0.0000, 0.0000]), 'label': 5}, {'feature': tensor([0.2706, 0.0000, 0.0000,  ..., 0.0000, 0.0000, 0.0000]), 'label': 6}, {'feature': tensor([0.2706, 0.2824, 0.0196,  ..., 0.0000, 0.0000, 0.0000]), 'label': 9}, {'feature': tensor([0.2706, 0.0000, 0.0078,  ..., 0.0000, 0.0000, 0.0000]), 'label': 7}, {'feature': tensor([0.2706, 0.0000, 0.0000,  ..., 0.0000, 0.0000, 0.0000]), 'label': 1}, {'feature': tensor([0.2706, 0.0314, 0.0196,  ..., 0.0000, 0.0000, 0.0000]), 'label': 7}, {'feature': tensor([0.2706, 0.0000, 0.0000,  ..., 0.0000, 0.0000, 0.0000]), 'label': 5}, {'feature': tensor([0.2706, 0.0000, 0.0000,  ..., 0.0000, 0.0000, 0.0000]), 'label': 0}, {'feature': tensor([0.2706, 0.0000, 0.0000,  ..., 0.0000, 0.0000, 0.0000]), 'label': 8}, {'feature': tensor([0.2706, 0.0000, 0.0196,  ..., 0.0000, 0.0000, 0.0000]), 'label': 10}, {'feature': tensor([0.2706, 0.0000, 0.0000,  ..., 0.0000, 0.0000, 0.0000]), 'label': 0}, {'feature': tensor([0.2706, 0.0000, 0.0000,  ..., 0.0000, 0.0000, 0.0000]), 'label': 5}, {'feature': tensor([0.2706, 0.0000, 0.0000,  ..., 0.0000, 0.0000, 0.0000]), 'label': 6}, {'feature': tensor([0.2706, 0.0000, 0.0000,  ..., 0.0000, 0.0000, 0.0000]), 'label': 0}, {'feature': tensor([0.2706, 0.0000, 0.0000,  ..., 0.0000, 0.0000, 0.0000]), 'label': 6}, {'feature': tensor([0.2706, 0.0000, 0.0000,  ..., 0.0000, 0.0000, 0.0000]), 'label': 5}, {'feature': tensor([0.2706, 0.0000, 0.0000,  ..., 0.0000, 0.0000, 0.0000]), 'label': 0}, {'feature': tensor([0.2706, 0.0000, 0.0000,  ..., 0.0000, 0.0000, 0.0000]), 'label': 1}, {'feature': tensor([0.2706, 0.0000, 0.0000,  ..., 0.0000, 0.0000, 0.0000]), 'label': 5}, {'feature': tensor([0.2706, 0.0000, 0.0000,  ..., 0.0000, 0.0000, 0.0000]), 'label': 8}, {'feature': tensor([0.2706, 0.0000, 0.0000,  ..., 0.0000, 0.0000, 0.0000]), 'label': 11}, {'feature': tensor([0.2706, 0.0000, 0.0196,  ..., 0.0000, 0.0000, 0.0000]), 'label': 10}, {'feature': tensor([0.2706, 0.0000, 0.0000,  ..., 0.0000, 0.0000, 0.0000]), 'label': 6}, {'feature': tensor([0.2706, 0.0000, 0.0196,  ..., 0.0000, 0.0000, 0.0000]), 'label': 8}, {'feature': tensor([0.2706, 0.0000, 0.1020,  ..., 0.8863, 0.8314, 0.7176]), 'label': 3}, {'feature': tensor([0.2706, 0.0000, 0.0824,  ..., 0.2039, 0.6000, 0.1961]), 'label': 3}, {'feature': tensor([0.2706, 0.0000, 0.0196,  ..., 0.0000, 0.0000, 0.0000]), 'label': 10}, {'feature': tensor([0.2706, 0.0000, 0.0000,  ..., 0.0000, 0.0000, 0.0000]), 'label': 2}, {'feature': tensor([0.2706, 0.0314, 0.0196,  ..., 0.0000, 0.0000, 0.0000]), 'label': 7}, {'feature': tensor([0.2706, 0.0000, 0.0000,  ..., 0.0000, 0.0000, 0.0000]), 'label': 5}, {'feature': tensor([0.2706, 0.2824, 0.0196,  ..., 0.0000, 0.0000, 0.0000]), 'label': 9}, {'feature': tensor([0.2706, 0.2824, 0.0196,  ..., 0.0000, 0.0000, 0.0000]), 'label': 9}, {'feature': tensor([0.2706, 0.0314, 0.0196,  ..., 0.0000, 0.0000, 0.0000]), 'label': 7}, {'feature': tensor([0.2706, 0.0000, 0.0000,  ..., 0.0000, 0.0000, 0.0000]), 'label': 0}, {'feature': tensor([0.2706, 0.0000, 0.0000,  ..., 0.0000, 0.0000, 0.0000]), 'label': 8}, {'feature': tensor([0.2706, 0.0000, 0.0196,  ..., 0.0000, 0.0000, 0.0000]), 'label': 10}, {'feature': tensor([0.2706, 0.0000, 0.0000,  ..., 0.0000, 0.0000, 0.0000]), 'label': 0}, {'feature': tensor([0.2706, 0.0000, 0.0000,  ..., 0.0000, 0.0000, 0.0000]), 'label': 11}, {'feature': tensor([0.2706, 0.0000, 0.0000,  ..., 0.0000, 0.0000, 0.0000]), 'label': 7}, {'feature': tensor([0.2706, 0.0000, 0.0196,  ..., 0.0000, 0.0000, 0.0000]), 'label': 8}, {'feature': tensor([0.2706, 0.0000, 0.0157,  ..., 0.0000, 0.0000, 0.0000]), 'label': 3}, {'feature': tensor([0.2706, 0.0000, 0.0000,  ..., 0.0000, 0.0000, 0.0000]), 'label': 5}, {'feature': tensor([0.2706, 0.0000, 0.0588,  ..., 0.4863, 0.5412, 0.0706]), 'label': 3}, {'feature': tensor([0.2706, 0.0000, 0.0196,  ..., 0.0000, 0.0000, 0.0000]), 'label': 3}, {'feature': tensor([0.2706, 0.0314, 0.0196,  ..., 0.0000, 0.0000, 0.0000]), 'label': 7}, {'feature': tensor([0.2706, 0.0000, 0.0118,  ..., 0.0000, 0.0000, 0.0000]), 'label': 6}, {'feature': tensor([0.2706, 0.0000, 0.0000,  ..., 0.0000, 0.0000, 0.0000]), 'label': 2}, {'feature': tensor([0.2706, 0.0000, 0.0039,  ..., 0.0000, 0.0000, 0.0000]), 'label': 1}, {'feature': tensor([0.2706, 0.0000, 0.0000,  ..., 0.0000, 0.0000, 0.0000]), 'label': 0}, {'feature': tensor([0.2706, 0.0000, 0.0000,  ..., 0.0000, 0.0000, 0.0000]), 'label': 3}, {'feature': tensor([0.2706, 0.0000, 0.0000,  ..., 0.0000, 0.0000, 0.0000]), 'label': 5}, {'feature': tensor([0.2706, 0.0000, 0.0392,  ..., 0.8235, 0.9294, 0.4157]), 'label': 3}, {'feature': tensor([0.2706, 0.0000, 0.0000,  ..., 0.0000, 0.0000, 0.0000]), 'label': 0}, {'feature': tensor([0.2706, 0.0000, 0.0000,  ..., 0.0000, 0.0000, 0.0000]), 'label': 11}, {'feature': tensor([0.2706, 0.2824, 0.0196,  ..., 0.0000, 0.0000, 0.0000]), 'label': 9}, {'feature': tensor([0.2706, 0.0000, 0.0196,  ..., 0.0000, 0.0000, 0.0000]), 'label': 10}, {'feature': tensor([0.2706, 0.0000, 0.0000,  ..., 0.0000, 0.0000, 0.0000]), 'label': 1}, {'feature': tensor([0.2706, 0.0000, 0.0000,  ..., 0.0000, 0.0000, 0.0000]), 'label': 5}, {'feature': tensor([0.2706, 0.0000, 0.0000,  ..., 0.0000, 0.0000, 0.0000]), 'label': 8}, {'feature': tensor([0.2706, 0.0000, 0.0000,  ..., 0.0000, 0.0000, 0.0000]), 'label': 5}, {'feature': tensor([0.2706, 0.0000, 0.0196,  ..., 0.0000, 0.0000, 0.0000]), 'label': 3}, {'feature': tensor([0.2706, 0.2824, 0.0196,  ..., 0.0000, 0.0000, 0.0000]), 'label': 9}, {'feature': tensor([0.2706, 0.0314, 0.0431,  ..., 0.9647, 0.7373, 0.3922]), 'label': 2}, {'feature': tensor([0.2706, 0.0000, 0.0000,  ..., 0.0000, 0.0000, 0.0000]), 'label': 11}, {'feature': tensor([0.2706, 0.2824, 0.0196,  ..., 0.0000, 0.0000, 0.0000]), 'label': 9}, {'feature': tensor([0.2706, 0.0000, 0.0000,  ..., 0.0000, 0.0000, 0.0000]), 'label': 11}, {'feature': tensor([0.2706, 0.0000, 0.0000,  ..., 0.0000, 0.0000, 0.0000]), 'label': 5}, {'feature': tensor([0.2706, 0.2824, 0.0196,  ..., 0.0000, 0.0000, 0.0000]), 'label': 9}, {'feature': tensor([0.2706, 0.0000, 0.0000,  ..., 0.0000, 0.0000, 0.0000]), 'label': 5}, {'feature': tensor([0.2706, 0.0000, 0.0392,  ..., 0.4471, 0.8549, 0.1176]), 'label': 3}, {'feature': tensor([0.2706, 0.0000, 0.0392,  ..., 0.1412, 0.0431, 0.8471]), 'label': 3}, {'feature': tensor([0.2706, 0.0000, 0.0000,  ..., 0.0000, 0.0000, 0.0000]), 'label': 6}, {'feature': tensor([0.2706, 0.0000, 0.0196,  ..., 0.0000, 0.0000, 0.0000]), 'label': 10}, {'feature': tensor([0.2706, 0.0000, 0.0000,  ..., 0.0000, 0.0000, 0.0000]), 'label': 11}, {'feature': tensor([0.2706, 0.0000, 0.0000,  ..., 0.0000, 0.0000, 0.0000]), 'label': 0}, {'feature': tensor([0.2706, 0.0000, 0.0588,  ..., 0.1804, 0.7137, 0.8471]), 'label': 3}, {'feature': tensor([0.3765, 0.0000, 0.0000,  ..., 0.0000, 0.0000, 0.0000]), 'label': 1}, {'feature': tensor([0.2706, 0.0000, 0.0000,  ..., 0.0000, 0.0000, 0.0000]), 'label': 5}, {'feature': tensor([0.2706, 0.0000, 0.0196,  ..., 0.0000, 0.0000, 0.0000]), 'label': 10}, {'feature': tensor([0.2706, 0.0000, 0.0000,  ..., 0.0000, 0.0000, 0.0000]), 'label': 5}, {'feature': tensor([0.2706, 0.0000, 0.0000,  ..., 0.0000, 0.0000, 0.0000]), 'label': 11}, {'feature': tensor([0.2706, 0.2824, 0.0196,  ..., 0.0000, 0.0000, 0.0000]), 'label': 9}, {'feature': tensor([0.0000, 0.0039, 0.0314,  ..., 0.0000, 0.0000, 0.0000]), 'label': 0}, {'feature': tensor([0.2706, 0.0000, 0.0000,  ..., 0.0000, 0.0000, 0.0000]), 'label': 0}, {'feature': tensor([0.2706, 0.0314, 0.0196,  ..., 0.0000, 0.0000, 0.0000]), 'label': 7}, {'feature': tensor([0.2706, 0.0000, 0.0157,  ..., 0.0000, 0.0000, 0.0000]), 'label': 6}, {'feature': tensor([0.2706, 0.0000, 0.0196,  ..., 0.0000, 0.0000, 0.0000]), 'label': 10}, {'feature': tensor([0.2706, 0.0000, 0.0000,  ..., 0.0000, 0.0000, 0.0000]), 'label': 11}, {'feature': tensor([0.2706, 0.0000, 0.0000,  ..., 0.0000, 0.0000, 0.0000]), 'label': 6}, {'feature': tensor([0.2706, 0.0000, 0.1647,  ..., 0.1412, 0.3882, 0.7529]), 'label': 3}, {'feature': tensor([0.2706, 0.2824, 0.0196,  ..., 0.0000, 0.0000, 0.0000]), 'label': 9}, {'feature': tensor([0.2706, 0.0000, 0.0588,  ..., 0.1843, 0.2745, 0.2235]), 'label': 3}, {'feature': tensor([0.2706, 0.0000, 0.0000,  ..., 0.0000, 0.0000, 0.0000]), 'label': 6}, {'feature': tensor([0.2706, 0.0000, 0.0000,  ..., 0.0000, 0.0000, 0.0000]), 'label': 11}, {'feature': tensor([0.2706, 0.2824, 0.0196,  ..., 0.0000, 0.0000, 0.0000]), 'label': 9}, {'feature': tensor([0.2706, 0.0000, 0.0000,  ..., 0.0000, 0.0000, 0.0000]), 'label': 11}, {'feature': tensor([0.2706, 0.0314, 0.1098,  ..., 0.2431, 0.5961, 0.8471]), 'label': 2}, {'feature': tensor([0.2706, 0.0000, 0.0000,  ..., 0.0000, 0.0000, 0.0000]), 'label': 1}, {'feature': tensor([0.2706, 0.2824, 0.0196,  ..., 0.0000, 0.0000, 0.0000]), 'label': 9}, {'feature': tensor([0.2706, 0.0000, 0.0000,  ..., 0.0000, 0.0000, 0.0000]), 'label': 0}, {'feature': tensor([0.2706, 0.0000, 0.0000,  ..., 0.0000, 0.0000, 0.0000]), 'label': 5}, {'feature': tensor([0.2706, 0.0000, 0.0000,  ..., 0.0000, 0.0000, 0.0000]), 'label': 5}, {'feature': tensor([0.2706, 0.0314, 0.0196,  ..., 0.0000, 0.0000, 0.0000]), 'label': 7}, {'feature': tensor([0.2706, 0.0000, 0.0000,  ..., 0.0000, 0.0000, 0.0000]), 'label': 11}, {'feature': tensor([0.2706, 0.0000, 0.0000,  ..., 0.0000, 0.0000, 0.0000]), 'label': 11}, {'feature': tensor([0.2706, 0.0000, 0.0078,  ..., 0.0000, 0.0000, 0.0000]), 'label': 0}, {'feature': tensor([0.2706, 0.0314, 0.4863,  ..., 0.7843, 0.0824, 0.8510]), 'label': 2}, {'feature': tensor([0.2706, 0.0314, 0.0000,  ..., 0.0000, 0.0000, 0.0000]), 'label': 2}, {'feature': tensor([0.2706, 0.2824, 0.0196,  ..., 0.0000, 0.0000, 0.0000]), 'label': 9}, {'feature': tensor([0.2706, 0.0000, 0.0000,  ..., 0.0000, 0.0000, 0.0000]), 'label': 11}, {'feature': tensor([0.2706, 0.0000, 0.0000,  ..., 0.0000, 0.0000, 0.0000]), 'label': 0}, {'feature': tensor([0.0000, 0.0039, 0.0314,  ..., 0.0000, 0.0000, 0.0000]), 'label': 1}, {'feature': tensor([0.2706, 0.2824, 0.0196,  ..., 0.0000, 0.0000, 0.0000]), 'label': 9}, {'feature': tensor([0.2706, 0.0000, 0.0000,  ..., 0.0000, 0.0000, 0.0000]), 'label': 11}, {'feature': tensor([0.2706, 0.2824, 0.0196,  ..., 0.0000, 0.0000, 0.0000]), 'label': 9}, {'feature': tensor([0.2706, 0.0000, 0.0000,  ..., 0.0000, 0.0000, 0.0000]), 'label': 6}, {'feature': tensor([0.2706, 0.0314, 0.0196,  ..., 0.0000, 0.0000, 0.0000]), 'label': 7}, {'feature': tensor([0.2706, 0.0000, 0.0000,  ..., 0.0000, 0.0000, 0.0000]), 'label': 0}, {'feature': tensor([0.2706, 0.0000, 0.0000,  ..., 0.0000, 0.0000, 0.0000]), 'label': 6}, {'feature': tensor([0.2706, 0.2824, 0.0196,  ..., 0.0000, 0.0000, 0.0000]), 'label': 9}, {'feature': tensor([0.2706, 0.0000, 0.0196,  ..., 0.0000, 0.0000, 0.0000]), 'label': 2}, {'feature': tensor([0.2706, 0.0000, 0.0000,  ..., 0.0000, 0.0000, 0.0000]), 'label': 0}, {'feature': tensor([0.2706, 0.0000, 0.0157,  ..., 0.0000, 0.0000, 0.0000]), 'label': 3}, {'feature': tensor([0.2706, 0.0000, 0.0000,  ..., 0.0000, 0.0000, 0.0000]), 'label': 5}, {'feature': tensor([0.2706, 0.0000, 0.0000,  ..., 0.0000, 0.0000, 0.0000]), 'label': 5}, {'feature': tensor([0.2706, 0.0000, 0.0000,  ..., 0.0000, 0.0000, 0.0000]), 'label': 1}, {'feature': tensor([0.2706, 0.0000, 0.0000,  ..., 0.0000, 0.0000, 0.0000]), 'label': 11}, {'feature': tensor([0.2706, 0.0000, 0.0000,  ..., 0.0000, 0.0000, 0.0000]), 'label': 1}, {'feature': tensor([0.2706, 0.0000, 0.0000,  ..., 0.0000, 0.0000, 0.0000]), 'label': 5}, {'feature': tensor([0.2706, 0.0000, 0.0000,  ..., 0.0000, 0.0000, 0.0000]), 'label': 0}, {'feature': tensor([0.2706, 0.2824, 0.0196,  ..., 0.0000, 0.0000, 0.0000]), 'label': 9}, {'feature': tensor([0.2706, 0.0000, 0.0196,  ..., 0.0000, 0.0000, 0.0000]), 'label': 10}, {'feature': tensor([0.2706, 0.2824, 0.0196,  ..., 0.0000, 0.0000, 0.0000]), 'label': 9}, {'feature': tensor([0.2706, 0.0000, 0.0000,  ..., 0.0000, 0.0000, 0.0000]), 'label': 2}, {'feature': tensor([0.2706, 0.0000, 0.0000,  ..., 0.0000, 0.0000, 0.0000]), 'label': 11}, {'feature': tensor([0.2706, 0.0000, 0.0000,  ..., 0.0000, 0.0000, 0.0000]), 'label': 5}, {'feature': tensor([0.2706, 0.0000, 0.0196,  ..., 0.0000, 0.0000, 0.0000]), 'label': 0}, {'feature': tensor([0.2706, 0.0000, 0.0196,  ..., 0.0000, 0.0000, 0.0000]), 'label': 8}, {'feature': tensor([0.2706, 0.0000, 0.0000,  ..., 0.0000, 0.0000, 0.0000]), 'label': 5}, {'feature': tensor([0.2706, 0.0000, 0.0000,  ..., 0.0000, 0.0000, 0.0000]), 'label': 5}, {'feature': tensor([0.2706, 0.2824, 0.0196,  ..., 0.0000, 0.0000, 0.0000]), 'label': 9}, {'feature': tensor([0.2706, 0.0314, 0.4627,  ..., 0.2039, 0.8588, 0.4902]), 'label': 2}, {'feature': tensor([0.2706, 0.0314, 0.0863,  ..., 0.1176, 0.7255, 0.9922]), 'label': 2}, {'feature': tensor([0.2706, 0.0314, 0.2510,  ..., 0.4000, 0.5765, 0.6039]), 'label': 2}, {'feature': tensor([0.2706, 0.0000, 0.0000,  ..., 0.0000, 0.0000, 0.0000]), 'label': 8}, {'feature': tensor([0.2706, 0.0000, 0.0196,  ..., 0.0000, 0.0000, 0.0000]), 'label': 10}, {'feature': tensor([0.2706, 0.0314, 0.0196,  ..., 0.0000, 0.0000, 0.0000]), 'label': 7}, {'feature': tensor([0.2706, 0.2824, 0.0196,  ..., 0.0000, 0.0000, 0.0000]), 'label': 9}, {'feature': tensor([0.0000, 0.0039, 0.0314,  ..., 0.0000, 0.0000, 0.0000]), 'label': 0}, {'feature': tensor([0.2706, 0.0000, 0.0000,  ..., 0.0000, 0.0000, 0.0000]), 'label': 5}, {'feature': tensor([0.2706, 0.0000, 0.0000,  ..., 0.0000, 0.0000, 0.0000]), 'label': 11}, {'feature': tensor([0.2706, 0.0000, 0.0000,  ..., 0.0000, 0.0000, 0.0000]), 'label': 11}, {'feature': tensor([0.2706, 0.2824, 0.0196,  ..., 0.0000, 0.0000, 0.0000]), 'label': 9}, {'feature': tensor([0.2706, 0.0314, 0.0196,  ..., 0.0000, 0.0000, 0.0000]), 'label': 7}, {'feature': tensor([0.2706, 0.2824, 0.0196,  ..., 0.0000, 0.0000, 0.0000]), 'label': 9}, {'feature': tensor([0.2706, 0.2824, 0.0196,  ..., 0.0000, 0.0000, 0.0000]), 'label': 9}, {'feature': tensor([0.2706, 0.2824, 0.0196,  ..., 0.0000, 0.0000, 0.0000]), 'label': 9}, {'feature': tensor([0.2706, 0.0000, 0.0000,  ..., 0.0000, 0.0000, 0.0000]), 'label': 11}, {'feature': tensor([0.2706, 0.0314, 0.0196,  ..., 0.0000, 0.0000, 0.0000]), 'label': 7}, {'feature': tensor([0.2706, 0.0000, 0.0196,  ..., 0.0000, 0.0000, 0.0000]), 'label': 10}, {'feature': tensor([0.2706, 0.0000, 0.0196,  ..., 0.0000, 0.0000, 0.0000]), 'label': 0}, {'feature': tensor([0.2706, 0.0000, 0.0196,  ..., 0.0000, 0.0000, 0.0000]), 'label': 2}, {'feature': tensor([0.2706, 0.0000, 0.0196,  ..., 0.8235, 0.5333, 0.9294]), 'label': 2}, {'feature': tensor([0.2706, 0.0314, 0.0000,  ..., 0.0000, 0.0000, 0.0000]), 'label': 2}, {'feature': tensor([0.2706, 0.0000, 0.0000,  ..., 0.0000, 0.0000, 0.0000]), 'label': 2}, {'feature': tensor([0.2706, 0.0000, 0.0000,  ..., 0.0000, 0.0000, 0.0000]), 'label': 11}, {'feature': tensor([0.2706, 0.0314, 0.0196,  ..., 0.0000, 0.0000, 0.0000]), 'label': 7}, {'feature': tensor([0.2706, 0.0314, 0.0039,  ..., 0.0000, 0.0000, 0.0000]), 'label': 2}, {'feature': tensor([0.2706, 0.0000, 0.0000,  ..., 0.0000, 0.0000, 0.0000]), 'label': 5}, {'feature': tensor([0.0000, 0.0039, 0.0314,  ..., 0.0000, 0.0000, 0.0000]), 'label': 1}, {'feature': tensor([0.2706, 0.0000, 0.0000,  ..., 0.0000, 0.0000, 0.0000]), 'label': 5}, {'feature': tensor([0.2706, 0.0314, 0.4431,  ..., 0.7529, 0.9059, 0.2314]), 'label': 2}, {'feature': tensor([0.2706, 0.0000, 0.0000,  ..., 0.0000, 0.0000, 0.0000]), 'label': 11}, {'feature': tensor([0.2706, 0.0000, 0.0000,  ..., 0.0000, 0.0000, 0.0000]), 'label': 5}, {'feature': tensor([0.2706, 0.2824, 0.0196,  ..., 0.0000, 0.0000, 0.0000]), 'label': 9}, {'feature': tensor([0.0000, 0.0039, 0.0314,  ..., 0.0000, 0.0000, 0.0000]), 'label': 1}, {'feature': tensor([0.2706, 0.0000, 0.0196,  ..., 0.0000, 0.0000, 0.0000]), 'label': 10}, {'feature': tensor([0.2706, 0.0000, 0.0196,  ..., 0.0000, 0.0000, 0.0000]), 'label': 10}, {'feature': tensor([0.2706, 0.2824, 0.0196,  ..., 0.0000, 0.0000, 0.0000]), 'label': 9}, {'feature': tensor([0.2706, 0.0000, 0.0196,  ..., 0.0000, 0.0000, 0.0000]), 'label': 10}, {'feature': tensor([0.2706, 0.2824, 0.0196,  ..., 0.0000, 0.0000, 0.0000]), 'label': 9}, {'feature': tensor([0.0000, 0.0039, 0.0314,  ..., 0.0000, 0.0000, 0.0000]), 'label': 1}, {'feature': tensor([0.2706, 0.0000, 0.0000,  ..., 0.0000, 0.0000, 0.0000]), 'label': 11}, {'feature': tensor([0.2706, 0.0000, 0.0000,  ..., 0.0000, 0.0000, 0.0000]), 'label': 8}, {'feature': tensor([0.2706, 0.0000, 0.0000,  ..., 0.0000, 0.0000, 0.0000]), 'label': 0}, {'feature': tensor([0.2706, 0.0000, 0.0039,  ..., 0.0000, 0.0000, 0.0000]), 'label': 3}, {'feature': tensor([0.2706, 0.0000, 0.0000,  ..., 0.0000, 0.0000, 0.0000]), 'label': 11}, {'feature': tensor([0.2706, 0.0000, 0.0000,  ..., 0.0000, 0.0000, 0.0000]), 'label': 8}, {'feature': tensor([0.0000, 0.0039, 0.0314,  ..., 0.0000, 0.0000, 0.0000]), 'label': 1}, {'feature': tensor([0.2706, 0.0314, 0.0196,  ..., 0.1608, 0.8745, 0.7686]), 'label': 2}, {'feature': tensor([0.0000, 0.0039, 0.0314,  ..., 0.0000, 0.0000, 0.0000]), 'label': 1}, {'feature': tensor([0.2706, 0.0000, 0.3255,  ..., 0.5647, 0.6667, 0.4824]), 'label': 3}, {'feature': tensor([0.2706, 0.0000, 0.0000,  ..., 0.0000, 0.0000, 0.0000]), 'label': 5}, {'feature': tensor([0.2706, 0.0000, 0.0000,  ..., 0.0000, 0.0000, 0.0000]), 'label': 0}, {'feature': tensor([0.2706, 0.0000, 0.0000,  ..., 0.0000, 0.0000, 0.0000]), 'label': 1}, {'feature': tensor([0.2706, 0.0000, 0.0000,  ..., 0.0000, 0.0000, 0.0000]), 'label': 11}, {'feature': tensor([0.2706, 0.0000, 0.0000,  ..., 0.0000, 0.0000, 0.0000]), 'label': 5}, {'feature': tensor([0.2706, 0.2824, 0.0196,  ..., 0.0000, 0.0000, 0.0000]), 'label': 9}, {'feature': tensor([0.2706, 0.0000, 0.0588,  ..., 0.6157, 0.1020, 0.0314]), 'label': 3}, {'feature': tensor([0.2706, 0.0000, 0.0000,  ..., 0.0000, 0.0000, 0.0000]), 'label': 11}, {'feature': tensor([0.2706, 0.0314, 0.0667,  ..., 0.7373, 0.7725, 0.3373]), 'label': 2}, {'feature': tensor([0.2706, 0.0000, 0.0000,  ..., 0.0000, 0.0000, 0.0000]), 'label': 11}, {'feature': tensor([0.2706, 0.2824, 0.0196,  ..., 0.0000, 0.0000, 0.0000]), 'label': 9}, {'feature': tensor([0.2706, 0.0000, 0.0196,  ..., 0.1020, 0.0549, 0.9961]), 'label': 2}, {'feature': tensor([0.2706, 0.0000, 0.0000,  ..., 0.0000, 0.0000, 0.0000]), 'label': 5}, {'feature': tensor([0.2706, 0.0000, 0.0196,  ..., 0.7961, 0.0000, 0.3412]), 'label': 2}, {'feature': tensor([0.2706, 0.0000, 0.0000,  ..., 0.0000, 0.0000, 0.0000]), 'label': 6}, {'feature': tensor([0.2706, 0.0000, 0.0000,  ..., 0.0000, 0.0000, 0.0000]), 'label': 6}, {'feature': tensor([0.2706, 0.0000, 0.0000,  ..., 0.0000, 0.0000, 0.0000]), 'label': 5}, {'feature': tensor([0.2706, 0.0314, 0.0000,  ..., 0.0000, 0.0000, 0.0000]), 'label': 2}, {'feature': tensor([0.2706, 0.0000, 0.0196,  ..., 0.0000, 0.0000, 0.0000]), 'label': 6}, {'feature': tensor([0.2706, 0.0000, 0.0078,  ..., 0.0000, 0.0000, 0.0000]), 'label': 0}, {'feature': tensor([0.2706, 0.0314, 0.0196,  ..., 0.0000, 0.0000, 0.0000]), 'label': 7}, {'feature': tensor([0.2706, 0.0000, 0.0000,  ..., 0.0000, 0.0000, 0.0000]), 'label': 3}, {'feature': tensor([0.2706, 0.0000, 0.0196,  ..., 0.0000, 0.0000, 0.0000]), 'label': 0}, {'feature': tensor([0.2706, 0.2824, 0.0196,  ..., 0.0000, 0.0000, 0.0000]), 'label': 9}, {'feature': tensor([0.2706, 0.2824, 0.0196,  ..., 0.0000, 0.0000, 0.0000]), 'label': 9}, {'feature': tensor([0.2706, 0.0000, 0.0039,  ..., 0.0000, 0.0000, 0.0000]), 'label': 1}, {'feature': tensor([0.2706, 0.0000, 0.0000,  ..., 0.0000, 0.0000, 0.0000]), 'label': 5}, {'feature': tensor([0.2706, 0.2824, 0.0196,  ..., 0.0000, 0.0000, 0.0000]), 'label': 9}, {'feature': tensor([0.2706, 0.0000, 0.0196,  ..., 0.6000, 0.7804, 0.8941]), 'label': 2}, {'feature': tensor([0.2706, 0.0000, 0.0000,  ..., 0.0000, 0.0000, 0.0000]), 'label': 8}, {'feature': tensor([0.2706, 0.2824, 0.0196,  ..., 0.0000, 0.0000, 0.0000]), 'label': 9}, {'feature': tensor([0.2706, 0.0000, 0.0000,  ..., 0.0000, 0.0000, 0.0000]), 'label': 6}, {'feature': tensor([0.2706, 0.2824, 0.0196,  ..., 0.0000, 0.0000, 0.0000]), 'label': 9}, {'feature': tensor([0.2706, 0.0314, 0.0941,  ..., 0.2235, 0.4667, 0.9059]), 'label': 2}, {'feature': tensor([0.2706, 0.0000, 0.0000,  ..., 0.0000, 0.0000, 0.0000]), 'label': 8}, {'feature': tensor([0.2706, 0.0000, 0.0000,  ..., 0.0000, 0.0000, 0.0000]), 'label': 0}, {'feature': tensor([0.2706, 0.0314, 0.0863,  ..., 0.1804, 0.8510, 0.3451]), 'label': 2}, {'feature': tensor([0.2706, 0.2824, 0.0196,  ..., 0.0000, 0.0000, 0.0000]), 'label': 9}, {'feature': tensor([0.2706, 0.0000, 0.0000,  ..., 0.0000, 0.0000, 0.0000]), 'label': 0}, {'feature': tensor([0.2706, 0.0000, 0.0000,  ..., 0.0000, 0.0000, 0.0000]), 'label': 11}, {'feature': tensor([0.2706, 0.2824, 0.0196,  ..., 0.0000, 0.0000, 0.0000]), 'label': 9}, {'feature': tensor([0.0000, 0.0039, 0.0314,  ..., 0.0000, 0.0000, 0.0000]), 'label': 1}, {'feature': tensor([0.2706, 0.0000, 0.0000,  ..., 0.0000, 0.0000, 0.0000]), 'label': 1}, {'feature': tensor([0.2706, 0.2824, 0.0196,  ..., 0.0000, 0.0000, 0.0000]), 'label': 9}, {'feature': tensor([0.2706, 0.2824, 0.0196,  ..., 0.0000, 0.0000, 0.0000]), 'label': 9}, {'feature': tensor([0.2706, 0.0000, 0.0000,  ..., 0.0000, 0.0000, 0.0000]), 'label': 5}, {'feature': tensor([0.2706, 0.0000, 0.0000,  ..., 0.0000, 0.0000, 0.0000]), 'label': 8}, {'feature': tensor([0.2706, 0.2824, 0.0196,  ..., 0.0000, 0.0000, 0.0000]), 'label': 9}, {'feature': tensor([0.2706, 0.0000, 0.0000,  ..., 0.0000, 0.0000, 0.0000]), 'label': 5}, {'feature': tensor([0.2706, 0.0000, 0.0000,  ..., 0.0000, 0.0000, 0.0000]), 'label': 6}, {'feature': tensor([0.2706, 0.0000, 0.0000,  ..., 0.0000, 0.0000, 0.0000]), 'label': 6}, {'feature': tensor([0.2706, 0.0314, 0.0863,  ..., 0.0588, 0.6902, 0.3804]), 'label': 2}, {'feature': tensor([0.2706, 0.2824, 0.0196,  ..., 0.0000, 0.0000, 0.0000]), 'label': 9}, {'feature': tensor([0.2706, 0.0000, 0.0000,  ..., 0.0000, 0.0000, 0.0000]), 'label': 5}, {'feature': tensor([0.2706, 0.0000, 0.0196,  ..., 0.0000, 0.0000, 0.0000]), 'label': 0}, {'feature': tensor([0.2706, 0.2824, 0.0196,  ..., 0.0000, 0.0000, 0.0000]), 'label': 9}, {'feature': tensor([0.2706, 0.0000, 0.0000,  ..., 0.0000, 0.0000, 0.0000]), 'label': 8}, {'feature': tensor([0.2706, 0.0000, 0.0000,  ..., 0.0000, 0.0000, 0.0000]), 'label': 5}, {'feature': tensor([0.2706, 0.0000, 0.0000,  ..., 0.0000, 0.0000, 0.0000]), 'label': 0}, {'feature': tensor([0.2706, 0.0000, 0.0196,  ..., 0.6863, 0.2078, 0.4902]), 'label': 2}, {'feature': tensor([0.2706, 0.0000, 0.0000,  ..., 0.0000, 0.0000, 0.0000]), 'label': 6}, {'feature': tensor([0.2706, 0.0000, 0.0000,  ..., 0.0000, 0.0000, 0.0000]), 'label': 11}, {'feature': tensor([0.2706, 0.0000, 0.0000,  ..., 0.0000, 0.0000, 0.0000]), 'label': 2}, {'feature': tensor([0.2706, 0.0000, 0.0196,  ..., 0.0000, 0.0000, 0.0000]), 'label': 2}, {'feature': tensor([0.2706, 0.0000, 0.0000,  ..., 0.0000, 0.0000, 0.0000]), 'label': 0}, {'feature': tensor([0.2706, 0.0000, 0.0196,  ..., 0.0000, 0.0000, 0.0000]), 'label': 10}, {'feature': tensor([0.2706, 0.0000, 0.0196,  ..., 0.0000, 0.0000, 0.0000]), 'label': 8}, {'feature': tensor([0.2706, 0.0314, 0.0196,  ..., 0.0000, 0.0000, 0.0000]), 'label': 2}, {'feature': tensor([0.2706, 0.0000, 0.0196,  ..., 0.0000, 0.0000, 0.0000]), 'label': 0}, {'feature': tensor([0.2706, 0.0000, 0.0000,  ..., 0.0000, 0.0000, 0.0000]), 'label': 5}, {'feature': tensor([0.2706, 0.0000, 0.0000,  ..., 0.0000, 0.0000, 0.0000]), 'label': 6}, {'feature': tensor([0.2706, 0.2824, 0.0196,  ..., 0.0000, 0.0000, 0.0000]), 'label': 9}, {'feature': tensor([0.2706, 0.0000, 0.0196,  ..., 0.1529, 0.9804, 0.6078]), 'label': 2}, {'feature': tensor([0.2706, 0.2824, 0.0196,  ..., 0.0000, 0.0000, 0.0000]), 'label': 9}, {'feature': tensor([0.2706, 0.0000, 0.0196,  ..., 0.0000, 0.0000, 0.0000]), 'label': 10}, {'feature': tensor([0.2706, 0.0000, 0.0000,  ..., 0.0000, 0.0000, 0.0000]), 'label': 11}, {'feature': tensor([0.2706, 0.0000, 0.0196,  ..., 0.0000, 0.0000, 0.0000]), 'label': 3}, {'feature': tensor([0.2706, 0.0000, 0.0000,  ..., 0.0000, 0.0000, 0.0000]), 'label': 0}, {'feature': tensor([0.2706, 0.0000, 0.0000,  ..., 0.0000, 0.0000, 0.0000]), 'label': 11}, {'feature': tensor([0.2706, 0.2824, 0.0196,  ..., 0.0000, 0.0000, 0.0000]), 'label': 9}, {'feature': tensor([0.2706, 0.0000, 0.0000,  ..., 0.0000, 0.0000, 0.0000]), 'label': 11}, {'feature': tensor([0.2706, 0.0000, 0.0000,  ..., 0.0000, 0.0000, 0.0000]), 'label': 11}, {'feature': tensor([0.2706, 0.0000, 0.0000,  ..., 0.0000, 0.0000, 0.0000]), 'label': 6}, {'feature': tensor([0.2706, 0.0000, 0.0000,  ..., 0.0000, 0.0000, 0.0000]), 'label': 5}, {'feature': tensor([0.2706, 0.0000, 0.0000,  ..., 0.0000, 0.0000, 0.0000]), 'label': 0}, {'feature': tensor([0.2706, 0.0000, 0.0000,  ..., 0.0000, 0.0000, 0.0000]), 'label': 5}, {'feature': tensor([0.2706, 0.0000, 0.0000,  ..., 0.0000, 0.0000, 0.0000]), 'label': 6}, {'feature': tensor([0.2706, 0.2824, 0.0196,  ..., 0.0000, 0.0000, 0.0000]), 'label': 9}, {'feature': tensor([0.2706, 0.0314, 0.0196,  ..., 0.0000, 0.0000, 0.0000]), 'label': 7}, {'feature': tensor([0.2706, 0.0000, 0.0000,  ..., 0.0000, 0.0000, 0.0000]), 'label': 11}, {'feature': tensor([0.2706, 0.0000, 0.0000,  ..., 0.0000, 0.0000, 0.0000]), 'label': 11}, {'feature': tensor([0.2706, 0.0314, 0.0196,  ..., 0.0000, 0.0000, 0.0000]), 'label': 7}, {'feature': tensor([0.2706, 0.0000, 0.0000,  ..., 0.0000, 0.0000, 0.0000]), 'label': 11}, {'feature': tensor([0.2706, 0.0000, 0.0000,  ..., 0.0000, 0.0000, 0.0000]), 'label': 11}, {'feature': tensor([0.2706, 0.0314, 0.0196,  ..., 0.0000, 0.0000, 0.0000]), 'label': 7}, {'feature': tensor([0.2706, 0.0000, 0.0000,  ..., 0.0000, 0.0000, 0.0000]), 'label': 3}, {'feature': tensor([0.2706, 0.0314, 0.0196,  ..., 0.0000, 0.0000, 0.0000]), 'label': 7}, {'feature': tensor([0.2706, 0.0314, 0.0196,  ..., 0.0000, 0.0000, 0.0000]), 'label': 7}, {'feature': tensor([0.2706, 0.0000, 0.0000,  ..., 0.0000, 0.0000, 0.0000]), 'label': 8}, {'feature': tensor([0.2706, 0.0000, 0.0196,  ..., 0.0000, 0.0000, 0.0000]), 'label': 10}, {'feature': tensor([0.2706, 0.0000, 0.0235,  ..., 0.6588, 0.9725, 0.7216]), 'label': 3}, {'feature': tensor([0.0000, 0.0039, 0.0314,  ..., 0.0000, 0.0000, 0.0000]), 'label': 1}, {'feature': tensor([0.2706, 0.0314, 0.0667,  ..., 0.3412, 0.9490, 0.2314]), 'label': 2}, {'feature': tensor([0.2706, 0.0000, 0.0000,  ..., 0.0000, 0.0000, 0.0000]), 'label': 6}, {'feature': tensor([0.2706, 0.2824, 0.0196,  ..., 0.0000, 0.0000, 0.0000]), 'label': 9}, {'feature': tensor([0.2706, 0.0314, 0.0196,  ..., 0.0000, 0.0000, 0.0000]), 'label': 7}, {'feature': tensor([0.2706, 0.0000, 0.0000,  ..., 0.0000, 0.0000, 0.0000]), 'label': 5}, {'feature': tensor([0.2706, 0.0000, 0.0000,  ..., 0.0000, 0.0000, 0.0000]), 'label': 0}, {'feature': tensor([0.2706, 0.0000, 0.0196,  ..., 0.0000, 0.0000, 0.0000]), 'label': 3}, {'feature': tensor([0.2706, 0.0000, 0.0196,  ..., 0.1804, 0.4549, 0.6510]), 'label': 2}, {'feature': tensor([0.2706, 0.2824, 0.0078,  ..., 0.0000, 0.0000, 0.0000]), 'label': 9}, {'feature': tensor([0.2706, 0.0000, 0.0000,  ..., 0.0000, 0.0000, 0.0000]), 'label': 11}, {'feature': tensor([0.2706, 0.0000, 0.0000,  ..., 0.0000, 0.0000, 0.0000]), 'label': 2}, {'feature': tensor([0.2706, 0.0000, 0.0196,  ..., 0.0000, 0.0000, 0.0000]), 'label': 10}, {'feature': tensor([0.2706, 0.0314, 0.0196,  ..., 0.0000, 0.0000, 0.0000]), 'label': 7}, {'feature': tensor([0.2706, 0.2824, 0.0196,  ..., 0.0000, 0.0000, 0.0000]), 'label': 9}, {'feature': tensor([0.2706, 0.0314, 0.0667,  ..., 0.2902, 0.1373, 0.4510]), 'label': 2}, {'feature': tensor([0.2706, 0.0000, 0.0000,  ..., 0.0000, 0.0000, 0.0000]), 'label': 11}, {'feature': tensor([0.2706, 0.0000, 0.0000,  ..., 0.0000, 0.0000, 0.0000]), 'label': 5}, {'feature': tensor([0.2706, 0.0000, 0.0000,  ..., 0.0000, 0.0000, 0.0000]), 'label': 0}, {'feature': tensor([0.2706, 0.0314, 0.0196,  ..., 0.0000, 0.0000, 0.0000]), 'label': 7}, {'feature': tensor([0.2706, 0.0314, 0.0039,  ..., 0.0000, 0.0000, 0.0000]), 'label': 2}, {'feature': tensor([0.2706, 0.0314, 0.0196,  ..., 0.0000, 0.0000, 0.0000]), 'label': 7}, {'feature': tensor([0.2706, 0.0000, 0.0000,  ..., 0.0000, 0.0000, 0.0000]), 'label': 5}, {'feature': tensor([0.2706, 0.0000, 0.0000,  ..., 0.0000, 0.0000, 0.0000]), 'label': 6}, {'feature': tensor([0.2706, 0.0314, 0.0196,  ..., 0.0000, 0.0000, 0.0000]), 'label': 7}, {'feature': tensor([0.2706, 0.0000, 0.0000,  ..., 0.0000, 0.0000, 0.0000]), 'label': 5}, {'feature': tensor([0.2706, 0.0000, 0.0000,  ..., 0.0000, 0.0000, 0.0000]), 'label': 1}, {'feature': tensor([0.2706, 0.0000, 0.0000,  ..., 0.0000, 0.0000, 0.0000]), 'label': 5}, {'feature': tensor([0.2706, 0.0000, 0.0000,  ..., 0.0000, 0.0000, 0.0000]), 'label': 0}, {'feature': tensor([0.2706, 0.0000, 0.0157,  ..., 0.0000, 0.0000, 0.0000]), 'label': 6}, {'feature': tensor([0.2706, 0.0000, 0.0196,  ..., 0.0000, 0.0000, 0.0000]), 'label': 10}, {'feature': tensor([0.2706, 0.0000, 0.0000,  ..., 0.0000, 0.0000, 0.0000]), 'label': 7}, {'feature': tensor([0.2706, 0.0314, 0.0863,  ..., 0.6078, 0.4902, 0.6353]), 'label': 2}, {'feature': tensor([0.2706, 0.0000, 0.0000,  ..., 0.0000, 0.0000, 0.0000]), 'label': 8}, {'feature': tensor([0.2706, 0.0000, 0.0000,  ..., 0.0000, 0.0000, 0.0000]), 'label': 5}, {'feature': tensor([0.2706, 0.0000, 0.0157,  ..., 0.0000, 0.0000, 0.0000]), 'label': 0}, {'feature': tensor([0.2706, 0.2824, 0.0196,  ..., 0.0000, 0.0000, 0.0000]), 'label': 9}, {'feature': tensor([0.2706, 0.0314, 0.4863,  ..., 0.7255, 0.5608, 0.1451]), 'label': 2}, {'feature': tensor([0.2706, 0.0000, 0.0000,  ..., 0.0000, 0.0000, 0.0000]), 'label': 11}, {'feature': tensor([0.2706, 0.0000, 0.0196,  ..., 0.0000, 0.0000, 0.0000]), 'label': 2}, {'feature': tensor([0.2706, 0.0000, 0.0196,  ..., 0.0000, 0.0000, 0.0000]), 'label': 10}, {'feature': tensor([0.2706, 0.0000, 0.0000,  ..., 0.0000, 0.0000, 0.0000]), 'label': 11}, {'feature': tensor([0.2706, 0.0000, 0.0000,  ..., 0.0000, 0.0000, 0.0000]), 'label': 11}, {'feature': tensor([0.2706, 0.0314, 0.0863,  ..., 0.0588, 0.0471, 0.3686]), 'label': 2}, {'feature': tensor([0.0000, 0.0039, 0.0314,  ..., 0.0000, 0.0000, 0.0000]), 'label': 1}, {'feature': tensor([0.2706, 0.2824, 0.0196,  ..., 0.0000, 0.0000, 0.0000]), 'label': 9}, {'feature': tensor([0.2706, 0.0000, 0.0000,  ..., 0.0000, 0.0000, 0.0000]), 'label': 2}, {'feature': tensor([0.2706, 0.0000, 0.0000,  ..., 0.0000, 0.0000, 0.0000]), 'label': 11}, {'feature': tensor([0.2706, 0.0000, 0.0157,  ..., 0.0000, 0.0000, 0.0000]), 'label': 6}, {'feature': tensor([0.2706, 0.0000, 0.0196,  ..., 0.0000, 0.0000, 0.0000]), 'label': 10}, {'feature': tensor([0.2706, 0.2824, 0.0196,  ..., 0.0000, 0.0000, 0.0000]), 'label': 9}, {'feature': tensor([0.2706, 0.0314, 0.0196,  ..., 0.0000, 0.0000, 0.0000]), 'label': 7}, {'feature': tensor([0.2706, 0.0000, 0.0000,  ..., 0.0000, 0.0000, 0.0000]), 'label': 5}, {'feature': tensor([0.2706, 0.0000, 0.0196,  ..., 0.0000, 0.0000, 0.0000]), 'label': 8}, {'feature': tensor([0.2706, 0.2824, 0.0196,  ..., 0.0000, 0.0000, 0.0000]), 'label': 9}, {'feature': tensor([0.2706, 0.0000, 0.0000,  ..., 0.0000, 0.0000, 0.0000]), 'label': 0}, {'feature': tensor([0.2706, 0.0000, 0.0157,  ..., 0.0000, 0.0000, 0.0000]), 'label': 9}, {'feature': tensor([0.2706, 0.0000, 0.0000,  ..., 0.0000, 0.0000, 0.0000]), 'label': 5}, {'feature': tensor([0.2706, 0.0000, 0.0078,  ..., 0.0000, 0.0000, 0.0000]), 'label': 7}, {'feature': tensor([0.2706, 0.2824, 0.0196,  ..., 0.0000, 0.0000, 0.0000]), 'label': 9}, {'feature': tensor([0.2706, 0.0000, 0.0196,  ..., 0.0000, 0.0000, 0.0000]), 'label': 10}, {'feature': tensor([0.2706, 0.0000, 0.0196,  ..., 0.0000, 0.0000, 0.0000]), 'label': 0}, {'feature': tensor([0.2706, 0.2824, 0.0196,  ..., 0.0000, 0.0000, 0.0000]), 'label': 9}, {'feature': tensor([0.2706, 0.2824, 0.0196,  ..., 0.0000, 0.0000, 0.0000]), 'label': 9}, {'feature': tensor([0.2706, 0.0000, 0.0000,  ..., 0.0000, 0.0000, 0.0000]), 'label': 5}, {'feature': tensor([0.2706, 0.0000, 0.0039,  ..., 0.0000, 0.0000, 0.0000]), 'label': 6}, {'feature': tensor([0.2706, 0.0000, 0.0196,  ..., 0.0000, 0.0000, 0.0000]), 'label': 11}, {'feature': tensor([0.2706, 0.0000, 0.0000,  ..., 0.0000, 0.0000, 0.0000]), 'label': 5}, {'feature': tensor([0.2706, 0.2824, 0.0196,  ..., 0.0000, 0.0000, 0.0000]), 'label': 9}, {'feature': tensor([0.2706, 0.0000, 0.0000,  ..., 0.0000, 0.0000, 0.0000]), 'label': 11}, {'feature': tensor([0.2706, 0.0000, 0.0000,  ..., 0.0000, 0.0000, 0.0000]), 'label': 2}, {'feature': tensor([0.2706, 0.0314, 0.0196,  ..., 0.0000, 0.0000, 0.0000]), 'label': 7}, {'feature': tensor([0.2706, 0.0314, 0.0196,  ..., 0.0000, 0.0000, 0.0000]), 'label': 7}, {'feature': tensor([0.2706, 0.0000, 0.0000,  ..., 0.0000, 0.0000, 0.0000]), 'label': 6}, {'feature': tensor([0.0000, 0.0039, 0.0314,  ..., 0.0000, 0.0000, 0.0000]), 'label': 1}, {'feature': tensor([0.2706, 0.0000, 0.0039,  ..., 0.0000, 0.0000, 0.0000]), 'label': 8}, {'feature': tensor([0.2706, 0.0000, 0.0196,  ..., 0.0000, 0.0000, 0.0000]), 'label': 0}, {'feature': tensor([0.2706, 0.0000, 0.0196,  ..., 0.0000, 0.0000, 0.0000]), 'label': 10}, {'feature': tensor([0.2706, 0.0314, 0.0196,  ..., 0.0000, 0.0000, 0.0000]), 'label': 7}, {'feature': tensor([0.2706, 0.0000, 0.0039,  ..., 0.0000, 0.0000, 0.0000]), 'label': 0}, {'feature': tensor([0.2706, 0.2824, 0.0196,  ..., 0.0000, 0.0000, 0.0000]), 'label': 9}, {'feature': tensor([0.2706, 0.2824, 0.0196,  ..., 0.0000, 0.0000, 0.0000]), 'label': 9}, {'feature': tensor([0.2706, 0.0000, 0.0196,  ..., 0.0000, 0.0000, 0.0000]), 'label': 8}, {'feature': tensor([0.2706, 0.0000, 0.0078,  ..., 0.0000, 0.0000, 0.0000]), 'label': 0}, {'feature': tensor([0.2706, 0.0000, 0.0000,  ..., 0.0000, 0.0000, 0.0000]), 'label': 11}, {'feature': tensor([0.2706, 0.0000, 0.0000,  ..., 0.0000, 0.0000, 0.0000]), 'label': 2}, {'feature': tensor([0.2706, 0.0000, 0.0392,  ..., 0.9961, 0.0588, 0.1843]), 'label': 3}, {'feature': tensor([0.2706, 0.0000, 0.0000,  ..., 0.0000, 0.0000, 0.0000]), 'label': 6}, {'feature': tensor([0.2706, 0.0000, 0.0000,  ..., 0.0000, 0.0000, 0.0000]), 'label': 11}, {'feature': tensor([0.2706, 0.0000, 0.0000,  ..., 0.0000, 0.0000, 0.0000]), 'label': 0}, {'feature': tensor([0.2706, 0.0000, 0.0000,  ..., 0.0000, 0.0000, 0.0000]), 'label': 0}, {'feature': tensor([0.2706, 0.0000, 0.0000,  ..., 0.0000, 0.0000, 0.0000]), 'label': 6}, {'feature': tensor([0.2706, 0.0000, 0.0000,  ..., 0.0000, 0.0000, 0.0000]), 'label': 5}, {'feature': tensor([0.2706, 0.0000, 0.0078,  ..., 0.0000, 0.0000, 0.0000]), 'label': 7}, {'feature': tensor([0.2706, 0.2824, 0.0196,  ..., 0.0000, 0.0000, 0.0000]), 'label': 9}, {'feature': tensor([0.2706, 0.0000, 0.0000,  ..., 0.0000, 0.0000, 0.0000]), 'label': 6}, {'feature': tensor([0.2706, 0.0000, 0.0000,  ..., 0.0000, 0.0000, 0.0000]), 'label': 5}, {'feature': tensor([0.2706, 0.0000, 0.0000,  ..., 0.0000, 0.0000, 0.0000]), 'label': 5}, {'feature': tensor([0.2706, 0.0000, 0.0000,  ..., 0.0000, 0.0000, 0.0000]), 'label': 11}, {'feature': tensor([0.2706, 0.0000, 0.0000,  ..., 0.0000, 0.0000, 0.0000]), 'label': 0}, {'feature': tensor([0.2706, 0.0000, 0.0000,  ..., 0.0000, 0.0000, 0.0000]), 'label': 6}, {'feature': tensor([0.2706, 0.0000, 0.0196,  ..., 0.0000, 0.0000, 0.0000]), 'label': 10}, {'feature': tensor([0.2706, 0.0000, 0.0000,  ..., 0.0000, 0.0000, 0.0000]), 'label': 5}, {'feature': tensor([0.2706, 0.0000, 0.0000,  ..., 0.0000, 0.0000, 0.0000]), 'label': 11}, {'feature': tensor([0.2706, 0.0000, 0.0000,  ..., 0.0000, 0.0000, 0.0000]), 'label': 11}, {'feature': tensor([0.2706, 0.0314, 0.0196,  ..., 0.0000, 0.0000, 0.0000]), 'label': 7}, {'feature': tensor([0.2706, 0.0000, 0.0000,  ..., 0.0000, 0.0000, 0.0000]), 'label': 6}, {'feature': tensor([0.2706, 0.2824, 0.0196,  ..., 0.0000, 0.0000, 0.0000]), 'label': 9}, {'feature': tensor([0.2706, 0.0314, 0.0196,  ..., 0.0000, 0.0000, 0.0000]), 'label': 7}, {'feature': tensor([0.2706, 0.0314, 0.0431,  ..., 0.8314, 0.7098, 0.4314]), 'label': 2}, {'feature': tensor([0.2706, 0.0000, 0.0000,  ..., 0.0000, 0.0000, 0.0000]), 'label': 1}, {'feature': tensor([0.0000, 0.0039, 0.0314,  ..., 0.0000, 0.0000, 0.0000]), 'label': 1}, {'feature': tensor([0.2706, 0.0000, 0.0196,  ..., 0.0000, 0.0000, 0.0000]), 'label': 8}, {'feature': tensor([0.2706, 0.2824, 0.0196,  ..., 0.0000, 0.0000, 0.0000]), 'label': 9}, {'feature': tensor([0.2706, 0.0000, 0.0000,  ..., 0.0000, 0.0000, 0.0000]), 'label': 11}, {'feature': tensor([0.2706, 0.2824, 0.0196,  ..., 0.0000, 0.0000, 0.0000]), 'label': 9}, {'feature': tensor([0.2706, 0.0000, 0.0000,  ..., 0.0000, 0.0000, 0.0000]), 'label': 11}, {'feature': tensor([0.2706, 0.0000, 0.0078,  ..., 0.0000, 0.0000, 0.0000]), 'label': 1}, {'feature': tensor([0.2706, 0.0000, 0.0196,  ..., 0.0000, 0.0000, 0.0000]), 'label': 3}, {'feature': tensor([0.0000, 0.0039, 0.0314,  ..., 0.0000, 0.0000, 0.0000]), 'label': 1}, {'feature': tensor([0.2706, 0.0000, 0.1412,  ..., 0.7647, 0.6706, 0.6118]), 'label': 3}, {'feature': tensor([0.2706, 0.0000, 0.0000,  ..., 0.0000, 0.0000, 0.0000]), 'label': 0}, {'feature': tensor([0.2706, 0.2824, 0.0196,  ..., 0.0000, 0.0000, 0.0000]), 'label': 9}, {'feature': tensor([0.2706, 0.0000, 0.0000,  ..., 0.0000, 0.0000, 0.0000]), 'label': 11}, {'feature': tensor([0.2706, 0.0000, 0.0000,  ..., 0.0000, 0.0000, 0.0000]), 'label': 5}, {'feature': tensor([0.2706, 0.0314, 0.0196,  ..., 0.0000, 0.0000, 0.0000]), 'label': 7}, {'feature': tensor([0.2706, 0.0000, 0.0000,  ..., 0.0000, 0.0000, 0.0000]), 'label': 5}, {'feature': tensor([0.3765, 0.0000, 0.0000,  ..., 0.0000, 0.0000, 0.0000]), 'label': 1}, {'feature': tensor([0.2706, 0.0314, 0.0941,  ..., 0.8314, 0.0078, 0.8588]), 'label': 2}, {'feature': tensor([0.2706, 0.0000, 0.0000,  ..., 0.0000, 0.0000, 0.0000]), 'label': 1}, {'feature': tensor([0.2706, 0.0000, 0.0000,  ..., 0.0000, 0.0000, 0.0000]), 'label': 0}, {'feature': tensor([0.2706, 0.2824, 0.0196,  ..., 0.0000, 0.0000, 0.0000]), 'label': 9}, {'feature': tensor([0.2706, 0.0000, 0.0000,  ..., 0.0000, 0.0000, 0.0000]), 'label': 5}, {'feature': tensor([0.2706, 0.0314, 0.0196,  ..., 0.0000, 0.0000, 0.0000]), 'label': 7}, {'feature': tensor([0.2706, 0.0000, 0.0000,  ..., 0.0000, 0.0000, 0.0000]), 'label': 0}, {'feature': tensor([0.2706, 0.0000, 0.0000,  ..., 0.0000, 0.0000, 0.0000]), 'label': 0}, {'feature': tensor([0.2706, 0.2824, 0.0196,  ..., 0.0000, 0.0000, 0.0000]), 'label': 9}, {'feature': tensor([0.2706, 0.0000, 0.0196,  ..., 0.0000, 0.0000, 0.0000]), 'label': 10}, {'feature': tensor([0.2706, 0.2824, 0.0196,  ..., 0.0000, 0.0000, 0.0000]), 'label': 9}, {'feature': tensor([0.2706, 0.0000, 0.0000,  ..., 0.0000, 0.0000, 0.0000]), 'label': 1}, {'feature': tensor([0.2706, 0.0314, 0.0000,  ..., 0.0000, 0.0000, 0.0000]), 'label': 2}, {'feature': tensor([0.2706, 0.0000, 0.0588,  ..., 0.7647, 0.1020, 0.0196]), 'label': 3}, {'feature': tensor([0.2706, 0.0000, 0.0196,  ..., 0.0000, 0.0000, 0.0000]), 'label': 10}, {'feature': tensor([0.2706, 0.0000, 0.0000,  ..., 0.0000, 0.0000, 0.0000]), 'label': 0}, {'feature': tensor([0.2706, 0.0000, 0.0000,  ..., 0.0000, 0.0000, 0.0000]), 'label': 5}, {'feature': tensor([0.2706, 0.0314, 0.0196,  ..., 0.0000, 0.0000, 0.0000]), 'label': 7}, {'feature': tensor([0.2706, 0.2824, 0.0196,  ..., 0.0000, 0.0000, 0.0000]), 'label': 9}, {'feature': tensor([0.2706, 0.2824, 0.0196,  ..., 0.0000, 0.0000, 0.0000]), 'label': 9}, {'feature': tensor([0.3765, 0.0000, 0.0000,  ..., 0.0000, 0.0000, 0.0000]), 'label': 1}, {'feature': tensor([0.2706, 0.0314, 0.0196,  ..., 0.0000, 0.0000, 0.0000]), 'label': 7}, {'feature': tensor([0.2706, 0.0000, 0.0196,  ..., 0.1765, 0.1686, 0.1843]), 'label': 2}, {'feature': tensor([0.2706, 0.0000, 0.0078,  ..., 0.0000, 0.0000, 0.0000]), 'label': 0}, {'feature': tensor([0.0000, 0.0039, 0.0314,  ..., 0.0000, 0.0000, 0.0000]), 'label': 1}, {'feature': tensor([0.2706, 0.0000, 0.0000,  ..., 0.0000, 0.0000, 0.0000]), 'label': 6}, {'feature': tensor([0.2706, 0.0000, 0.0000,  ..., 0.0000, 0.0000, 0.0000]), 'label': 0}, {'feature': tensor([0.2706, 0.0000, 0.0196,  ..., 0.2588, 0.3608, 0.6314]), 'label': 2}, {'feature': tensor([0.2706, 0.0000, 0.0000,  ..., 0.0000, 0.0000, 0.0000]), 'label': 8}, {'feature': tensor([0.2706, 0.0000, 0.0000,  ..., 0.0000, 0.0000, 0.0000]), 'label': 11}, {'feature': tensor([0.2706, 0.0000, 0.0196,  ..., 0.2627, 0.5333, 0.1059]), 'label': 2}, {'feature': tensor([0.2706, 0.0000, 0.0000,  ..., 0.0000, 0.0000, 0.0000]), 'label': 3}, {'feature': tensor([0.2706, 0.2824, 0.0196,  ..., 0.0000, 0.0000, 0.0000]), 'label': 9}, {'feature': tensor([0.2706, 0.0000, 0.0196,  ..., 0.0000, 0.9412, 0.4039]), 'label': 2}, {'feature': tensor([0.2706, 0.0314, 0.0196,  ..., 0.0000, 0.0000, 0.0000]), 'label': 7}, {'feature': tensor([0.2706, 0.0000, 0.0000,  ..., 0.0000, 0.0000, 0.0000]), 'label': 0}, {'feature': tensor([0.2706, 0.0000, 0.0000,  ..., 0.0000, 0.0000, 0.0000]), 'label': 0}, {'feature': tensor([0.2706, 0.0000, 0.0000,  ..., 0.0000, 0.0000, 0.0000]), 'label': 5}, {'feature': tensor([0.2706, 0.0314, 0.0196,  ..., 0.0000, 0.0000, 0.0000]), 'label': 7}, {'feature': tensor([0.2706, 0.0000, 0.0000,  ..., 0.0000, 0.0000, 0.0000]), 'label': 11}, {'feature': tensor([0.2706, 0.0000, 0.0039,  ..., 0.0000, 0.0000, 0.0000]), 'label': 5}, {'feature': tensor([0.2706, 0.2824, 0.0196,  ..., 0.0000, 0.0000, 0.0000]), 'label': 9}, {'feature': tensor([0.2706, 0.0314, 0.2078,  ..., 0.9765, 0.0275, 0.8118]), 'label': 2}, {'feature': tensor([0.2706, 0.0000, 0.0196,  ..., 0.0000, 0.0000, 0.0000]), 'label': 0}, {'feature': tensor([0.2706, 0.0000, 0.0000,  ..., 0.0000, 0.0000, 0.0000]), 'label': 11}, {'feature': tensor([0.2706, 0.0000, 0.0078,  ..., 0.0000, 0.0000, 0.0000]), 'label': 7}, {'feature': tensor([0.2706, 0.0000, 0.0078,  ..., 0.0000, 0.0000, 0.0000]), 'label': 6}, {'feature': tensor([0.2706, 0.0000, 0.0000,  ..., 0.0000, 0.0000, 0.0000]), 'label': 0}, {'feature': tensor([0.2706, 0.0000, 0.0196,  ..., 0.0000, 0.0000, 0.0000]), 'label': 10}, {'feature': tensor([0.2706, 0.0000, 0.0000,  ..., 0.0000, 0.0000, 0.0000]), 'label': 6}, {'feature': tensor([0.2706, 0.0000, 0.0000,  ..., 0.0000, 0.0000, 0.0000]), 'label': 6}, {'feature': tensor([0.2706, 0.0000, 0.0000,  ..., 0.0000, 0.0000, 0.0000]), 'label': 5}, {'feature': tensor([0.2706, 0.0000, 0.0078,  ..., 0.0000, 0.0000, 0.0000]), 'label': 8}, {'feature': tensor([0.2706, 0.0000, 0.0000,  ..., 0.0000, 0.0000, 0.0000]), 'label': 5}, {'feature': tensor([0.2706, 0.0000, 0.0000,  ..., 0.0000, 0.0000, 0.0000]), 'label': 5}, {'feature': tensor([0.2706, 0.0000, 0.0000,  ..., 0.0000, 0.0000, 0.0000]), 'label': 0}, {'feature': tensor([0.2706, 0.0000, 0.0000,  ..., 0.0000, 0.0000, 0.0000]), 'label': 5}, {'feature': tensor([0.2706, 0.0000, 0.0157,  ..., 0.0000, 0.0000, 0.0000]), 'label': 6}, {'feature': tensor([0.2706, 0.0000, 0.0000,  ..., 0.0000, 0.0000, 0.0000]), 'label': 11}, {'feature': tensor([0.2706, 0.0000, 0.0196,  ..., 0.0000, 0.0000, 0.0000]), 'label': 6}, {'feature': tensor([0.2706, 0.0000, 0.0000,  ..., 0.0000, 0.0000, 0.0000]), 'label': 6}, {'feature': tensor([0.2706, 0.0000, 0.0039,  ..., 0.0000, 0.0000, 0.0000]), 'label': 6}, {'feature': tensor([0.2706, 0.0000, 0.0000,  ..., 0.0000, 0.0000, 0.0000]), 'label': 11}, {'feature': tensor([0.2706, 0.0000, 0.0000,  ..., 0.0000, 0.0000, 0.0000]), 'label': 0}, {'feature': tensor([0.2706, 0.0000, 0.0000,  ..., 0.0000, 0.0000, 0.0000]), 'label': 6}, {'feature': tensor([0.2706, 0.0314, 0.0196,  ..., 0.0000, 0.0000, 0.0000]), 'label': 7}, {'feature': tensor([0.2706, 0.0000, 0.0000,  ..., 0.0000, 0.0000, 0.0000]), 'label': 11}, {'feature': tensor([0.2706, 0.0314, 0.0196,  ..., 0.0000, 0.0000, 0.0000]), 'label': 7}, {'feature': tensor([0.2706, 0.0000, 0.0000,  ..., 0.0000, 0.0000, 0.0000]), 'label': 5}, {'feature': tensor([0.2706, 0.0314, 0.3333,  ..., 0.5412, 0.6000, 0.8706]), 'label': 2}, {'feature': tensor([0.2706, 0.0314, 0.0431,  ..., 0.2627, 0.5216, 0.6196]), 'label': 2}, {'feature': tensor([0.2706, 0.2824, 0.0196,  ..., 0.0000, 0.0000, 0.0000]), 'label': 9}, {'feature': tensor([0.2706, 0.2824, 0.0196,  ..., 0.0000, 0.0000, 0.0000]), 'label': 9}, {'feature': tensor([0.2706, 0.0000, 0.0000,  ..., 0.0000, 0.0000, 0.0000]), 'label': 5}, {'feature': tensor([0.2706, 0.0000, 0.0000,  ..., 0.0000, 0.0000, 0.0000]), 'label': 5}, {'feature': tensor([0.2706, 0.0000, 0.0000,  ..., 0.0000, 0.0000, 0.0000]), 'label': 5}, {'feature': tensor([0.2706, 0.0000, 0.0000,  ..., 0.0000, 0.0000, 0.0000]), 'label': 5}, {'feature': tensor([0.2706, 0.0000, 0.0000,  ..., 0.0000, 0.0000, 0.0000]), 'label': 7}, {'feature': tensor([0.2706, 0.2824, 0.0196,  ..., 0.0000, 0.0000, 0.0000]), 'label': 9}, {'feature': tensor([0.2706, 0.0314, 0.0863,  ..., 0.0941, 0.4863, 0.4824]), 'label': 2}, {'feature': tensor([0.2706, 0.0000, 0.0196,  ..., 0.1020, 0.4824, 0.0588]), 'label': 2}, {'feature': tensor([0.2706, 0.0000, 0.0000,  ..., 0.0000, 0.0000, 0.0000]), 'label': 5}, {'feature': tensor([0.2706, 0.0000, 0.0196,  ..., 0.0000, 0.0000, 0.0000]), 'label': 10}, {'feature': tensor([0.2706, 0.0314, 0.0667,  ..., 0.8549, 0.9529, 0.3804]), 'label': 2}, {'feature': tensor([0.2706, 0.0314, 0.0196,  ..., 0.0000, 0.0000, 0.0000]), 'label': 7}, {'feature': tensor([0.2706, 0.2824, 0.0196,  ..., 0.0000, 0.0000, 0.0000]), 'label': 9}, {'feature': tensor([0.2706, 0.0000, 0.0000,  ..., 0.0000, 0.0000, 0.0000]), 'label': 7}, {'feature': tensor([0.2706, 0.0000, 0.0000,  ..., 0.0000, 0.0000, 0.0000]), 'label': 0}, {'feature': tensor([0.2706, 0.0000, 0.0000,  ..., 0.0000, 0.0000, 0.0000]), 'label': 11}, {'feature': tensor([0.2706, 0.0000, 0.0000,  ..., 0.0000, 0.0000, 0.0000]), 'label': 0}, {'feature': tensor([0.2706, 0.0000, 0.0078,  ..., 0.0000, 0.0000, 0.0000]), 'label': 0}, {'feature': tensor([0.2706, 0.0000, 0.0000,  ..., 0.0000, 0.0000, 0.0000]), 'label': 5}, {'feature': tensor([0.2706, 0.0000, 0.0000,  ..., 0.0000, 0.0000, 0.0000]), 'label': 0}, {'feature': tensor([0.2706, 0.0000, 0.0000,  ..., 0.0000, 0.0000, 0.0000]), 'label': 5}, {'feature': tensor([0.2706, 0.0000, 0.0196,  ..., 0.0000, 0.0000, 0.0000]), 'label': 6}, {'feature': tensor([0.2706, 0.0000, 0.0000,  ..., 0.0000, 0.0000, 0.0000]), 'label': 5}, {'feature': tensor([0.2706, 0.0000, 0.0000,  ..., 0.0000, 0.0000, 0.0000]), 'label': 0}, {'feature': tensor([0.2706, 0.0000, 0.0196,  ..., 0.0314, 0.4667, 0.8039]), 'label': 3}, {'feature': tensor([0.0000, 0.0039, 0.0314,  ..., 0.0000, 0.0000, 0.0000]), 'label': 1}, {'feature': tensor([0.2706, 0.0000, 0.0000,  ..., 0.0000, 0.0000, 0.0000]), 'label': 11}, {'feature': tensor([0.2706, 0.0000, 0.0039,  ..., 0.0000, 0.0000, 0.0000]), 'label': 6}, {'feature': tensor([0.2706, 0.2824, 0.0196,  ..., 0.0000, 0.0000, 0.0000]), 'label': 9}, {'feature': tensor([0.2706, 0.0000, 0.0000,  ..., 0.0000, 0.0000, 0.0000]), 'label': 7}, {'feature': tensor([0.2706, 0.0000, 0.0000,  ..., 0.0000, 0.0000, 0.0000]), 'label': 1}, {'feature': tensor([0.2706, 0.0000, 0.0196,  ..., 0.6196, 0.6157, 0.7843]), 'label': 2}, {'feature': tensor([0.2706, 0.0000, 0.0000,  ..., 0.0000, 0.0000, 0.0000]), 'label': 5}, {'feature': tensor([0.2706, 0.0000, 0.0000,  ..., 0.0000, 0.0000, 0.0000]), 'label': 6}, {'feature': tensor([0.2706, 0.0000, 0.0000,  ..., 0.0000, 0.0000, 0.0000]), 'label': 11}, {'feature': tensor([0.2706, 0.0314, 0.0196,  ..., 0.0000, 0.0000, 0.0000]), 'label': 7}, {'feature': tensor([0.2706, 0.0000, 0.0000,  ..., 0.0000, 0.0000, 0.0000]), 'label': 6}, {'feature': tensor([0.2706, 0.0000, 0.0196,  ..., 0.0000, 0.0000, 0.0000]), 'label': 2}, {'feature': tensor([0.2706, 0.0000, 0.0000,  ..., 0.0000, 0.0000, 0.0000]), 'label': 11}, {'feature': tensor([0.2706, 0.0314, 0.0275,  ..., 0.3216, 0.3451, 0.3059]), 'label': 2}, {'feature': tensor([0.2706, 0.0000, 0.0039,  ..., 0.0000, 0.0000, 0.0000]), 'label': 0}, {'feature': tensor([0.2706, 0.0000, 0.0078,  ..., 0.0000, 0.0000, 0.0000]), 'label': 7}, {'feature': tensor([0.2706, 0.0000, 0.0000,  ..., 0.0000, 0.0000, 0.0000]), 'label': 1}, {'feature': tensor([0.2706, 0.2824, 0.0196,  ..., 0.0000, 0.0000, 0.0000]), 'label': 9}, {'feature': tensor([0.2706, 0.0000, 0.0000,  ..., 0.0000, 0.0000, 0.0000]), 'label': 0}, {'feature': tensor([0.2706, 0.2824, 0.0196,  ..., 0.0000, 0.0000, 0.0000]), 'label': 9}, {'feature': tensor([0.2706, 0.0000, 0.0196,  ..., 0.0000, 0.0000, 0.0000]), 'label': 10}, {'feature': tensor([0.2706, 0.0000, 0.0392,  ..., 0.9647, 0.9725, 0.2275]), 'label': 3}, {'feature': tensor([0.2706, 0.0000, 0.0196,  ..., 0.0000, 0.0000, 0.0000]), 'label': 2}, {'feature': tensor([0.3765, 0.0000, 0.0000,  ..., 0.0000, 0.0000, 0.0000]), 'label': 1}, {'feature': tensor([0.2706, 0.0000, 0.0196,  ..., 0.8863, 0.6824, 0.1137]), 'label': 2}, {'feature': tensor([0.2706, 0.0000, 0.0157,  ..., 0.0000, 0.0000, 0.0000]), 'label': 6}, {'feature': tensor([0.2706, 0.7529, 0.0000,  ..., 0.0000, 0.0000, 0.0000]), 'label': 7}, {'feature': tensor([0.2706, 0.0000, 0.0000,  ..., 0.0000, 0.0000, 0.0000]), 'label': 0}, {'feature': tensor([0.2706, 0.0314, 0.0196,  ..., 0.0000, 0.0000, 0.0000]), 'label': 7}, {'feature': tensor([0.2706, 0.0000, 0.0000,  ..., 0.0000, 0.0000, 0.0000]), 'label': 2}, {'feature': tensor([0.2706, 0.0000, 0.0000,  ..., 0.0000, 0.0000, 0.0000]), 'label': 5}, {'feature': tensor([0.2706, 0.0000, 0.0157,  ..., 0.0000, 0.0000, 0.0000]), 'label': 6}, {'feature': tensor([0.2706, 0.0000, 0.0196,  ..., 0.5686, 0.0235, 0.0902]), 'label': 2}, {'feature': tensor([0.2706, 0.0000, 0.0000,  ..., 0.0000, 0.0000, 0.0000]), 'label': 11}, {'feature': tensor([0.2706, 0.2824, 0.0196,  ..., 0.0000, 0.0000, 0.0000]), 'label': 9}, {'feature': tensor([0.2706, 0.0000, 0.0000,  ..., 0.0000, 0.0000, 0.0000]), 'label': 5}, {'feature': tensor([0.2706, 0.2824, 0.0196,  ..., 0.0000, 0.0000, 0.0000]), 'label': 9}, {'feature': tensor([0.2706, 0.0000, 0.0000,  ..., 0.0000, 0.0000, 0.0000]), 'label': 5}, {'feature': tensor([0.0000, 0.0039, 0.0314,  ..., 0.0000, 0.0000, 0.0000]), 'label': 1}, {'feature': tensor([0.2706, 0.0000, 0.0000,  ..., 0.0000, 0.0000, 0.0000]), 'label': 11}, {'feature': tensor([0.2706, 0.0000, 0.0000,  ..., 0.0000, 0.0000, 0.0000]), 'label': 3}, {'feature': tensor([0.2706, 0.0000, 0.0000,  ..., 0.0000, 0.0000, 0.0000]), 'label': 8}, {'feature': tensor([0.2706, 0.0000, 0.0196,  ..., 0.0000, 0.0000, 0.0000]), 'label': 10}, {'feature': tensor([0.2706, 0.2824, 0.0196,  ..., 0.0000, 0.0000, 0.0000]), 'label': 9}, {'feature': tensor([0.2706, 0.0314, 0.0196,  ..., 0.0000, 0.0000, 0.0000]), 'label': 7}, {'feature': tensor([0.2706, 0.0000, 0.0000,  ..., 0.0000, 0.0000, 0.0000]), 'label': 8}, {'feature': tensor([0.2706, 0.0000, 0.0039,  ..., 0.0000, 0.0000, 0.0000]), 'label': 0}, {'feature': tensor([0.2706, 0.0314, 0.0196,  ..., 0.0000, 0.0000, 0.0000]), 'label': 7}, {'feature': tensor([0.2706, 0.0000, 0.0000,  ..., 0.0000, 0.0000, 0.0000]), 'label': 11}, {'feature': tensor([0.2706, 0.0000, 0.0196,  ..., 0.0000, 0.0000, 0.0000]), 'label': 10}, {'feature': tensor([0.2706, 0.0000, 0.0000,  ..., 0.0000, 0.0000, 0.0000]), 'label': 5}, {'feature': tensor([0.2706, 0.0000, 0.0039,  ..., 0.0000, 0.0000, 0.0000]), 'label': 6}, {'feature': tensor([0.2706, 0.0000, 0.0000,  ..., 0.0000, 0.0000, 0.0000]), 'label': 0}, {'feature': tensor([0.2706, 0.0000, 0.0000,  ..., 0.0000, 0.0000, 0.0000]), 'label': 0}, {'feature': tensor([0.2706, 0.2824, 0.0196,  ..., 0.0000, 0.0000, 0.0000]), 'label': 9}, {'feature': tensor([0.2706, 0.0000, 0.0000,  ..., 0.0000, 0.0000, 0.0000]), 'label': 6}, {'feature': tensor([0.2706, 0.0000, 0.0000,  ..., 0.0000, 0.0000, 0.0000]), 'label': 0}, {'feature': tensor([0.2706, 0.0000, 0.0000,  ..., 0.0000, 0.0000, 0.0000]), 'label': 5}, {'feature': tensor([0.2706, 0.0000, 0.0000,  ..., 0.0000, 0.0000, 0.0000]), 'label': 11}, {'feature': tensor([0.2706, 0.0314, 0.0196,  ..., 0.0000, 0.0000, 0.0000]), 'label': 7}, {'feature': tensor([0.2706, 0.0000, 0.0039,  ..., 0.0000, 0.0000, 0.0000]), 'label': 6}, {'feature': tensor([0.2706, 0.0000, 0.0000,  ..., 0.0000, 0.0000, 0.0000]), 'label': 5}, {'feature': tensor([0.2706, 0.0000, 0.0196,  ..., 0.0000, 0.0000, 0.0000]), 'label': 8}, {'feature': tensor([0.2706, 0.2824, 0.0196,  ..., 0.0000, 0.0000, 0.0000]), 'label': 9}, {'feature': tensor([0.2706, 0.0000, 0.0000,  ..., 0.0000, 0.0000, 0.0000]), 'label': 8}, {'feature': tensor([0.2706, 0.2824, 0.0196,  ..., 0.0000, 0.0000, 0.0000]), 'label': 9}, {'feature': tensor([0.0000, 0.0039, 0.0314,  ..., 0.0000, 0.0000, 0.0000]), 'label': 1}, {'feature': tensor([0.2706, 0.0000, 0.0196,  ..., 0.0000, 0.0000, 0.0000]), 'label': 10}, {'feature': tensor([0.2706, 0.0314, 0.0941,  ..., 0.2745, 0.2745, 0.6431]), 'label': 2}, {'feature': tensor([0.2706, 0.0000, 0.0196,  ..., 0.0000, 0.0000, 0.0000]), 'label': 10}, {'feature': tensor([0.2706, 0.0000, 0.0000,  ..., 0.0000, 0.0000, 0.0000]), 'label': 6}, {'feature': tensor([0.2706, 0.2824, 0.0196,  ..., 0.0000, 0.0000, 0.0000]), 'label': 9}, {'feature': tensor([0.2706, 0.0000, 0.0000,  ..., 0.0000, 0.0000, 0.0000]), 'label': 0}, {'feature': tensor([0.2706, 0.0000, 0.0000,  ..., 0.0000, 0.0000, 0.0000]), 'label': 11}, {'feature': tensor([0.2706, 0.0000, 0.0000,  ..., 0.0000, 0.0000, 0.0000]), 'label': 8}, {'feature': tensor([0.2706, 0.0000, 0.0000,  ..., 0.0000, 0.0000, 0.0000]), 'label': 5}, {'feature': tensor([0.2706, 0.0314, 0.0863,  ..., 0.1843, 0.5333, 0.6196]), 'label': 2}, {'feature': tensor([0.2706, 0.0000, 0.0000,  ..., 0.0000, 0.0000, 0.0000]), 'label': 8}, {'feature': tensor([0.2706, 0.0000, 0.0000,  ..., 0.0000, 0.0000, 0.0000]), 'label': 5}, {'feature': tensor([0.2706, 0.0314, 0.0196,  ..., 0.0000, 0.0000, 0.0000]), 'label': 7}, {'feature': tensor([0.2706, 0.0000, 0.0000,  ..., 0.0000, 0.0000, 0.0000]), 'label': 8}, {'feature': tensor([0.2706, 0.0000, 0.0157,  ..., 0.0000, 0.0000, 0.0000]), 'label': 6}, {'feature': tensor([0.2706, 0.0000, 0.0000,  ..., 0.0000, 0.0000, 0.0000]), 'label': 8}, {'feature': tensor([0.2706, 0.0000, 0.0000,  ..., 0.0000, 0.0000, 0.0000]), 'label': 5}, {'feature': tensor([0.2706, 0.0314, 0.0196,  ..., 0.0000, 0.0000, 0.0000]), 'label': 7}, {'feature': tensor([0.2706, 0.0000, 0.0196,  ..., 0.0000, 0.0000, 0.0000]), 'label': 0}, {'feature': tensor([0.2706, 0.0000, 0.0000,  ..., 0.0000, 0.0000, 0.0000]), 'label': 0}, {'feature': tensor([0.2706, 0.0000, 0.0078,  ..., 0.0000, 0.0000, 0.0000]), 'label': 7}, {'feature': tensor([0.2706, 0.0000, 0.0118,  ..., 0.0000, 0.0000, 0.0000]), 'label': 0}, {'feature': tensor([0.2706, 0.0000, 0.0000,  ..., 0.0000, 0.0000, 0.0000]), 'label': 1}, {'feature': tensor([0.2706, 0.0000, 0.0196,  ..., 0.0000, 0.0000, 0.0000]), 'label': 10}, {'feature': tensor([0.2706, 0.2824, 0.0196,  ..., 0.0000, 0.0000, 0.0000]), 'label': 9}, {'feature': tensor([0.2706, 0.0314, 0.2510,  ..., 0.8078, 0.8118, 0.6980]), 'label': 2}, {'feature': tensor([0.2706, 0.0000, 0.0196,  ..., 0.0000, 0.0000, 0.0000]), 'label': 8}, {'feature': tensor([0.2706, 0.0314, 0.0196,  ..., 0.0000, 0.0000, 0.0000]), 'label': 7}, {'feature': tensor([0.2706, 0.0314, 0.0196,  ..., 0.0000, 0.0000, 0.0000]), 'label': 7}, {'feature': tensor([0.2706, 0.0000, 0.0000,  ..., 0.0000, 0.0000, 0.0000]), 'label': 5}, {'feature': tensor([0.2706, 0.0000, 0.0196,  ..., 0.0000, 0.0000, 0.0000]), 'label': 0}, {'feature': tensor([0.2706, 0.0000, 0.0196,  ..., 0.6118, 0.2941, 0.7725]), 'label': 2}, {'feature': tensor([0.2706, 0.0000, 0.0000,  ..., 0.0000, 0.0000, 0.0000]), 'label': 0}, {'feature': tensor([0.2706, 0.0000, 0.0000,  ..., 0.0000, 0.0000, 0.0000]), 'label': 1}, {'feature': tensor([0.2706, 0.0000, 0.0000,  ..., 0.0000, 0.0000, 0.0000]), 'label': 0}, {'feature': tensor([0.2706, 0.2824, 0.0196,  ..., 0.0000, 0.0000, 0.0000]), 'label': 9}, {'feature': tensor([0.2706, 0.0000, 0.0392,  ..., 0.7451, 0.3804, 0.6980]), 'label': 3}, {'feature': tensor([0.2706, 0.2824, 0.0039,  ..., 0.0000, 0.0000, 0.0000]), 'label': 9}, {'feature': tensor([0.2706, 0.0000, 0.0000,  ..., 0.0000, 0.0000, 0.0000]), 'label': 0}, {'feature': tensor([0.2706, 0.0000, 0.0000,  ..., 0.0000, 0.0000, 0.0000]), 'label': 2}, {'feature': tensor([0.2706, 0.0000, 0.0000,  ..., 0.0000, 0.0000, 0.0000]), 'label': 0}, {'feature': tensor([0.2706, 0.0000, 0.0196,  ..., 0.0000, 0.0000, 0.0000]), 'label': 10}, {'feature': tensor([0.2706, 0.0314, 0.0196,  ..., 0.0000, 0.0000, 0.0000]), 'label': 7}, {'feature': tensor([0.2706, 0.2824, 0.0196,  ..., 0.0000, 0.0000, 0.0000]), 'label': 9}, {'feature': tensor([0.2706, 0.0000, 0.0000,  ..., 0.0000, 0.0000, 0.0000]), 'label': 0}, {'feature': tensor([0.2706, 0.0000, 0.0000,  ..., 0.0000, 0.0000, 0.0000]), 'label': 11}, {'feature': tensor([0.2706, 0.0000, 0.0000,  ..., 0.0000, 0.0000, 0.0000]), 'label': 6}, {'feature': tensor([0.2706, 0.0000, 0.0392,  ..., 0.0000, 0.0000, 0.0000]), 'label': 3}, {'feature': tensor([0.2706, 0.0000, 0.0000,  ..., 0.0000, 0.0000, 0.0000]), 'label': 11}, {'feature': tensor([0.3765, 0.0000, 0.0000,  ..., 0.0000, 0.0000, 0.0000]), 'label': 1}, {'feature': tensor([0.2706, 0.0000, 0.0000,  ..., 0.0000, 0.0000, 0.0000]), 'label': 1}, {'feature': tensor([0.2706, 0.0000, 0.0000,  ..., 0.0000, 0.0000, 0.0000]), 'label': 8}, {'feature': tensor([0.2706, 0.0000, 0.0000,  ..., 0.0000, 0.0000, 0.0000]), 'label': 11}, {'feature': tensor([0.2706, 0.0000, 0.0196,  ..., 0.0000, 0.0000, 0.0000]), 'label': 10}, {'feature': tensor([0.2706, 0.7529, 0.0000,  ..., 0.0000, 0.0000, 0.0000]), 'label': 7}, {'feature': tensor([0.2706, 0.0000, 0.0000,  ..., 0.0000, 0.0000, 0.0000]), 'label': 1}, {'feature': tensor([0.2706, 0.0314, 0.0196,  ..., 0.0000, 0.0000, 0.0000]), 'label': 7}, {'feature': tensor([0.2706, 0.0314, 0.0196,  ..., 0.0000, 0.0000, 0.0000]), 'label': 7}, {'feature': tensor([0.2706, 0.2824, 0.0196,  ..., 0.0000, 0.0000, 0.0000]), 'label': 9}, {'feature': tensor([0.2706, 0.0000, 0.0000,  ..., 0.0000, 0.0000, 0.0000]), 'label': 2}, {'feature': tensor([0.0000, 0.0039, 0.0314,  ..., 0.0000, 0.0000, 0.0000]), 'label': 1}, {'feature': tensor([0.2706, 0.0314, 0.0863,  ..., 0.6784, 0.1804, 0.4627]), 'label': 2}, {'feature': tensor([0.2706, 0.0000, 0.0196,  ..., 0.7725, 0.8980, 0.8471]), 'label': 2}, {'feature': tensor([0.2706, 0.0314, 0.0196,  ..., 0.0000, 0.0000, 0.0000]), 'label': 7}, {'feature': tensor([0.2706, 0.2824, 0.0196,  ..., 0.0000, 0.0000, 0.0000]), 'label': 9}, {'feature': tensor([0.2706, 0.0000, 0.0000,  ..., 0.0000, 0.0000, 0.0000]), 'label': 3}, {'feature': tensor([0.2706, 0.0000, 0.0196,  ..., 0.0000, 0.0000, 0.0000]), 'label': 0}, {'feature': tensor([0.2706, 0.0000, 0.0000,  ..., 0.0000, 0.0000, 0.0000]), 'label': 11}, {'feature': tensor([0.2706, 0.0000, 0.0000,  ..., 0.0000, 0.0000, 0.0000]), 'label': 5}, {'feature': tensor([0.2706, 0.0314, 0.0196,  ..., 0.0000, 0.0000, 0.0000]), 'label': 7}, {'feature': tensor([0.2706, 0.0314, 0.4627,  ..., 0.8510, 0.3020, 0.2471]), 'label': 2}, {'feature': tensor([0.2706, 0.0000, 0.0000,  ..., 0.0000, 0.0000, 0.0000]), 'label': 8}, {'feature': tensor([0.2706, 0.0314, 0.0039,  ..., 0.0000, 0.0000, 0.0000]), 'label': 2}, {'feature': tensor([0.2706, 0.2824, 0.0196,  ..., 0.0000, 0.0000, 0.0000]), 'label': 9}, {'feature': tensor([0.2706, 0.0000, 0.0000,  ..., 0.0000, 0.0000, 0.0000]), 'label': 5}, {'feature': tensor([0.2706, 0.0000, 0.0196,  ..., 0.0000, 0.0000, 0.0000]), 'label': 8}, {'feature': tensor([0.2706, 0.0000, 0.0000,  ..., 0.0000, 0.0000, 0.0000]), 'label': 6}, {'feature': tensor([0.3765, 0.0000, 0.0000,  ..., 0.0000, 0.0000, 0.0000]), 'label': 1}, {'feature': tensor([0.2706, 0.2824, 0.0196,  ..., 0.0000, 0.0000, 0.0000]), 'label': 9}, {'feature': tensor([0.2706, 0.2824, 0.0196,  ..., 0.0000, 0.0000, 0.0000]), 'label': 9}, {'feature': tensor([0.2706, 0.0000, 0.0000,  ..., 0.0000, 0.0000, 0.0000]), 'label': 11}, {'feature': tensor([0.2706, 0.0000, 0.0196,  ..., 0.0000, 0.0000, 0.0000]), 'label': 10}, {'feature': tensor([0.2706, 0.0000, 0.0196,  ..., 0.1020, 0.8824, 0.2510]), 'label': 2}, {'feature': tensor([0.2706, 0.0314, 0.0196,  ..., 0.0000, 0.0000, 0.0000]), 'label': 7}, {'feature': tensor([0.2706, 0.0000, 0.0000,  ..., 0.0000, 0.0000, 0.0000]), 'label': 5}, {'feature': tensor([0.2706, 0.0314, 0.0196,  ..., 0.0000, 0.0000, 0.0000]), 'label': 7}, {'feature': tensor([0.2706, 0.0000, 0.0000,  ..., 0.0000, 0.0000, 0.0000]), 'label': 5}, {'feature': tensor([0.2706, 0.0000, 0.0000,  ..., 0.0000, 0.0000, 0.0000]), 'label': 0}, {'feature': tensor([0.2706, 0.0000, 0.0000,  ..., 0.0000, 0.0000, 0.0000]), 'label': 5}, {'feature': tensor([0.2706, 0.0000, 0.0000,  ..., 0.0000, 0.0000, 0.0000]), 'label': 11}, {'feature': tensor([0.2706, 0.0000, 0.0000,  ..., 0.0000, 0.0000, 0.0000]), 'label': 6}, {'feature': tensor([0.2706, 0.0000, 0.0000,  ..., 0.0000, 0.0000, 0.0000]), 'label': 5}, {'feature': tensor([0.2706, 0.0000, 0.0000,  ..., 0.0000, 0.0000, 0.0000]), 'label': 5}, {'feature': tensor([0.2706, 0.2824, 0.0196,  ..., 0.0000, 0.0000, 0.0000]), 'label': 9}, {'feature': tensor([0.2706, 0.0000, 0.0000,  ..., 0.0000, 0.0000, 0.0000]), 'label': 5}, {'feature': tensor([0.2706, 0.0000, 0.0196,  ..., 0.0000, 0.0000, 0.0000]), 'label': 10}, {'feature': tensor([0.2706, 0.2824, 0.0196,  ..., 0.0000, 0.0000, 0.0000]), 'label': 9}, {'feature': tensor([0.2706, 0.0000, 0.0078,  ..., 0.0000, 0.0000, 0.0000]), 'label': 7}, {'feature': tensor([0.2706, 0.2824, 0.0196,  ..., 0.0000, 0.0000, 0.0000]), 'label': 9}, {'feature': tensor([0.2706, 0.0314, 0.0196,  ..., 0.0000, 0.0000, 0.0000]), 'label': 7}, {'feature': tensor([0.2706, 0.0000, 0.0000,  ..., 0.0000, 0.0000, 0.0000]), 'label': 3}, {'feature': tensor([0.2706, 0.0000, 0.0000,  ..., 0.0000, 0.0000, 0.0000]), 'label': 5}, {'feature': tensor([0.2706, 0.2824, 0.0196,  ..., 0.0000, 0.0000, 0.0000]), 'label': 9}, {'feature': tensor([0.2706, 0.0000, 0.0000,  ..., 0.0000, 0.0000, 0.0000]), 'label': 0}, {'feature': tensor([0.2706, 0.2824, 0.0196,  ..., 0.0000, 0.0000, 0.0000]), 'label': 9}, {'feature': tensor([0.2706, 0.0000, 0.0000,  ..., 0.0000, 0.0000, 0.0000]), 'label': 0}, {'feature': tensor([0.2706, 0.0000, 0.0000,  ..., 0.0000, 0.0000, 0.0000]), 'label': 6}, {'feature': tensor([0.2706, 0.0000, 0.0000,  ..., 0.0000, 0.0000, 0.0000]), 'label': 0}, {'feature': tensor([0.2706, 0.0314, 0.0196,  ..., 0.0000, 0.0000, 0.0000]), 'label': 7}, {'feature': tensor([0.2706, 0.0000, 0.0000,  ..., 0.0000, 0.0000, 0.0000]), 'label': 5}], "
          ],
          "name": "stdout"
        }
      ]
    },
    {
      "cell_type": "code",
      "metadata": {
        "id": "mmato3xNRhxT"
      },
      "source": [
        "class Model(nn.Module):\n",
        "    def __init__(self, input_num, middle_layers, output_num, act):\n",
        "        super(Model, self).__init__()\n",
        "        self.layers = nn.ModuleList()\n",
        "        self.acts = []\n",
        "\n",
        "        self.layers.append(nn.Linear(input_num, middle_layers[0]))\n",
        "        self.acts.append(act)\n",
        "\n",
        "        for i in range(len(middle_layers) - 1):\n",
        "            self.layers.append(nn.Linear(middle_layers[i], middle_layers[i + 1]))\n",
        "            self.acts.append(act)\n",
        "\n",
        "        self.layers.append(nn.Linear(middle_layers[-1], output_num))\n",
        "\n",
        "    def forward(self, x):\n",
        "\n",
        "        x = x.view(x.size(0), -1)\n",
        "\n",
        "        for i in range(len(self.layers) - 1):\n",
        "            x = self.layers[i](x)\n",
        "            x = self.acts[i](x)\n",
        "\n",
        "        x = self.layers[-1](x)\n",
        "        return x"
      ],
      "execution_count": 9,
      "outputs": []
    },
    {
      "cell_type": "code",
      "metadata": {
        "colab": {
          "base_uri": "https://localhost:8080/"
        },
        "id": "U_9ZsVWjRiwS",
        "outputId": "b84664c8-f444-4b92-bc59-90dfe1646ba8"
      },
      "source": [
        "device = torch.device(\"cuda:0\" if torch.cuda.is_available() else \"cpu\")\n",
        "print(device)"
      ],
      "execution_count": 10,
      "outputs": [
        {
          "output_type": "stream",
          "text": [
            "cuda:0\n"
          ],
          "name": "stdout"
        }
      ]
    },
    {
      "cell_type": "code",
      "metadata": {
        "id": "6ucN-6xXRswA"
      },
      "source": [
        "def fit(model, train_loader, device, criterion, optimizer, num_epochs=10):\n",
        "    total_time = 0.\n",
        "    loss_per_epoch = {e + 1 : 0 for e in range(num_epochs)}\n",
        "\n",
        "    for epoch in range(num_epochs):\n",
        "        train_loss = 0.\n",
        "        d1 = datetime.now()\n",
        "\n",
        "        for elem in train_loader:\n",
        "            byte_array = elem['feature'].to(device)\n",
        "            labels = elem['label'].to(device)\n",
        "\n",
        "            # Clear gradients w.r.t. parameters\n",
        "            optimizer.zero_grad()\n",
        "\n",
        "            # Forward pass to get output/logits\n",
        "            outputs = model(byte_array)\n",
        "\n",
        "            # Calculate Loss: softmax --> cross entropy loss\n",
        "            loss = criterion(outputs, labels)\n",
        "\n",
        "            # Getting gradients w.r.t. parameters\n",
        "            loss.backward()\n",
        "\n",
        "            # Updating parameters\n",
        "            optimizer.step()\n",
        "            train_loss += loss.item()\n",
        "\n",
        "        average_loss = train_loss / len(train_loader)\n",
        "        d2 = datetime.now()\n",
        "        delta = d2 - d1\n",
        "        seconds = float(delta.total_seconds())\n",
        "        total_time += seconds\n",
        "        loss_per_epoch[epoch + 1] = average_loss\n",
        "        print('epoch %d, train_loss: %.3f, time elapsed: %s seconds' % (epoch + 1, average_loss, seconds))\n",
        "\n",
        "    if math.isnan(max(loss_per_epoch.values())):\n",
        "        print('Could not plot for nan losses.')\n",
        "    else:\n",
        "        plt.plot(list(loss_per_epoch.keys()), list(loss_per_epoch.values()))\n",
        "        plt.title('Avreage Loss Per Epoch')\n",
        "        plt.xlabel('Epoch')\n",
        "        plt.ylabel('Aerage Loss')\n",
        "        plt.xlim(1, num_epochs + 1)\n",
        "        plt.ylim(0, max(loss_per_epoch.values()) + 1)\n",
        "        plt.show()\n",
        "\n",
        "    print('total training time: %.3f minutes' % (total_time / 60))"
      ],
      "execution_count": 11,
      "outputs": []
    },
    {
      "cell_type": "code",
      "metadata": {
        "id": "mK-SAGbxRvsv"
      },
      "source": [
        "def test_model_accuracy(model, test_loader, classes):\n",
        "    # Calculate Accuracy         \n",
        "    correct = 0.\n",
        "    total = 0.\n",
        "    correct_predicted = {id : 0 for id in range(len(classes))}\n",
        "    num_of_labels = {id : 0 for id in range(len(classes))}\n",
        "\n",
        "    # Iterate through test dataset\n",
        "    with torch.no_grad():\n",
        "      for elem in test_loader:\n",
        "        byte_array = elem['feature'].to(device)\n",
        "        labels = elem['label']\n",
        "        outputs = model(byte_array)\n",
        "        _, predicted = torch.max(outputs.data, 1)\n",
        "        total += labels.size(0)\n",
        "\n",
        "        for p, l in zip(predicted, labels):\n",
        "            num_of_labels[l.item()] += 1\n",
        "\n",
        "            if p == l:\n",
        "                correct_predicted[p.to('cpu').item()] += 1\n",
        "\n",
        "        correct += (predicted.to('cpu') == labels).sum().item()\n",
        "\n",
        "    accuracy = 100 * correct / total\n",
        "    print('Accuracy: {}%'.format(accuracy))\n",
        "    return [x / y if y else 0 for x, y in zip(correct_predicted.values(), num_of_labels.values())]"
      ],
      "execution_count": 12,
      "outputs": []
    },
    {
      "cell_type": "code",
      "metadata": {
        "id": "EZWdvJNsZn85"
      },
      "source": [
        "def analyse(model, train_loader, test_loader, classes):\n",
        "    print('Train ', end='')\n",
        "    train_accs = test_model_accuracy(model, train_loader, classes)\n",
        "    print('Test ', end='')\n",
        "    test_accs = test_model_accuracy(model, test_loader, classes)\n",
        "    plt.figure(figsize=(30, 9), dpi= 80, facecolor='w', edgecolor='k')\n",
        "    plt.bar([i - 0.1 for i in range(len(classes))], train_accs, width=0.2, label='Train')\n",
        "    plt.bar([i + 0.1 for i in range(len(classes))], test_accs, width=0.2, label='Test')\n",
        "    plt.legend()\n",
        "    plt.xlim(-0.2, len(classes))\n",
        "    plt.xticks(list(range(len(classes))), classes, rotation='vertical')\n",
        "    plt.title('Comparision Between Test and Train Accuracies')\n",
        "    plt.xlabel('Category')\n",
        "    plt.ylabel('Accuracy')\n",
        "    plt.show()"
      ],
      "execution_count": 13,
      "outputs": []
    },
    {
      "cell_type": "code",
      "metadata": {
        "id": "BEFHAeOgZzwB"
      },
      "source": [
        "input_vector = 1500\n",
        "output_len = max(traffic_classes) + 1\n",
        "model = Model(input_vector, [200, 100, 50] , output_len, F.relu)\n",
        "model = model.to(device)\n",
        "\n",
        "learning_rate = 0.05\n",
        "criterion = nn.CrossEntropyLoss()\n",
        "optimizer = torch.optim.SGD(model.parameters(), lr=learning_rate)"
      ],
      "execution_count": 30,
      "outputs": []
    },
    {
      "cell_type": "code",
      "metadata": {
        "colab": {
          "base_uri": "https://localhost:8080/"
        },
        "id": "qK6lhyRpeZV3",
        "outputId": "1ef1c9d0-a69c-436b-84e6-e80162d38a71"
      },
      "source": [
        "print(traffic_classes)"
      ],
      "execution_count": 19,
      "outputs": [
        {
          "output_type": "stream",
          "text": [
            "{0, 1, 2, 3, 5, 6, 7, 8, 9, 10, 11}\n"
          ],
          "name": "stdout"
        }
      ]
    },
    {
      "cell_type": "code",
      "metadata": {
        "id": "IgrSnLt6s_Us",
        "colab": {
          "base_uri": "https://localhost:8080/",
          "height": 1000
        },
        "outputId": "817ad389-31af-4c94-d41c-10bb78ea239a"
      },
      "source": [
        "fit(model, traffic_train_loader, device, criterion, optimizer, num_epochs=200)"
      ],
      "execution_count": 31,
      "outputs": [
        {
          "output_type": "stream",
          "text": [
            "/usr/local/lib/python3.7/dist-packages/torch/utils/data/dataloader.py:481: UserWarning: This DataLoader will create 16 worker processes in total. Our suggested max number of worker in current system is 2, which is smaller than what this DataLoader is going to create. Please be aware that excessive worker creation might get DataLoader running slow or even freeze, lower the worker number to avoid potential slowness/freeze if necessary.\n",
            "  cpuset_checked))\n"
          ],
          "name": "stderr"
        },
        {
          "output_type": "stream",
          "text": [
            "epoch 1, train_loss: 1.004, time elapsed: 14.336958 seconds\n",
            "epoch 2, train_loss: 0.403, time elapsed: 13.364865 seconds\n",
            "epoch 3, train_loss: 0.242, time elapsed: 13.123766 seconds\n",
            "epoch 4, train_loss: 0.187, time elapsed: 13.265683 seconds\n",
            "epoch 5, train_loss: 0.154, time elapsed: 13.43851 seconds\n",
            "epoch 6, train_loss: 0.151, time elapsed: 13.401933 seconds\n",
            "epoch 7, train_loss: 0.134, time elapsed: 13.313147 seconds\n",
            "epoch 8, train_loss: 0.100, time elapsed: 13.239186 seconds\n",
            "epoch 9, train_loss: 0.114, time elapsed: 13.629112 seconds\n",
            "epoch 10, train_loss: 0.103, time elapsed: 13.384646 seconds\n",
            "epoch 11, train_loss: 0.078, time elapsed: 13.420252 seconds\n",
            "epoch 12, train_loss: 0.067, time elapsed: 13.28958 seconds\n",
            "epoch 13, train_loss: 0.077, time elapsed: 13.21339 seconds\n",
            "epoch 14, train_loss: 0.062, time elapsed: 13.221203 seconds\n",
            "epoch 15, train_loss: 0.075, time elapsed: 13.410946 seconds\n",
            "epoch 16, train_loss: 0.098, time elapsed: 13.537072 seconds\n",
            "epoch 17, train_loss: 0.101, time elapsed: 13.243504 seconds\n",
            "epoch 18, train_loss: 0.058, time elapsed: 13.633564 seconds\n",
            "epoch 19, train_loss: 0.056, time elapsed: 13.509016 seconds\n",
            "epoch 20, train_loss: 0.047, time elapsed: 13.537996 seconds\n",
            "epoch 21, train_loss: 0.057, time elapsed: 13.178044 seconds\n",
            "epoch 22, train_loss: 0.058, time elapsed: 13.308496 seconds\n",
            "epoch 23, train_loss: 0.071, time elapsed: 13.231937 seconds\n",
            "epoch 24, train_loss: 0.048, time elapsed: 13.262624 seconds\n",
            "epoch 25, train_loss: 0.040, time elapsed: 13.659563 seconds\n",
            "epoch 26, train_loss: 0.057, time elapsed: 13.343036 seconds\n",
            "epoch 27, train_loss: 0.044, time elapsed: 13.175895 seconds\n",
            "epoch 28, train_loss: 0.035, time elapsed: 13.220266 seconds\n",
            "epoch 29, train_loss: 0.033, time elapsed: 13.430486 seconds\n",
            "epoch 30, train_loss: 0.032, time elapsed: 13.256799 seconds\n",
            "epoch 31, train_loss: 0.031, time elapsed: 13.165547 seconds\n",
            "epoch 32, train_loss: 0.030, time elapsed: 13.618469 seconds\n",
            "epoch 33, train_loss: 0.029, time elapsed: 13.477187 seconds\n",
            "epoch 34, train_loss: 0.029, time elapsed: 13.680559 seconds\n",
            "epoch 35, train_loss: 0.028, time elapsed: 13.420014 seconds\n",
            "epoch 36, train_loss: 0.028, time elapsed: 13.379997 seconds\n",
            "epoch 37, train_loss: 0.027, time elapsed: 13.432104 seconds\n",
            "epoch 38, train_loss: 0.026, time elapsed: 13.665935 seconds\n",
            "epoch 39, train_loss: 0.026, time elapsed: 13.522302 seconds\n",
            "epoch 40, train_loss: 0.025, time elapsed: 13.473487 seconds\n",
            "epoch 41, train_loss: 0.025, time elapsed: 13.337971 seconds\n",
            "epoch 42, train_loss: 0.024, time elapsed: 13.644738 seconds\n",
            "epoch 43, train_loss: 0.024, time elapsed: 13.571339 seconds\n",
            "epoch 44, train_loss: 0.024, time elapsed: 13.425659 seconds\n",
            "epoch 45, train_loss: 0.023, time elapsed: 13.303578 seconds\n",
            "epoch 46, train_loss: 0.023, time elapsed: 13.395819 seconds\n",
            "epoch 47, train_loss: 0.023, time elapsed: 13.602126 seconds\n",
            "epoch 48, train_loss: 0.022, time elapsed: 13.430066 seconds\n",
            "epoch 49, train_loss: 0.022, time elapsed: 13.49399 seconds\n",
            "epoch 50, train_loss: 0.022, time elapsed: 13.511133 seconds\n",
            "epoch 51, train_loss: 0.022, time elapsed: 13.499975 seconds\n",
            "epoch 52, train_loss: 0.021, time elapsed: 13.724086 seconds\n",
            "epoch 53, train_loss: 0.021, time elapsed: 13.22667 seconds\n",
            "epoch 54, train_loss: 0.021, time elapsed: 13.427272 seconds\n",
            "epoch 55, train_loss: 0.021, time elapsed: 13.605464 seconds\n",
            "epoch 56, train_loss: 0.020, time elapsed: 14.154153 seconds\n",
            "epoch 57, train_loss: 0.020, time elapsed: 13.395116 seconds\n",
            "epoch 58, train_loss: 0.020, time elapsed: 13.248862 seconds\n",
            "epoch 59, train_loss: 0.020, time elapsed: 13.484825 seconds\n",
            "epoch 60, train_loss: 0.020, time elapsed: 13.15831 seconds\n",
            "epoch 61, train_loss: 0.020, time elapsed: 13.310606 seconds\n",
            "epoch 62, train_loss: 0.019, time elapsed: 13.603911 seconds\n",
            "epoch 63, train_loss: 0.019, time elapsed: 13.587856 seconds\n",
            "epoch 64, train_loss: 0.019, time elapsed: 13.657725 seconds\n",
            "epoch 65, train_loss: 0.019, time elapsed: 13.274379 seconds\n",
            "epoch 66, train_loss: 0.019, time elapsed: 13.686195 seconds\n",
            "epoch 67, train_loss: 0.019, time elapsed: 13.327179 seconds\n",
            "epoch 68, train_loss: 0.019, time elapsed: 13.500295 seconds\n",
            "epoch 69, train_loss: 0.018, time elapsed: 13.450981 seconds\n",
            "epoch 70, train_loss: 0.018, time elapsed: 13.405515 seconds\n",
            "epoch 71, train_loss: 0.112, time elapsed: 13.478216 seconds\n",
            "epoch 72, train_loss: 0.078, time elapsed: 13.57872 seconds\n",
            "epoch 73, train_loss: 0.056, time elapsed: 13.500467 seconds\n",
            "epoch 74, train_loss: 0.048, time elapsed: 13.372801 seconds\n",
            "epoch 75, train_loss: 0.029, time elapsed: 13.432411 seconds\n",
            "epoch 76, train_loss: 0.025, time elapsed: 13.261338 seconds\n",
            "epoch 77, train_loss: 0.022, time elapsed: 13.664261 seconds\n",
            "epoch 78, train_loss: 0.020, time elapsed: 13.652758 seconds\n",
            "epoch 79, train_loss: 0.019, time elapsed: 13.549145 seconds\n",
            "epoch 80, train_loss: 0.019, time elapsed: 13.452019 seconds\n",
            "epoch 81, train_loss: 0.018, time elapsed: 13.381416 seconds\n",
            "epoch 82, train_loss: 0.018, time elapsed: 13.448509 seconds\n",
            "epoch 83, train_loss: 0.018, time elapsed: 13.542302 seconds\n",
            "epoch 84, train_loss: 0.018, time elapsed: 13.460551 seconds\n",
            "epoch 85, train_loss: 0.017, time elapsed: 13.273564 seconds\n",
            "epoch 86, train_loss: 0.017, time elapsed: 13.405447 seconds\n",
            "epoch 87, train_loss: 0.017, time elapsed: 13.694266 seconds\n",
            "epoch 88, train_loss: 0.017, time elapsed: 13.501249 seconds\n",
            "epoch 89, train_loss: 0.017, time elapsed: 13.158768 seconds\n",
            "epoch 90, train_loss: 0.017, time elapsed: 13.47586 seconds\n",
            "epoch 91, train_loss: 0.017, time elapsed: 13.255748 seconds\n",
            "epoch 92, train_loss: 0.016, time elapsed: 13.316609 seconds\n",
            "epoch 93, train_loss: 0.016, time elapsed: 13.656985 seconds\n",
            "epoch 94, train_loss: 0.016, time elapsed: 13.367782 seconds\n",
            "epoch 95, train_loss: 0.016, time elapsed: 13.228034 seconds\n",
            "epoch 96, train_loss: 0.016, time elapsed: 13.487269 seconds\n",
            "epoch 97, train_loss: 0.016, time elapsed: 13.497283 seconds\n",
            "epoch 98, train_loss: 0.016, time elapsed: 13.390444 seconds\n",
            "epoch 99, train_loss: 0.016, time elapsed: 13.503403 seconds\n",
            "epoch 100, train_loss: 0.016, time elapsed: 13.402838 seconds\n",
            "epoch 101, train_loss: 0.016, time elapsed: 13.841235 seconds\n",
            "epoch 102, train_loss: 0.015, time elapsed: 13.312832 seconds\n",
            "epoch 103, train_loss: 0.015, time elapsed: 13.490621 seconds\n",
            "epoch 104, train_loss: 0.015, time elapsed: 13.480992 seconds\n",
            "epoch 105, train_loss: 0.015, time elapsed: 13.284768 seconds\n",
            "epoch 106, train_loss: 0.015, time elapsed: 13.753315 seconds\n",
            "epoch 107, train_loss: 0.015, time elapsed: 13.266334 seconds\n",
            "epoch 108, train_loss: 0.015, time elapsed: 13.58331 seconds\n",
            "epoch 109, train_loss: 0.015, time elapsed: 13.503805 seconds\n",
            "epoch 110, train_loss: 0.015, time elapsed: 13.759325 seconds\n",
            "epoch 111, train_loss: 0.015, time elapsed: 13.495743 seconds\n",
            "epoch 112, train_loss: 0.015, time elapsed: 13.3252 seconds\n",
            "epoch 113, train_loss: 0.015, time elapsed: 13.380008 seconds\n",
            "epoch 114, train_loss: 0.014, time elapsed: 13.340872 seconds\n",
            "epoch 115, train_loss: 0.014, time elapsed: 13.366465 seconds\n",
            "epoch 116, train_loss: 0.014, time elapsed: 13.544017 seconds\n",
            "epoch 117, train_loss: 0.014, time elapsed: 13.299859 seconds\n",
            "epoch 118, train_loss: 0.014, time elapsed: 13.341219 seconds\n",
            "epoch 119, train_loss: 0.014, time elapsed: 13.569244 seconds\n",
            "epoch 120, train_loss: 0.014, time elapsed: 13.547886 seconds\n",
            "epoch 121, train_loss: 0.014, time elapsed: 13.327905 seconds\n",
            "epoch 122, train_loss: 0.014, time elapsed: 13.304295 seconds\n",
            "epoch 123, train_loss: 0.014, time elapsed: 13.384997 seconds\n",
            "epoch 124, train_loss: 0.014, time elapsed: 13.48304 seconds\n",
            "epoch 125, train_loss: 0.014, time elapsed: 13.674931 seconds\n",
            "epoch 126, train_loss: 0.014, time elapsed: 13.599171 seconds\n",
            "epoch 127, train_loss: 0.013, time elapsed: 13.581896 seconds\n",
            "epoch 128, train_loss: 0.013, time elapsed: 13.566777 seconds\n",
            "epoch 129, train_loss: 0.013, time elapsed: 13.722643 seconds\n",
            "epoch 130, train_loss: 0.013, time elapsed: 13.544779 seconds\n",
            "epoch 131, train_loss: 0.013, time elapsed: 13.328032 seconds\n",
            "epoch 132, train_loss: 0.013, time elapsed: 13.52178 seconds\n",
            "epoch 133, train_loss: 0.013, time elapsed: 13.811148 seconds\n",
            "epoch 134, train_loss: 0.013, time elapsed: 13.417862 seconds\n",
            "epoch 135, train_loss: 0.013, time elapsed: 13.482985 seconds\n",
            "epoch 136, train_loss: 0.013, time elapsed: 13.87162 seconds\n",
            "epoch 137, train_loss: 0.013, time elapsed: 13.928981 seconds\n",
            "epoch 138, train_loss: 0.013, time elapsed: 13.937639 seconds\n",
            "epoch 139, train_loss: 0.013, time elapsed: 13.865926 seconds\n",
            "epoch 140, train_loss: 0.013, time elapsed: 14.032627 seconds\n",
            "epoch 141, train_loss: 0.013, time elapsed: 13.44918 seconds\n",
            "epoch 142, train_loss: 0.013, time elapsed: 13.664168 seconds\n",
            "epoch 143, train_loss: 0.013, time elapsed: 13.613321 seconds\n",
            "epoch 144, train_loss: 0.013, time elapsed: 13.639791 seconds\n",
            "epoch 145, train_loss: 0.013, time elapsed: 13.512043 seconds\n",
            "epoch 146, train_loss: 0.013, time elapsed: 13.600311 seconds\n",
            "epoch 147, train_loss: 0.013, time elapsed: 13.940561 seconds\n",
            "epoch 148, train_loss: 0.012, time elapsed: 13.545797 seconds\n",
            "epoch 149, train_loss: 0.012, time elapsed: 13.601302 seconds\n",
            "epoch 150, train_loss: 0.012, time elapsed: 13.627505 seconds\n",
            "epoch 151, train_loss: 0.012, time elapsed: 13.375282 seconds\n",
            "epoch 152, train_loss: 0.012, time elapsed: 13.341662 seconds\n",
            "epoch 153, train_loss: 0.012, time elapsed: 13.423075 seconds\n",
            "epoch 154, train_loss: 0.012, time elapsed: 13.700072 seconds\n",
            "epoch 155, train_loss: 0.012, time elapsed: 13.753171 seconds\n",
            "epoch 156, train_loss: 0.012, time elapsed: 13.480035 seconds\n",
            "epoch 157, train_loss: 0.012, time elapsed: 13.446311 seconds\n",
            "epoch 158, train_loss: 0.012, time elapsed: 13.513203 seconds\n",
            "epoch 159, train_loss: 0.012, time elapsed: 13.394659 seconds\n",
            "epoch 160, train_loss: 0.012, time elapsed: 13.589249 seconds\n",
            "epoch 161, train_loss: 0.012, time elapsed: 13.556076 seconds\n",
            "epoch 162, train_loss: 0.012, time elapsed: 13.585515 seconds\n",
            "epoch 163, train_loss: 0.012, time elapsed: 13.453113 seconds\n",
            "epoch 164, train_loss: 0.012, time elapsed: 13.812458 seconds\n",
            "epoch 165, train_loss: 0.012, time elapsed: 13.590183 seconds\n",
            "epoch 166, train_loss: 0.012, time elapsed: 13.516014 seconds\n",
            "epoch 167, train_loss: 0.483, time elapsed: 13.848267 seconds\n",
            "epoch 168, train_loss: 0.098, time elapsed: 13.563813 seconds\n",
            "epoch 169, train_loss: 0.046, time elapsed: 13.57357 seconds\n",
            "epoch 170, train_loss: 0.040, time elapsed: 13.908138 seconds\n",
            "epoch 171, train_loss: 0.035, time elapsed: 13.709123 seconds\n",
            "epoch 172, train_loss: 0.117, time elapsed: 13.561044 seconds\n",
            "epoch 173, train_loss: 0.049, time elapsed: 13.794439 seconds\n",
            "epoch 174, train_loss: 0.035, time elapsed: 13.624508 seconds\n",
            "epoch 175, train_loss: 0.034, time elapsed: 13.516799 seconds\n",
            "epoch 176, train_loss: 0.020, time elapsed: 13.712024 seconds\n",
            "epoch 177, train_loss: 0.017, time elapsed: 13.879149 seconds\n",
            "epoch 178, train_loss: 0.016, time elapsed: 13.487196 seconds\n",
            "epoch 179, train_loss: 0.015, time elapsed: 13.672703 seconds\n",
            "epoch 180, train_loss: 0.015, time elapsed: 13.565588 seconds\n",
            "epoch 181, train_loss: 0.015, time elapsed: 13.519279 seconds\n",
            "epoch 182, train_loss: 0.014, time elapsed: 13.552091 seconds\n",
            "epoch 183, train_loss: 0.014, time elapsed: 13.230094 seconds\n",
            "epoch 184, train_loss: 0.014, time elapsed: 13.693149 seconds\n",
            "epoch 185, train_loss: 0.014, time elapsed: 13.507825 seconds\n",
            "epoch 186, train_loss: 0.014, time elapsed: 13.63952 seconds\n",
            "epoch 187, train_loss: 0.013, time elapsed: 13.481276 seconds\n",
            "epoch 188, train_loss: 0.013, time elapsed: 13.620287 seconds\n",
            "epoch 189, train_loss: 0.013, time elapsed: 13.57858 seconds\n",
            "epoch 190, train_loss: 0.013, time elapsed: 13.639904 seconds\n",
            "epoch 191, train_loss: 0.013, time elapsed: 13.543508 seconds\n",
            "epoch 192, train_loss: 0.013, time elapsed: 13.733539 seconds\n",
            "epoch 193, train_loss: 0.013, time elapsed: 14.594994 seconds\n",
            "epoch 194, train_loss: 0.013, time elapsed: 13.897122 seconds\n",
            "epoch 195, train_loss: 0.012, time elapsed: 13.97097 seconds\n",
            "epoch 196, train_loss: 0.012, time elapsed: 14.001586 seconds\n",
            "epoch 197, train_loss: 0.012, time elapsed: 13.78715 seconds\n",
            "epoch 198, train_loss: 0.012, time elapsed: 14.204927 seconds\n",
            "epoch 199, train_loss: 0.012, time elapsed: 13.548817 seconds\n",
            "epoch 200, train_loss: 0.012, time elapsed: 13.50327 seconds\n"
          ],
          "name": "stdout"
        },
        {
          "output_type": "display_data",
          "data": {
            "image/png": "[encoded data removed]",
            "text/plain": [
              "<Figure size 432x288 with 1 Axes>"
            ]
          },
          "metadata": {
            "tags": [],
            "needs_background": "light"
          }
        },
        {
          "output_type": "stream",
          "text": [
            "total training time: 45.075 minutes\n"
          ],
          "name": "stdout"
        }
      ]
    },
    {
      "cell_type": "code",
      "metadata": {
        "id": "NjcN1DvUfvEC",
        "colab": {
          "base_uri": "https://localhost:8080/",
          "height": 559
        },
        "outputId": "ddd04052-806b-4cfa-ae82-88044ba30100"
      },
      "source": [
        "print(traffic_classes)\n",
        "classes = [i for i in range(max(traffic_classes) + 1)]\n",
        "print(classes)\n",
        "analyse(model, traffic_train_loader, traffic_test_loader, classes)"
      ],
      "execution_count": 32,
      "outputs": [
        {
          "output_type": "stream",
          "text": [
            "{0, 1, 2, 3, 5, 6, 7, 8, 9, 10, 11}\n",
            "[0, 1, 2, 3, 4, 5, 6, 7, 8, 9, 10, 11]\n",
            "Train "
          ],
          "name": "stdout"
        },
        {
          "output_type": "stream",
          "text": [
            "/usr/local/lib/python3.7/dist-packages/torch/utils/data/dataloader.py:481: UserWarning: This DataLoader will create 16 worker processes in total. Our suggested max number of worker in current system is 2, which is smaller than what this DataLoader is going to create. Please be aware that excessive worker creation might get DataLoader running slow or even freeze, lower the worker number to avoid potential slowness/freeze if necessary.\n",
            "  cpuset_checked))\n"
          ],
          "name": "stderr"
        },
        {
          "output_type": "stream",
          "text": [
            "Accuracy: 99.52926518529621%\n",
            "Test Accuracy: 97.56854546916459%\n"
          ],
          "name": "stdout"
        },
        {
          "output_type": "display_data",
          "data": {
            "image/png": "[encoded data removed]",
            "text/plain": [
              "<Figure size 2400x720 with 1 Axes>"
            ]
          },
          "metadata": {
            "tags": []
          }
        }
      ]
    }
  ]
}