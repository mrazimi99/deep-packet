{
  "nbformat": 4,
  "nbformat_minor": 0,
  "metadata": {
    "colab": {
      "name": "DeepPacket.ipynb",
      "provenance": [],
      "collapsed_sections": [],
      "mount_file_id": "1uAWlcaY6JE_geOUfJHVLbWTWfpV7SyfE",
      "authorship_tag": "ABX9TyNSgg5uYZ4OPG5iz4iDMvU9",
      "include_colab_link": true
    },
    "kernelspec": {
      "name": "python3",
      "display_name": "Python 3"
    },
    "language_info": {
      "name": "python"
    },
    "accelerator": "GPU"
  },
  "cells": [
    {
      "cell_type": "markdown",
      "metadata": {
        "id": "view-in-github",
        "colab_type": "text"
      },
      "source": [
        "<a href=\"https://colab.research.google.com/github/mrazimi99/deep-packet/blob/main/DeepPacket.ipynb\" target=\"_parent\"><img src=\"https://colab.research.google.com/assets/colab-badge.svg\" alt=\"Open In Colab\"/></a>"
      ]
    },
    {
      "cell_type": "code",
      "metadata": {
        "id": "w_DUBMHZuVXh",
        "colab": {
          "base_uri": "https://localhost:8080/"
        },
        "outputId": "fa5f4d63-e116-4d25-d62e-52f4b65a4dc3"
      },
      "source": [
        "!pip install scapy"
      ],
      "execution_count": 1,
      "outputs": [
        {
          "output_type": "stream",
          "text": [
            "Collecting scapy\n",
            "\u001b[?25l  Downloading https://files.pythonhosted.org/packages/85/47/c919432ca258f354bb2c1e645623f891603f185bfc7563d4a21f6432e7ed/scapy-2.4.5.tar.gz (1.1MB)\n",
            "\u001b[K     |████████████████████████████████| 1.1MB 5.3MB/s \n",
            "\u001b[?25hBuilding wheels for collected packages: scapy\n",
            "  Building wheel for scapy (setup.py) ... \u001b[?25l\u001b[?25hdone\n",
            "  Created wheel for scapy: filename=scapy-2.4.5-py2.py3-none-any.whl size=1261554 sha256=abed05d05e69114d479d43c50eaacd2d4eefb258f11ee6bee2125c84cc938435\n",
            "  Stored in directory: /root/.cache/pip/wheels/31/80/dc/d5fc39b70e1af4f4636356c849de414a76e83a89d8ee9cd78f\n",
            "Successfully built scapy\n",
            "Installing collected packages: scapy\n",
            "Successfully installed scapy-2.4.5\n"
          ],
          "name": "stdout"
        }
      ]
    },
    {
      "cell_type": "code",
      "metadata": {
        "colab": {
          "base_uri": "https://localhost:8080/"
        },
        "id": "6FVOGPeeOnT5",
        "outputId": "6763b7b1-79d6-452f-f882-7cf7e9545fa8"
      },
      "source": [
        "from pathlib import Path\n",
        "import os\n",
        "import os.path\n",
        "import numpy as np\n",
        "import pandas as pd\n",
        "from joblib import Parallel, delayed\n",
        "from scapy.compat import raw\n",
        "from scapy.layers.inet import IP, UDP\n",
        "from scapy.layers.l2 import Ether\n",
        "from scapy.packet import Padding\n",
        "from scapy.utils import rdpcap, PcapReader\n",
        "from scipy import sparse\n",
        "from sklearn.model_selection import train_test_split\n",
        "from imblearn.under_sampling import RandomUnderSampler\n",
        "\n",
        "import torch\n",
        "import torchvision\n",
        "import torchvision.transforms as transforms\n",
        "import torch.nn as nn\n",
        "import torch.nn.functional as F\n",
        "from random import sample\n",
        "import matplotlib.pyplot as plt\n",
        "import math\n",
        "\n",
        "from torch.utils.data import Dataset, DataLoader, random_split\n",
        "from torch.utils.data.sampler import SubsetRandomSampler\n",
        "\n",
        "import time\n",
        "from datetime import timedelta\n",
        "from datetime import datetime\n",
        "import pickle\n",
        "import random\n",
        "from prettytable import PrettyTable\n",
        "\n",
        "import sys\n",
        "sys.path.append('drive/MyDrive/deep_packet')\n",
        "from utils import should_omit_packet, PREFIX_TO_APP_ID, PREFIX_TO_TRAFFIC_ID, ID_TO_APP, ID_TO_TRAFFIC"
      ],
      "execution_count": 2,
      "outputs": [
        {
          "output_type": "stream",
          "text": [
            "/usr/local/lib/python3.7/dist-packages/sklearn/externals/six.py:31: FutureWarning: The module is deprecated in version 0.21 and will be removed in version 0.23 since we've dropped support for Python 2.7. Please rely on the official version of six (https://pypi.org/project/six/).\n",
            "  \"(https://pypi.org/project/six/).\", FutureWarning)\n",
            "/usr/local/lib/python3.7/dist-packages/sklearn/utils/deprecation.py:144: FutureWarning: The sklearn.neighbors.base module is  deprecated in version 0.22 and will be removed in version 0.24. The corresponding classes / functions should instead be imported from sklearn.neighbors. Anything that cannot be imported from sklearn.neighbors is now part of the private API.\n",
            "  warnings.warn(message, FutureWarning)\n"
          ],
          "name": "stderr"
        }
      ]
    },
    {
      "cell_type": "code",
      "metadata": {
        "id": "hcBZoPxz7oix"
      },
      "source": [
        "def remove_ether_header(packet):\n",
        "    if Ether in packet:\n",
        "        return packet[Ether].payload\n",
        "\n",
        "    return packet\n",
        "\n",
        "\n",
        "def mask_ip(packet):\n",
        "    if IP in packet:\n",
        "        packet[IP].src = '0.0.0.0'\n",
        "        packet[IP].dst = '0.0.0.0'\n",
        "\n",
        "    return packet\n",
        "\n",
        "\n",
        "def pad_udp(packet):\n",
        "    if UDP in packet:\n",
        "        # get layers after udp\n",
        "        layer_after = packet[UDP].payload.copy()\n",
        "\n",
        "        # build a padding layer\n",
        "        pad = Padding()\n",
        "        pad.load = '\\x00' * 12\n",
        "\n",
        "        layer_before = packet.copy()\n",
        "        layer_before[UDP].remove_payload()\n",
        "        packet = layer_before / pad / layer_after\n",
        "\n",
        "        return packet\n",
        "\n",
        "    return packet\n",
        "\n",
        "\n",
        "def packet_to_sparse_array(packet, max_length=1500):\n",
        "    arr = np.frombuffer(raw(packet), dtype=np.uint8)[0: max_length]     # Divide to 255 later\n",
        "    if len(arr) < max_length:\n",
        "        pad_width = max_length - len(arr)\n",
        "        arr = np.pad(arr, pad_width=(0, pad_width), constant_values=0)\n",
        "\n",
        "    arr = sparse.csr_matrix(arr)\n",
        "    return arr\n",
        "\n",
        "\n",
        "def transform_packet(packet):\n",
        "    if should_omit_packet(packet):\n",
        "        return None\n",
        "\n",
        "    packet = remove_ether_header(packet)\n",
        "    packet = pad_udp(packet)\n",
        "    packet = mask_ip(packet)\n",
        "\n",
        "    arr = packet_to_sparse_array(packet)\n",
        "\n",
        "    return arr\n",
        "\n",
        "pcaps = 'drive/MyDrive/deep_packet/Pcaps/vpn/'\n",
        "cache = 'drive/MyDrive/deep_packet/Dataset/vpn_dataset.pickle'\n",
        "dataset = []\n",
        "\n",
        "# if not os.path.isfile(cache):\n",
        "if False:\n",
        "    for path in os.listdir(pcaps):\n",
        "        print('Processing ' + path)\n",
        "        for i, packet in enumerate(rdpcap(pcaps + path)):\n",
        "            arr = transform_packet(packet)\n",
        "            if arr is not None:\n",
        "                # get labels for app identification\n",
        "                prefix = path.split('.')[0].lower()\n",
        "                app_label = PREFIX_TO_APP_ID.get(prefix)\n",
        "                traffic_label = PREFIX_TO_TRAFFIC_ID.get(prefix)\n",
        "                row = {\n",
        "                    'app_label': app_label,\n",
        "                    'traffic_label': traffic_label,\n",
        "                    'feature': arr.todense().tolist()[0]\n",
        "                }\n",
        "                dataset.append(row)\n",
        "    \n",
        "    with open(cache, 'wb') as f:\n",
        "        pickle.dump(dataset, f)\n",
        "else:\n",
        "    dataset = []\n",
        "    data_dir = 'drive/MyDrive/deep_packet/Dataset/'\n",
        "    for path in os.listdir(data_dir):\n",
        "        with open(data_dir + path, 'rb') as f:\n",
        "            dataset.extend(pickle.load(f))"
      ],
      "execution_count": 3,
      "outputs": []
    },
    {
      "cell_type": "code",
      "metadata": {
        "id": "Iv7-3usPJ3u9"
      },
      "source": [
        "# traffic_labels = [row['traffic_label'] for row in dataset]\n",
        "# traffic_classes = set(traffic_labels)\n",
        "# traffic_train_all, traffic_test_all = train_test_split(dataset, test_size=0.2, random_state=42, stratify=traffic_labels)\n",
        "\n",
        "app_labels = [row['app_label'] for row in dataset]\n",
        "app_classes = set(app_labels)\n",
        "app_train_all, app_test_all = train_test_split(dataset, test_size=0.2, random_state=42, stratify=app_labels)\n",
        "\n",
        "del dataset"
      ],
      "execution_count": 4,
      "outputs": []
    },
    {
      "cell_type": "code",
      "metadata": {
        "id": "CBA3SdIiLwur",
        "colab": {
          "base_uri": "https://localhost:8080/"
        },
        "outputId": "2f058ebc-1d99-41c6-f5a3-8982ba85be34"
      },
      "source": [
        "# undersample = RandomUnderSampler(sampling_strategy='majority')\n",
        "# traffic_features = [elem['feature'] for elem in traffic_train_all]\n",
        "# train_traffic_labels = [elem['traffic_label'] for elem in traffic_train_all]\n",
        "# traffic_train, traffic_y = undersample.fit_resample(traffic_features, train_traffic_labels)\n",
        "# del traffic_features, train_traffic_labels, traffic_train_all\n",
        "\n",
        "undersample = RandomUnderSampler(sampling_strategy='majority')\n",
        "app_features = [elem['feature'] for elem in app_train_all]\n",
        "train_app_labels = [elem['app_label'] for elem in app_train_all]\n",
        "app_train, app_y = undersample.fit_resample(app_features, train_app_labels)\n",
        "del app_features, train_app_labels, app_train_all"
      ],
      "execution_count": 5,
      "outputs": [
        {
          "output_type": "stream",
          "text": [
            "/usr/local/lib/python3.7/dist-packages/sklearn/utils/deprecation.py:87: FutureWarning: Function safe_indexing is deprecated; safe_indexing is deprecated in version 0.22 and will be removed in version 0.24.\n",
            "  warnings.warn(msg, category=FutureWarning)\n"
          ],
          "name": "stderr"
        }
      ]
    },
    {
      "cell_type": "code",
      "metadata": {
        "id": "krD6bp6Fp_UB"
      },
      "source": [
        "# traffic_train_final = [{'feature': torch.from_numpy(np.array([a/255.0 for a in f.tolist()], dtype=np.float32)), 'label': l} for f, l in zip(traffic_train, traffic_y)]\n",
        "# del traffic_train, traffic_y\n",
        "# traffic_test_final = [{'feature': torch.from_numpy(np.array([a/255.0 for a in elem['feature']], dtype=np.float32)), 'label': elem['traffic_label']} for elem in traffic_test_all]\n",
        "# del traffic_test_all\n",
        "\n",
        "app_train_final = [{'feature': torch.from_numpy(np.array([a/255.0 for a in f.tolist()], dtype=np.float32)), 'label': l} for f, l in zip(app_train, app_y)]\n",
        "del app_train, app_y\n",
        "app_test_final = [{'feature': torch.from_numpy(np.array([a/255.0 for a in elem['feature']], dtype=np.float32)), 'label': elem['app_label']} for elem in app_test_all]\n",
        "del app_test_all"
      ],
      "execution_count": 6,
      "outputs": []
    },
    {
      "cell_type": "code",
      "metadata": {
        "id": "QoG1Qy1NQ95i"
      },
      "source": [
        "batch_size = 64\n",
        "num_workers = 2\n",
        "\n",
        "# random.shuffle(traffic_train_final)\n",
        "# traffic_train_loader = torch.utils.data.DataLoader(traffic_train_final, batch_size=batch_size, num_workers=num_workers)\n",
        "# traffic_test_loader = torch.utils.data.DataLoader(traffic_test_final, batch_size=batch_size, num_workers=num_workers)\n",
        "\n",
        "random.shuffle(app_train_final)\n",
        "app_train_loader = torch.utils.data.DataLoader(app_train_final, batch_size=batch_size, num_workers=num_workers)\n",
        "app_test_loader = torch.utils.data.DataLoader(app_test_final, batch_size=batch_size, num_workers=num_workers)"
      ],
      "execution_count": 7,
      "outputs": []
    },
    {
      "cell_type": "code",
      "metadata": {
        "id": "mmato3xNRhxT"
      },
      "source": [
        "class Model(nn.Module):\n",
        "    def __init__(self, input_num, middle_layers, output_num, act):\n",
        "        super(Model, self).__init__()\n",
        "        self.layers = nn.ModuleList()\n",
        "        self.acts = []\n",
        "\n",
        "        self.layers.append(nn.Linear(input_num, middle_layers[0]))\n",
        "        self.acts.append(act)\n",
        "\n",
        "        for i in range(len(middle_layers) - 1):\n",
        "            self.layers.append(nn.Linear(middle_layers[i], middle_layers[i + 1]))\n",
        "            self.acts.append(act)\n",
        "\n",
        "        self.layers.append(nn.Linear(middle_layers[-1], output_num))\n",
        "\n",
        "    def forward(self, x):\n",
        "\n",
        "        x = x.view(x.size(0), -1)\n",
        "\n",
        "        for i in range(len(self.layers) - 1):\n",
        "            x = self.layers[i](x)\n",
        "            x = self.acts[i](x)\n",
        "\n",
        "        x = self.layers[-1](x)\n",
        "        return x"
      ],
      "execution_count": 8,
      "outputs": []
    },
    {
      "cell_type": "code",
      "metadata": {
        "colab": {
          "base_uri": "https://localhost:8080/"
        },
        "id": "U_9ZsVWjRiwS",
        "outputId": "403836af-257a-48d6-bb09-4ed4a9b13823"
      },
      "source": [
        "device = torch.device(\"cuda:0\" if torch.cuda.is_available() else \"cpu\")\n",
        "print(device)"
      ],
      "execution_count": 9,
      "outputs": [
        {
          "output_type": "stream",
          "text": [
            "cpu\n"
          ],
          "name": "stdout"
        }
      ]
    },
    {
      "cell_type": "code",
      "metadata": {
        "id": "6ucN-6xXRswA"
      },
      "source": [
        "def fit(model, train_loader, device, criterion, optimizer, num_epochs=10):\n",
        "    total_time = 0.\n",
        "    loss_per_epoch = {e + 1 : 0 for e in range(num_epochs)}\n",
        "\n",
        "    for epoch in range(num_epochs):\n",
        "        train_loss = 0.\n",
        "        d1 = datetime.now()\n",
        "\n",
        "        for elem in train_loader:\n",
        "            byte_array = elem['feature'].to(device)\n",
        "            labels = elem['label'].to(device)\n",
        "\n",
        "            # Clear gradients w.r.t. parameters\n",
        "            optimizer.zero_grad()\n",
        "\n",
        "            # Forward pass to get output/logits\n",
        "            outputs = model(byte_array)\n",
        "\n",
        "            # Calculate Loss: softmax --> cross entropy loss\n",
        "            loss = criterion(outputs, labels)\n",
        "\n",
        "            # Getting gradients w.r.t. parameters\n",
        "            loss.backward()\n",
        "\n",
        "            # Updating parameters\n",
        "            optimizer.step()\n",
        "            train_loss += loss.item()\n",
        "\n",
        "        average_loss = train_loss / len(train_loader)\n",
        "        d2 = datetime.now()\n",
        "        delta = d2 - d1\n",
        "        seconds = float(delta.total_seconds())\n",
        "        total_time += seconds\n",
        "        loss_per_epoch[epoch + 1] = average_loss\n",
        "        print('epoch %d, train_loss: %.3f, time elapsed: %s seconds' % (epoch + 1, average_loss, seconds))\n",
        "\n",
        "    if math.isnan(max(loss_per_epoch.values())):\n",
        "        print('Could not plot for nan losses.')\n",
        "    else:\n",
        "        plt.plot(list(loss_per_epoch.keys()), list(loss_per_epoch.values()))\n",
        "        plt.title('Avreage Loss Per Epoch')\n",
        "        plt.xlabel('Epoch')\n",
        "        plt.ylabel('Aerage Loss')\n",
        "        plt.xlim(1, num_epochs + 1)\n",
        "        plt.ylim(0, max(loss_per_epoch.values()) + 1)\n",
        "        plt.show()\n",
        "\n",
        "    print('total training time: %.3f minutes' % (total_time / 60))"
      ],
      "execution_count": 10,
      "outputs": []
    },
    {
      "cell_type": "code",
      "metadata": {
        "id": "mK-SAGbxRvsv"
      },
      "source": [
        "def test_model_accuracy(model, test_loader, classes):\n",
        "    # Calculate Accuracy         \n",
        "    correct = 0.\n",
        "    total = 0.\n",
        "    correct_predicted = {id : 0 for id in range(len(classes))}\n",
        "    num_of_labels = {id : 0 for id in range(len(classes))}\n",
        "    all_predicted = {id : 0 for id in range(len(classes))}\n",
        "\n",
        "    # Iterate through test dataset\n",
        "    with torch.no_grad():\n",
        "      for elem in test_loader:\n",
        "        byte_array = elem['feature'].to(device)\n",
        "        labels = elem['label']\n",
        "        outputs = model(byte_array)\n",
        "        _, predicted = torch.max(outputs.data, 1)\n",
        "        total += labels.size(0)\n",
        "\n",
        "        for p, l in zip(predicted, labels):\n",
        "            num_of_labels[l.item()] += 1\n",
        "            pc = p.to('cpu').item()\n",
        "            all_predicted[pc] += 1\n",
        "\n",
        "            if p == l:\n",
        "                correct_predicted[pc] += 1\n",
        "\n",
        "        correct += (predicted.to('cpu') == labels).sum().item()\n",
        "\n",
        "    accuracy = 100 * correct / total\n",
        "    print('Accuracy: {}%'.format(accuracy))\n",
        "    return [x / y if y else 0 for x, y in zip(correct_predicted.values(), all_predicted.values())], [x / y if y else 0 for x, y in zip(correct_predicted.values(), num_of_labels.values())]"
      ],
      "execution_count": 11,
      "outputs": []
    },
    {
      "cell_type": "code",
      "metadata": {
        "id": "EZWdvJNsZn85"
      },
      "source": [
        "def analyse(model, train_loader, test_loader, classes, task):\n",
        "    print('Train ', end='')\n",
        "    train_rcs, train_prs = test_model_accuracy(model, train_loader, classes)\n",
        "    print('Test ', end='')\n",
        "    test_rcs, test_prs = test_model_accuracy(model, test_loader, classes)\n",
        "    pos_test_rcs = [elem for elem in test_rcs if elem]\n",
        "    pos_test_prs = [elem for elem in test_prs if elem]\n",
        "    pos_test_f1 = []\n",
        "    table = PrettyTable(['Class', 'Rc', 'Pr', 'F1'])\n",
        "\n",
        "    for i, (rc, pr) in enumerate(zip(pos_test_rcs, pos_test_prs)):\n",
        "        f1 = 2 * rc * pr / (rc + pr) if (rc + pr) else 0\n",
        "        pos_test_f1.append(f1)\n",
        "        class_name = ID_TO_TRAFFIC.get(i) if task == 'traffic' else ID_TO_APP.get(i)\n",
        "        table.add_row([class_name, str(round(rc, 3)), str(round(pr, 3)), str(round(f1, 3))])\n",
        "\n",
        "    table.add_row(['Available Classes Avg', str(round(sum(pos_test_rcs) / len(pos_test_rcs), 3)), str(round(sum(pos_test_prs) / len(pos_test_prs), 3)), str(round(sum(pos_test_f1) / len(pos_test_f1), 3))])\n",
        "    print(table)\n",
        "\n",
        "    plt.figure(figsize=(30, 9), dpi= 80, facecolor='w', edgecolor='k')\n",
        "    plt.bar([i - 0.1 for i in range(len(classes))], train_prs, width=0.2, label='Train')\n",
        "    plt.bar([i + 0.1 for i in range(len(classes))], test_prs, width=0.2, label='Test')\n",
        "    plt.legend()\n",
        "    plt.xlim(-0.2, len(classes))\n",
        "    plt.xticks(list(range(len(classes))), classes, rotation='vertical')\n",
        "    plt.title('Comparision Between Test and Train Accuracies')\n",
        "    plt.xlabel('Category')\n",
        "    plt.ylabel('Accuracy')\n",
        "    plt.show()"
      ],
      "execution_count": 12,
      "outputs": []
    },
    {
      "cell_type": "code",
      "metadata": {
        "id": "BEFHAeOgZzwB"
      },
      "source": [
        "input_vector = 1500\n",
        "\n",
        "# output_len = max(traffic_classes) + 1\n",
        "output_len = max(app_classes) + 1\n",
        "\n",
        "model = Model(input_vector, [200, 100, 50] , output_len, F.relu)\n",
        "model = model.to(device)\n",
        "\n",
        "learning_rate = 0.05\n",
        "criterion = nn.CrossEntropyLoss()\n",
        "optimizer = torch.optim.SGD(model.parameters(), lr=learning_rate)"
      ],
      "execution_count": 13,
      "outputs": []
    },
    {
      "cell_type": "code",
      "metadata": {
        "colab": {
          "base_uri": "https://localhost:8080/"
        },
        "id": "qK6lhyRpeZV3",
        "outputId": "996e0d95-e451-4003-926d-129603e51990"
      },
      "source": [
        "# print(traffic_classes)\n",
        "print(app_classes)"
      ],
      "execution_count": 14,
      "outputs": [
        {
          "output_type": "stream",
          "text": [
            "{0, 1, 2, 3, 4, 5, 6, 7, 8, 9, 10, 11, 12, 13, 14, 15, 16}\n"
          ],
          "name": "stdout"
        }
      ]
    },
    {
      "cell_type": "code",
      "metadata": {
        "id": "IgrSnLt6s_Us",
        "colab": {
          "base_uri": "https://localhost:8080/",
          "height": 1000
        },
        "outputId": "3d31994d-37d3-4e28-85c0-f8eb5205d389"
      },
      "source": [
        "fit(model, traffic_train_loader, device, criterion, optimizer, num_epochs=200)"
      ],
      "execution_count": 17,
      "outputs": [
        {
          "output_type": "stream",
          "text": [
            "epoch 1, train_loss: 0.993, time elapsed: 11.345011 seconds\n",
            "epoch 2, train_loss: 0.380, time elapsed: 10.687372 seconds\n",
            "epoch 3, train_loss: 0.228, time elapsed: 10.87302 seconds\n",
            "epoch 4, train_loss: 0.166, time elapsed: 10.452663 seconds\n",
            "epoch 5, train_loss: 0.183, time elapsed: 10.232666 seconds\n",
            "epoch 6, train_loss: 0.204, time elapsed: 10.016244 seconds\n",
            "epoch 7, train_loss: 0.105, time elapsed: 10.107667 seconds\n",
            "epoch 8, train_loss: 0.088, time elapsed: 10.335869 seconds\n",
            "epoch 9, train_loss: 0.103, time elapsed: 10.874262 seconds\n",
            "epoch 10, train_loss: 0.086, time elapsed: 10.825224 seconds\n",
            "epoch 11, train_loss: 0.077, time elapsed: 10.265325 seconds\n",
            "epoch 12, train_loss: 0.078, time elapsed: 10.065874 seconds\n",
            "epoch 13, train_loss: 0.068, time elapsed: 10.008836 seconds\n",
            "epoch 14, train_loss: 0.090, time elapsed: 10.084734 seconds\n",
            "epoch 15, train_loss: 0.080, time elapsed: 10.691894 seconds\n",
            "epoch 16, train_loss: 0.058, time elapsed: 10.794807 seconds\n",
            "epoch 17, train_loss: 0.048, time elapsed: 10.349143 seconds\n",
            "epoch 18, train_loss: 0.046, time elapsed: 10.209867 seconds\n",
            "epoch 19, train_loss: 0.043, time elapsed: 10.061239 seconds\n",
            "epoch 20, train_loss: 0.069, time elapsed: 9.895625 seconds\n",
            "epoch 21, train_loss: 0.079, time elapsed: 10.324889 seconds\n",
            "epoch 22, train_loss: 0.068, time elapsed: 10.644501 seconds\n",
            "epoch 23, train_loss: 0.055, time elapsed: 10.423123 seconds\n",
            "epoch 24, train_loss: 0.040, time elapsed: 9.979327 seconds\n",
            "epoch 25, train_loss: 0.041, time elapsed: 9.962877 seconds\n",
            "epoch 26, train_loss: 0.071, time elapsed: 10.202012 seconds\n",
            "epoch 27, train_loss: 0.040, time elapsed: 10.098561 seconds\n",
            "epoch 28, train_loss: 0.052, time elapsed: 10.666857 seconds\n",
            "epoch 29, train_loss: 0.047, time elapsed: 10.661706 seconds\n",
            "epoch 30, train_loss: 0.041, time elapsed: 10.262682 seconds\n",
            "epoch 31, train_loss: 0.032, time elapsed: 10.912574 seconds\n",
            "epoch 32, train_loss: 0.030, time elapsed: 10.597516 seconds\n",
            "epoch 33, train_loss: 0.029, time elapsed: 10.268546 seconds\n",
            "epoch 34, train_loss: 0.029, time elapsed: 10.171679 seconds\n",
            "epoch 35, train_loss: 0.028, time elapsed: 10.113436 seconds\n",
            "epoch 36, train_loss: 0.027, time elapsed: 10.087874 seconds\n",
            "epoch 37, train_loss: 0.027, time elapsed: 10.408205 seconds\n",
            "epoch 38, train_loss: 0.026, time elapsed: 10.649212 seconds\n",
            "epoch 39, train_loss: 0.026, time elapsed: 10.514235 seconds\n",
            "epoch 40, train_loss: 0.025, time elapsed: 9.992057 seconds\n",
            "epoch 41, train_loss: 0.025, time elapsed: 10.12675 seconds\n",
            "epoch 42, train_loss: 0.025, time elapsed: 10.205439 seconds\n",
            "epoch 43, train_loss: 0.024, time elapsed: 10.059968 seconds\n",
            "epoch 44, train_loss: 0.024, time elapsed: 10.69026 seconds\n",
            "epoch 45, train_loss: 0.024, time elapsed: 10.551228 seconds\n",
            "epoch 46, train_loss: 0.023, time elapsed: 10.004121 seconds\n",
            "epoch 47, train_loss: 0.023, time elapsed: 10.008173 seconds\n",
            "epoch 48, train_loss: 0.023, time elapsed: 9.900637 seconds\n",
            "epoch 49, train_loss: 0.023, time elapsed: 10.026163 seconds\n",
            "epoch 50, train_loss: 0.022, time elapsed: 10.669009 seconds\n",
            "epoch 51, train_loss: 0.022, time elapsed: 10.616987 seconds\n",
            "epoch 52, train_loss: 0.022, time elapsed: 10.444468 seconds\n",
            "epoch 53, train_loss: 0.022, time elapsed: 9.946257 seconds\n",
            "epoch 54, train_loss: 0.022, time elapsed: 10.073884 seconds\n",
            "epoch 55, train_loss: 0.021, time elapsed: 9.860535 seconds\n",
            "epoch 56, train_loss: 0.021, time elapsed: 10.15218 seconds\n",
            "epoch 57, train_loss: 0.021, time elapsed: 10.656772 seconds\n",
            "epoch 58, train_loss: 0.021, time elapsed: 10.798726 seconds\n",
            "epoch 59, train_loss: 0.021, time elapsed: 9.880153 seconds\n",
            "epoch 60, train_loss: 0.021, time elapsed: 10.082539 seconds\n",
            "epoch 61, train_loss: 0.020, time elapsed: 10.233845 seconds\n",
            "epoch 62, train_loss: 0.021, time elapsed: 10.001616 seconds\n",
            "epoch 63, train_loss: 0.120, time elapsed: 10.655169 seconds\n",
            "epoch 64, train_loss: 0.044, time elapsed: 10.735605 seconds\n",
            "epoch 65, train_loss: 0.034, time elapsed: 10.429792 seconds\n",
            "epoch 66, train_loss: 0.028, time elapsed: 10.527386 seconds\n",
            "epoch 67, train_loss: 0.024, time elapsed: 10.525531 seconds\n",
            "epoch 68, train_loss: 0.023, time elapsed: 10.279595 seconds\n",
            "epoch 69, train_loss: 0.022, time elapsed: 10.041135 seconds\n",
            "epoch 70, train_loss: 0.023, time elapsed: 9.896525 seconds\n",
            "epoch 71, train_loss: 0.024, time elapsed: 9.879349 seconds\n",
            "epoch 72, train_loss: 0.021, time elapsed: 10.179495 seconds\n",
            "epoch 73, train_loss: 0.019, time elapsed: 10.669363 seconds\n",
            "epoch 74, train_loss: 0.019, time elapsed: 10.575722 seconds\n",
            "epoch 75, train_loss: 0.019, time elapsed: 10.102625 seconds\n",
            "epoch 76, train_loss: 0.019, time elapsed: 10.047348 seconds\n",
            "epoch 77, train_loss: 0.019, time elapsed: 10.009417 seconds\n",
            "epoch 78, train_loss: 0.018, time elapsed: 10.099136 seconds\n",
            "epoch 79, train_loss: 0.018, time elapsed: 10.606123 seconds\n",
            "epoch 80, train_loss: 0.018, time elapsed: 10.63293 seconds\n",
            "epoch 81, train_loss: 0.018, time elapsed: 10.581382 seconds\n",
            "epoch 82, train_loss: 0.018, time elapsed: 9.985259 seconds\n",
            "epoch 83, train_loss: 0.018, time elapsed: 9.8803 seconds\n",
            "epoch 84, train_loss: 0.018, time elapsed: 9.843158 seconds\n",
            "epoch 85, train_loss: 0.017, time elapsed: 10.150856 seconds\n",
            "epoch 86, train_loss: 0.017, time elapsed: 10.536379 seconds\n",
            "epoch 87, train_loss: 0.017, time elapsed: 10.598042 seconds\n",
            "epoch 88, train_loss: 0.017, time elapsed: 9.919748 seconds\n",
            "epoch 89, train_loss: 0.017, time elapsed: 10.197662 seconds\n",
            "epoch 90, train_loss: 0.017, time elapsed: 9.8841 seconds\n",
            "epoch 91, train_loss: 0.017, time elapsed: 10.319482 seconds\n",
            "epoch 92, train_loss: 0.017, time elapsed: 10.517186 seconds\n",
            "epoch 93, train_loss: 0.017, time elapsed: 10.633924 seconds\n",
            "epoch 94, train_loss: 0.016, time elapsed: 10.214153 seconds\n",
            "epoch 95, train_loss: 0.016, time elapsed: 10.506085 seconds\n",
            "epoch 96, train_loss: 0.016, time elapsed: 10.742857 seconds\n",
            "epoch 97, train_loss: 0.016, time elapsed: 10.337948 seconds\n",
            "epoch 98, train_loss: 0.016, time elapsed: 9.992917 seconds\n",
            "epoch 99, train_loss: 0.029, time elapsed: 9.85004 seconds\n",
            "epoch 100, train_loss: 0.032, time elapsed: 9.866306 seconds\n",
            "epoch 101, train_loss: 0.038, time elapsed: 10.104384 seconds\n",
            "epoch 102, train_loss: 0.022, time elapsed: 10.482479 seconds\n",
            "epoch 103, train_loss: 0.020, time elapsed: 10.555628 seconds\n",
            "epoch 104, train_loss: 0.018, time elapsed: 10.045735 seconds\n",
            "epoch 105, train_loss: 0.017, time elapsed: 10.165165 seconds\n",
            "epoch 106, train_loss: 0.016, time elapsed: 9.895829 seconds\n",
            "epoch 107, train_loss: 0.016, time elapsed: 9.851859 seconds\n",
            "epoch 108, train_loss: 0.016, time elapsed: 10.357647 seconds\n",
            "epoch 109, train_loss: 0.015, time elapsed: 10.639714 seconds\n",
            "epoch 110, train_loss: 0.015, time elapsed: 10.25749 seconds\n",
            "epoch 111, train_loss: 0.015, time elapsed: 9.794839 seconds\n",
            "epoch 112, train_loss: 0.015, time elapsed: 10.134942 seconds\n",
            "epoch 113, train_loss: 0.015, time elapsed: 9.985007 seconds\n",
            "epoch 114, train_loss: 0.015, time elapsed: 10.144145 seconds\n",
            "epoch 115, train_loss: 0.015, time elapsed: 10.62848 seconds\n",
            "epoch 116, train_loss: 0.015, time elapsed: 10.567388 seconds\n",
            "epoch 117, train_loss: 0.015, time elapsed: 9.868711 seconds\n",
            "epoch 118, train_loss: 0.015, time elapsed: 9.987955 seconds\n",
            "epoch 119, train_loss: 0.014, time elapsed: 9.948934 seconds\n",
            "epoch 120, train_loss: 0.014, time elapsed: 9.93628 seconds\n",
            "epoch 121, train_loss: 0.014, time elapsed: 10.726445 seconds\n",
            "epoch 122, train_loss: 0.014, time elapsed: 10.723777 seconds\n",
            "epoch 123, train_loss: 0.014, time elapsed: 10.313923 seconds\n",
            "epoch 124, train_loss: 0.014, time elapsed: 10.395839 seconds\n",
            "epoch 125, train_loss: 0.014, time elapsed: 10.578105 seconds\n",
            "epoch 126, train_loss: 0.014, time elapsed: 10.402159 seconds\n",
            "epoch 127, train_loss: 0.014, time elapsed: 9.909053 seconds\n",
            "epoch 128, train_loss: 0.014, time elapsed: 10.06182 seconds\n",
            "epoch 129, train_loss: 0.014, time elapsed: 9.913668 seconds\n",
            "epoch 130, train_loss: 0.014, time elapsed: 9.975072 seconds\n",
            "epoch 131, train_loss: 0.014, time elapsed: 10.484136 seconds\n",
            "epoch 132, train_loss: 0.014, time elapsed: 10.574097 seconds\n",
            "epoch 133, train_loss: 0.013, time elapsed: 9.925817 seconds\n",
            "epoch 134, train_loss: 0.013, time elapsed: 9.950781 seconds\n",
            "epoch 135, train_loss: 0.013, time elapsed: 9.868426 seconds\n",
            "epoch 136, train_loss: 0.013, time elapsed: 9.881884 seconds\n",
            "epoch 137, train_loss: 0.013, time elapsed: 10.491725 seconds\n",
            "epoch 138, train_loss: 0.013, time elapsed: 10.536482 seconds\n",
            "epoch 139, train_loss: 0.013, time elapsed: 10.374856 seconds\n",
            "epoch 140, train_loss: 0.013, time elapsed: 9.89156 seconds\n",
            "epoch 141, train_loss: 0.013, time elapsed: 9.902208 seconds\n",
            "epoch 142, train_loss: 0.013, time elapsed: 9.932033 seconds\n",
            "epoch 143, train_loss: 0.013, time elapsed: 9.865549 seconds\n",
            "epoch 144, train_loss: 0.013, time elapsed: 10.78182 seconds\n",
            "epoch 145, train_loss: 0.013, time elapsed: 10.628132 seconds\n",
            "epoch 146, train_loss: 0.013, time elapsed: 9.990459 seconds\n",
            "epoch 147, train_loss: 0.013, time elapsed: 9.897143 seconds\n",
            "epoch 148, train_loss: 0.013, time elapsed: 9.773727 seconds\n",
            "epoch 149, train_loss: 0.013, time elapsed: 9.761703 seconds\n",
            "epoch 150, train_loss: 0.012, time elapsed: 10.406764 seconds\n",
            "epoch 151, train_loss: 0.012, time elapsed: 10.459767 seconds\n",
            "epoch 152, train_loss: 0.012, time elapsed: 10.937909 seconds\n",
            "epoch 153, train_loss: 0.012, time elapsed: 9.990875 seconds\n",
            "epoch 154, train_loss: 0.012, time elapsed: 9.947115 seconds\n",
            "epoch 155, train_loss: 0.012, time elapsed: 9.924964 seconds\n",
            "epoch 156, train_loss: 0.012, time elapsed: 10.158669 seconds\n",
            "epoch 157, train_loss: 0.012, time elapsed: 10.577549 seconds\n",
            "epoch 158, train_loss: 0.012, time elapsed: 10.484355 seconds\n",
            "epoch 159, train_loss: 0.012, time elapsed: 10.003696 seconds\n",
            "epoch 160, train_loss: 0.012, time elapsed: 10.692331 seconds\n",
            "epoch 161, train_loss: 0.012, time elapsed: 10.576007 seconds\n",
            "epoch 162, train_loss: 0.012, time elapsed: 10.000935 seconds\n",
            "epoch 163, train_loss: 0.012, time elapsed: 9.97457 seconds\n",
            "epoch 164, train_loss: 0.012, time elapsed: 9.811866 seconds\n",
            "epoch 165, train_loss: 0.012, time elapsed: 9.868848 seconds\n",
            "epoch 166, train_loss: 0.012, time elapsed: 10.363458 seconds\n",
            "epoch 167, train_loss: 0.012, time elapsed: 10.618809 seconds\n",
            "epoch 168, train_loss: 0.012, time elapsed: 10.553654 seconds\n",
            "epoch 169, train_loss: 0.012, time elapsed: 9.831602 seconds\n",
            "epoch 170, train_loss: 0.011, time elapsed: 9.779318 seconds\n",
            "epoch 171, train_loss: 0.011, time elapsed: 9.834369 seconds\n",
            "epoch 172, train_loss: 0.011, time elapsed: 9.748723 seconds\n",
            "epoch 173, train_loss: 0.011, time elapsed: 10.469943 seconds\n",
            "epoch 174, train_loss: 0.011, time elapsed: 10.554067 seconds\n",
            "epoch 175, train_loss: 0.011, time elapsed: 10.110988 seconds\n",
            "epoch 176, train_loss: 0.011, time elapsed: 10.122858 seconds\n",
            "epoch 177, train_loss: 0.011, time elapsed: 9.810942 seconds\n",
            "epoch 178, train_loss: 0.011, time elapsed: 9.752446 seconds\n",
            "epoch 179, train_loss: 0.011, time elapsed: 10.061 seconds\n",
            "epoch 180, train_loss: 0.011, time elapsed: 10.578522 seconds\n",
            "epoch 181, train_loss: 0.011, time elapsed: 10.447284 seconds\n",
            "epoch 182, train_loss: 0.011, time elapsed: 10.013717 seconds\n",
            "epoch 183, train_loss: 0.011, time elapsed: 9.988826 seconds\n",
            "epoch 184, train_loss: 0.011, time elapsed: 10.134638 seconds\n",
            "epoch 185, train_loss: 0.011, time elapsed: 9.893192 seconds\n",
            "epoch 186, train_loss: 0.011, time elapsed: 10.565107 seconds\n",
            "epoch 187, train_loss: 0.011, time elapsed: 10.54116 seconds\n",
            "epoch 188, train_loss: 0.011, time elapsed: 10.129929 seconds\n",
            "epoch 189, train_loss: 0.011, time elapsed: 10.416547 seconds\n",
            "epoch 190, train_loss: 0.011, time elapsed: 10.582685 seconds\n",
            "epoch 191, train_loss: 0.011, time elapsed: 10.169435 seconds\n",
            "epoch 192, train_loss: 0.011, time elapsed: 10.012069 seconds\n",
            "epoch 193, train_loss: 0.011, time elapsed: 9.795412 seconds\n",
            "epoch 194, train_loss: 0.011, time elapsed: 9.806829 seconds\n",
            "epoch 195, train_loss: 0.010, time elapsed: 9.984414 seconds\n",
            "epoch 196, train_loss: 0.010, time elapsed: 10.478561 seconds\n",
            "epoch 197, train_loss: 0.010, time elapsed: 10.463569 seconds\n",
            "epoch 198, train_loss: 0.010, time elapsed: 9.843585 seconds\n",
            "epoch 199, train_loss: 0.010, time elapsed: 9.90655 seconds\n",
            "epoch 200, train_loss: 0.010, time elapsed: 9.924916 seconds\n"
          ],
          "name": "stdout"
        },
        {
          "output_type": "display_data",
          "data": {
            "image/png": "[encoded data removed]",
            "text/plain": [
              "<Figure size 432x288 with 1 Axes>"
            ]
          },
          "metadata": {
            "tags": [],
            "needs_background": "light"
          }
        },
        {
          "output_type": "stream",
          "text": [
            "total training time: 34.142 minutes\n"
          ],
          "name": "stdout"
        }
      ]
    },
    {
      "cell_type": "code",
      "metadata": {
        "id": "NjcN1DvUfvEC",
        "colab": {
          "base_uri": "https://localhost:8080/",
          "height": 752
        },
        "outputId": "9dfa4a68-680e-49c9-82be-5308a5a2fe23"
      },
      "source": [
        "all_traffic_classes = [i for i in range(max(traffic_classes) + 1)]\n",
        "analyse(model, traffic_train_loader, traffic_test_loader, all_traffic_classes, 'traffic')"
      ],
      "execution_count": 23,
      "outputs": [
        {
          "output_type": "stream",
          "text": [
            "Train Accuracy: 99.49694607861505%\n",
            "Test Accuracy: 97.42309380059618%\n",
            "+-----------------------+-------+-------+-------+\n",
            "|         Class         |   Rc  |   Pr  |   F1  |\n",
            "+-----------------------+-------+-------+-------+\n",
            "|          Chat         | 0.959 | 0.958 | 0.959 |\n",
            "|         Email         | 0.937 | 0.953 | 0.945 |\n",
            "|     File Transfer     | 0.987 | 0.995 | 0.991 |\n",
            "|       Streaming       | 0.989 | 0.946 | 0.967 |\n",
            "|        Torrent        |  0.95 | 0.978 | 0.964 |\n",
            "|          Voip         | 0.958 | 0.981 | 0.969 |\n",
            "|       VPN: Chat       | 0.984 | 0.994 | 0.989 |\n",
            "|   VPN: File Transfer  |  0.95 |  0.99 |  0.97 |\n",
            "|       VPN: Email      | 0.992 | 0.995 | 0.994 |\n",
            "|     VPN: Streaming    | 0.989 | 0.999 | 0.994 |\n",
            "|      VPN: Torrent     | 0.971 | 0.985 | 0.978 |\n",
            "| Available Classes Avg |  0.97 | 0.979 | 0.974 |\n",
            "+-----------------------+-------+-------+-------+\n"
          ],
          "name": "stdout"
        },
        {
          "output_type": "display_data",
          "data": {
            "image/png": "[encoded data removed]",
            "text/plain": [
              "<Figure size 2400x720 with 1 Axes>"
            ]
          },
          "metadata": {
            "tags": []
          }
        }
      ]
    },
    {
      "cell_type": "code",
      "metadata": {
        "colab": {
          "base_uri": "https://localhost:8080/",
          "height": 1000
        },
        "id": "lrI3C4RuCHlt",
        "outputId": "9cf48401-16cd-4455-d143-85a19157a6e7"
      },
      "source": [
        "fit(model, app_train_loader, device, criterion, optimizer, num_epochs=200)"
      ],
      "execution_count": 15,
      "outputs": [
        {
          "output_type": "stream",
          "text": [
            "epoch 1, train_loss: 1.461, time elapsed: 23.752561 seconds\n",
            "epoch 2, train_loss: 0.566, time elapsed: 23.380453 seconds\n",
            "epoch 3, train_loss: 0.326, time elapsed: 23.307831 seconds\n",
            "epoch 4, train_loss: 0.212, time elapsed: 23.612092 seconds\n",
            "epoch 5, train_loss: 0.232, time elapsed: 23.923728 seconds\n",
            "epoch 6, train_loss: 0.280, time elapsed: 23.471488 seconds\n",
            "epoch 7, train_loss: 0.181, time elapsed: 23.663358 seconds\n",
            "epoch 8, train_loss: 0.139, time elapsed: 23.473907 seconds\n",
            "epoch 9, train_loss: 0.120, time elapsed: 23.488855 seconds\n",
            "epoch 10, train_loss: 0.140, time elapsed: 23.988155 seconds\n",
            "epoch 11, train_loss: 0.126, time elapsed: 23.9544 seconds\n",
            "epoch 12, train_loss: 0.175, time elapsed: 23.99638 seconds\n",
            "epoch 13, train_loss: 0.114, time elapsed: 23.842354 seconds\n",
            "epoch 14, train_loss: 0.097, time elapsed: 24.092979 seconds\n",
            "epoch 15, train_loss: 0.081, time elapsed: 23.5393 seconds\n",
            "epoch 16, train_loss: 0.077, time elapsed: 23.983471 seconds\n",
            "epoch 17, train_loss: 0.070, time elapsed: 24.394675 seconds\n",
            "epoch 18, train_loss: 0.083, time elapsed: 24.198483 seconds\n",
            "epoch 19, train_loss: 0.087, time elapsed: 24.491898 seconds\n",
            "epoch 20, train_loss: 0.099, time elapsed: 24.583727 seconds\n",
            "epoch 21, train_loss: 0.065, time elapsed: 24.349373 seconds\n",
            "epoch 22, train_loss: 0.060, time elapsed: 24.006918 seconds\n",
            "epoch 23, train_loss: 0.055, time elapsed: 24.394439 seconds\n",
            "epoch 24, train_loss: 0.053, time elapsed: 24.424853 seconds\n",
            "epoch 25, train_loss: 0.067, time elapsed: 24.119381 seconds\n",
            "epoch 26, train_loss: 0.077, time elapsed: 24.193968 seconds\n",
            "epoch 27, train_loss: 0.057, time elapsed: 24.600266 seconds\n",
            "epoch 28, train_loss: 0.101, time elapsed: 23.423866 seconds\n",
            "epoch 29, train_loss: 0.059, time elapsed: 23.448882 seconds\n",
            "epoch 30, train_loss: 0.052, time elapsed: 23.664556 seconds\n",
            "epoch 31, train_loss: 0.044, time elapsed: 23.543242 seconds\n",
            "epoch 32, train_loss: 0.042, time elapsed: 23.388371 seconds\n",
            "epoch 33, train_loss: 0.040, time elapsed: 23.438287 seconds\n",
            "epoch 34, train_loss: 0.038, time elapsed: 23.473883 seconds\n",
            "epoch 35, train_loss: 0.037, time elapsed: 23.533955 seconds\n",
            "epoch 36, train_loss: 0.036, time elapsed: 24.119368 seconds\n",
            "epoch 37, train_loss: 0.035, time elapsed: 24.338169 seconds\n",
            "epoch 38, train_loss: 0.034, time elapsed: 23.97494 seconds\n",
            "epoch 39, train_loss: 0.033, time elapsed: 23.780047 seconds\n",
            "epoch 40, train_loss: 0.032, time elapsed: 23.775741 seconds\n",
            "epoch 41, train_loss: 0.032, time elapsed: 24.064001 seconds\n",
            "epoch 42, train_loss: 0.031, time elapsed: 23.63682 seconds\n",
            "epoch 43, train_loss: 0.030, time elapsed: 23.922433 seconds\n",
            "epoch 44, train_loss: 0.030, time elapsed: 24.048351 seconds\n",
            "epoch 45, train_loss: 0.029, time elapsed: 23.472143 seconds\n",
            "epoch 46, train_loss: 0.029, time elapsed: 23.448378 seconds\n",
            "epoch 47, train_loss: 0.028, time elapsed: 23.548429 seconds\n",
            "epoch 48, train_loss: 0.028, time elapsed: 23.183617 seconds\n",
            "epoch 49, train_loss: 0.027, time elapsed: 23.422108 seconds\n",
            "epoch 50, train_loss: 0.027, time elapsed: 23.46077 seconds\n",
            "epoch 51, train_loss: 0.026, time elapsed: 23.39609 seconds\n",
            "epoch 52, train_loss: 0.026, time elapsed: 23.362453 seconds\n",
            "epoch 53, train_loss: 0.025, time elapsed: 23.627745 seconds\n",
            "epoch 54, train_loss: 0.025, time elapsed: 23.5423 seconds\n",
            "epoch 55, train_loss: 0.025, time elapsed: 23.55228 seconds\n",
            "epoch 56, train_loss: 0.024, time elapsed: 23.856407 seconds\n",
            "epoch 57, train_loss: 0.024, time elapsed: 24.213833 seconds\n",
            "epoch 58, train_loss: 0.024, time elapsed: 24.406177 seconds\n",
            "epoch 59, train_loss: 0.023, time elapsed: 23.801475 seconds\n",
            "epoch 60, train_loss: 0.023, time elapsed: 23.933264 seconds\n",
            "epoch 61, train_loss: 0.023, time elapsed: 24.213506 seconds\n",
            "epoch 62, train_loss: 0.022, time elapsed: 24.054211 seconds\n",
            "epoch 63, train_loss: 0.022, time elapsed: 24.1293 seconds\n",
            "epoch 64, train_loss: 0.111, time elapsed: 23.73841 seconds\n",
            "epoch 65, train_loss: 0.072, time elapsed: 23.54293 seconds\n",
            "epoch 66, train_loss: 0.062, time elapsed: 23.517089 seconds\n",
            "epoch 67, train_loss: 0.037, time elapsed: 23.423597 seconds\n",
            "epoch 68, train_loss: 0.030, time elapsed: 23.580806 seconds\n",
            "epoch 69, train_loss: 0.026, time elapsed: 23.750398 seconds\n",
            "epoch 70, train_loss: 0.024, time elapsed: 23.880872 seconds\n",
            "epoch 71, train_loss: 0.032, time elapsed: 24.103288 seconds\n",
            "epoch 72, train_loss: 0.031, time elapsed: 23.80752 seconds\n",
            "epoch 73, train_loss: 0.028, time elapsed: 23.503272 seconds\n",
            "epoch 74, train_loss: 0.022, time elapsed: 23.61814 seconds\n",
            "epoch 75, train_loss: 0.071, time elapsed: 23.680237 seconds\n",
            "epoch 76, train_loss: 0.085, time elapsed: 23.622387 seconds\n",
            "epoch 77, train_loss: 0.045, time elapsed: 23.653143 seconds\n",
            "epoch 78, train_loss: 0.032, time elapsed: 23.728591 seconds\n",
            "epoch 79, train_loss: 0.023, time elapsed: 23.585111 seconds\n",
            "epoch 80, train_loss: 0.021, time elapsed: 23.579729 seconds\n",
            "epoch 81, train_loss: 0.021, time elapsed: 23.976805 seconds\n",
            "epoch 82, train_loss: 0.020, time elapsed: 23.716903 seconds\n",
            "epoch 83, train_loss: 0.019, time elapsed: 24.055129 seconds\n",
            "epoch 84, train_loss: 0.019, time elapsed: 23.936429 seconds\n",
            "epoch 85, train_loss: 0.018, time elapsed: 23.68811 seconds\n",
            "epoch 86, train_loss: 0.018, time elapsed: 23.589439 seconds\n",
            "epoch 87, train_loss: 0.018, time elapsed: 23.579264 seconds\n",
            "epoch 88, train_loss: 0.017, time elapsed: 24.123581 seconds\n",
            "epoch 89, train_loss: 0.017, time elapsed: 24.114233 seconds\n",
            "epoch 90, train_loss: 0.017, time elapsed: 23.945438 seconds\n",
            "epoch 91, train_loss: 0.017, time elapsed: 24.52344 seconds\n",
            "epoch 92, train_loss: 0.017, time elapsed: 24.248672 seconds\n",
            "epoch 93, train_loss: 0.016, time elapsed: 24.370133 seconds\n",
            "epoch 94, train_loss: 0.018, time elapsed: 24.785331 seconds\n",
            "epoch 95, train_loss: 0.016, time elapsed: 24.268217 seconds\n",
            "epoch 96, train_loss: 0.016, time elapsed: 24.829177 seconds\n",
            "epoch 97, train_loss: 0.016, time elapsed: 24.884881 seconds\n",
            "epoch 98, train_loss: 0.016, time elapsed: 23.996115 seconds\n",
            "epoch 99, train_loss: 0.016, time elapsed: 24.077782 seconds\n",
            "epoch 100, train_loss: 0.015, time elapsed: 24.011667 seconds\n",
            "epoch 101, train_loss: 0.015, time elapsed: 24.060236 seconds\n",
            "epoch 102, train_loss: 0.015, time elapsed: 24.225801 seconds\n",
            "epoch 103, train_loss: 0.016, time elapsed: 23.991696 seconds\n",
            "epoch 104, train_loss: 0.016, time elapsed: 23.949546 seconds\n",
            "epoch 105, train_loss: 0.015, time elapsed: 23.827491 seconds\n",
            "epoch 106, train_loss: 0.014, time elapsed: 23.889536 seconds\n",
            "epoch 107, train_loss: 0.015, time elapsed: 24.069864 seconds\n",
            "epoch 108, train_loss: 0.015, time elapsed: 24.182771 seconds\n",
            "epoch 109, train_loss: 0.014, time elapsed: 23.977438 seconds\n",
            "epoch 110, train_loss: 0.015, time elapsed: 23.879089 seconds\n",
            "epoch 111, train_loss: 0.014, time elapsed: 23.851761 seconds\n",
            "epoch 112, train_loss: 0.014, time elapsed: 23.990581 seconds\n",
            "epoch 113, train_loss: 0.014, time elapsed: 24.190977 seconds\n",
            "epoch 114, train_loss: 0.013, time elapsed: 24.038325 seconds\n",
            "epoch 115, train_loss: 0.014, time elapsed: 24.1017 seconds\n",
            "epoch 116, train_loss: 0.061, time elapsed: 23.800384 seconds\n",
            "epoch 117, train_loss: 0.029, time elapsed: 23.18486 seconds\n",
            "epoch 118, train_loss: 0.026, time elapsed: 23.424072 seconds\n",
            "epoch 119, train_loss: 0.019, time elapsed: 24.130374 seconds\n",
            "epoch 120, train_loss: 0.017, time elapsed: 23.938379 seconds\n",
            "epoch 121, train_loss: 0.024, time elapsed: 23.815306 seconds\n",
            "epoch 122, train_loss: 0.017, time elapsed: 24.192948 seconds\n",
            "epoch 123, train_loss: 0.018, time elapsed: 24.071105 seconds\n",
            "epoch 124, train_loss: 0.014, time elapsed: 23.894082 seconds\n",
            "epoch 125, train_loss: 0.013, time elapsed: 23.754173 seconds\n",
            "epoch 126, train_loss: 0.013, time elapsed: 24.007892 seconds\n",
            "epoch 127, train_loss: 0.013, time elapsed: 23.954981 seconds\n",
            "epoch 128, train_loss: 0.013, time elapsed: 23.792939 seconds\n",
            "epoch 129, train_loss: 0.013, time elapsed: 23.769763 seconds\n",
            "epoch 130, train_loss: 0.012, time elapsed: 24.094655 seconds\n",
            "epoch 131, train_loss: 0.013, time elapsed: 24.394464 seconds\n",
            "epoch 132, train_loss: 0.013, time elapsed: 24.003865 seconds\n",
            "epoch 133, train_loss: 0.013, time elapsed: 23.979745 seconds\n",
            "epoch 134, train_loss: 0.012, time elapsed: 24.066971 seconds\n",
            "epoch 135, train_loss: 0.012, time elapsed: 24.006801 seconds\n",
            "epoch 136, train_loss: 0.013, time elapsed: 23.742498 seconds\n",
            "epoch 137, train_loss: 0.012, time elapsed: 24.668022 seconds\n",
            "epoch 138, train_loss: 0.012, time elapsed: 23.98104 seconds\n",
            "epoch 139, train_loss: 0.011, time elapsed: 24.03772 seconds\n",
            "epoch 140, train_loss: 0.012, time elapsed: 23.905781 seconds\n",
            "epoch 141, train_loss: 0.012, time elapsed: 24.211406 seconds\n",
            "epoch 142, train_loss: 0.012, time elapsed: 24.165552 seconds\n",
            "epoch 143, train_loss: 0.012, time elapsed: 24.121628 seconds\n",
            "epoch 144, train_loss: 0.011, time elapsed: 24.568096 seconds\n",
            "epoch 145, train_loss: 0.012, time elapsed: 24.434764 seconds\n",
            "epoch 146, train_loss: 0.011, time elapsed: 24.52217 seconds\n",
            "epoch 147, train_loss: 0.011, time elapsed: 23.893973 seconds\n",
            "epoch 148, train_loss: 0.012, time elapsed: 24.473798 seconds\n",
            "epoch 149, train_loss: 0.012, time elapsed: 24.607725 seconds\n",
            "epoch 150, train_loss: 0.011, time elapsed: 24.08825 seconds\n",
            "epoch 151, train_loss: 0.012, time elapsed: 24.218738 seconds\n",
            "epoch 152, train_loss: 0.011, time elapsed: 24.641137 seconds\n",
            "epoch 153, train_loss: 0.011, time elapsed: 24.249768 seconds\n",
            "epoch 154, train_loss: 0.011, time elapsed: 23.883534 seconds\n",
            "epoch 155, train_loss: 0.011, time elapsed: 24.04186 seconds\n",
            "epoch 156, train_loss: 0.010, time elapsed: 23.550422 seconds\n",
            "epoch 157, train_loss: 0.011, time elapsed: 23.814195 seconds\n",
            "epoch 158, train_loss: 0.010, time elapsed: 24.140378 seconds\n",
            "epoch 159, train_loss: 0.011, time elapsed: 23.844389 seconds\n",
            "epoch 160, train_loss: 0.010, time elapsed: 24.373239 seconds\n",
            "epoch 161, train_loss: 0.010, time elapsed: 24.33647 seconds\n",
            "epoch 162, train_loss: 0.011, time elapsed: 23.910964 seconds\n",
            "epoch 163, train_loss: 0.010, time elapsed: 23.71953 seconds\n",
            "epoch 164, train_loss: 0.011, time elapsed: 24.076309 seconds\n",
            "epoch 165, train_loss: 0.010, time elapsed: 24.163054 seconds\n",
            "epoch 166, train_loss: 0.010, time elapsed: 24.302851 seconds\n",
            "epoch 167, train_loss: 0.010, time elapsed: 24.028278 seconds\n",
            "epoch 168, train_loss: 0.126, time elapsed: 24.100816 seconds\n",
            "epoch 169, train_loss: 0.047, time elapsed: 23.938331 seconds\n",
            "epoch 170, train_loss: 0.024, time elapsed: 24.085944 seconds\n",
            "epoch 171, train_loss: 0.019, time elapsed: 24.093615 seconds\n",
            "epoch 172, train_loss: 0.016, time elapsed: 23.912772 seconds\n",
            "epoch 173, train_loss: 0.014, time elapsed: 24.209296 seconds\n",
            "epoch 174, train_loss: 0.021, time elapsed: 24.884142 seconds\n",
            "epoch 175, train_loss: 0.014, time elapsed: 23.770064 seconds\n",
            "epoch 176, train_loss: 0.013, time elapsed: 23.830722 seconds\n",
            "epoch 177, train_loss: 0.011, time elapsed: 23.815314 seconds\n",
            "epoch 178, train_loss: 0.010, time elapsed: 24.435742 seconds\n",
            "epoch 179, train_loss: 0.011, time elapsed: 24.615638 seconds\n",
            "epoch 180, train_loss: 0.009, time elapsed: 24.350947 seconds\n",
            "epoch 181, train_loss: 0.010, time elapsed: 24.341784 seconds\n",
            "epoch 182, train_loss: 0.010, time elapsed: 24.182588 seconds\n",
            "epoch 183, train_loss: 0.010, time elapsed: 24.214114 seconds\n",
            "epoch 184, train_loss: 0.009, time elapsed: 23.673891 seconds\n",
            "epoch 185, train_loss: 0.009, time elapsed: 24.164449 seconds\n",
            "epoch 186, train_loss: 0.009, time elapsed: 24.127346 seconds\n",
            "epoch 187, train_loss: 0.009, time elapsed: 24.334767 seconds\n",
            "epoch 188, train_loss: 0.010, time elapsed: 23.326927 seconds\n",
            "epoch 189, train_loss: 0.009, time elapsed: 23.449137 seconds\n",
            "epoch 190, train_loss: 0.009, time elapsed: 23.820542 seconds\n",
            "epoch 191, train_loss: 0.009, time elapsed: 23.760043 seconds\n",
            "epoch 192, train_loss: 0.010, time elapsed: 24.230027 seconds\n",
            "epoch 193, train_loss: 0.010, time elapsed: 23.724764 seconds\n",
            "epoch 194, train_loss: 0.010, time elapsed: 23.481555 seconds\n",
            "epoch 195, train_loss: 0.009, time elapsed: 23.903597 seconds\n",
            "epoch 196, train_loss: 0.009, time elapsed: 24.064053 seconds\n",
            "epoch 197, train_loss: 0.009, time elapsed: 23.492039 seconds\n",
            "epoch 198, train_loss: 0.009, time elapsed: 23.778658 seconds\n",
            "epoch 199, train_loss: 0.009, time elapsed: 23.712799 seconds\n",
            "epoch 200, train_loss: 0.009, time elapsed: 24.252107 seconds\n"
          ],
          "name": "stdout"
        },
        {
          "output_type": "display_data",
          "data": {
            "image/png": "[encoded data removed]",
            "text/plain": [
              "<Figure size 432x288 with 1 Axes>"
            ]
          },
          "metadata": {
            "tags": [],
            "needs_background": "light"
          }
        },
        {
          "output_type": "stream",
          "text": [
            "total training time: 79.829 minutes\n"
          ],
          "name": "stdout"
        }
      ]
    },
    {
      "cell_type": "code",
      "metadata": {
        "id": "KN8318FztwKV",
        "colab": {
          "base_uri": "https://localhost:8080/",
          "height": 859
        },
        "outputId": "58b54b04-72e8-4dd8-cd7f-3316167f9f29"
      },
      "source": [
        "all_app_classes = [i for i in range(max(app_classes) + 1)]\n",
        "analyse(model, app_train_loader, app_test_loader, all_app_classes, 'app')"
      ],
      "execution_count": 16,
      "outputs": [
        {
          "output_type": "stream",
          "text": [
            "Train Accuracy: 99.61389164188967%\n",
            "Test Accuracy: 97.3731596229213%\n",
            "+-----------------------+-------+-------+-------+\n",
            "|         Class         |   Rc  |   Pr  |   F1  |\n",
            "+-----------------------+-------+-------+-------+\n",
            "|        AIM Chat       | 0.909 | 0.848 | 0.877 |\n",
            "|         Email         | 0.936 |  0.99 | 0.962 |\n",
            "|        Facebook       | 0.934 | 0.963 | 0.948 |\n",
            "|          FTPS         | 0.998 | 0.999 | 0.998 |\n",
            "|         Gmail         | 0.901 | 0.939 | 0.919 |\n",
            "|        Hangouts       | 0.963 | 0.982 | 0.972 |\n",
            "|          ICQ          |  0.93 | 0.947 | 0.938 |\n",
            "|        Netflix        | 0.998 | 0.999 | 0.999 |\n",
            "|          SCP          | 0.995 | 0.996 | 0.996 |\n",
            "|          SFTP         | 0.994 | 0.997 | 0.996 |\n",
            "|         Skype         | 0.993 | 0.883 | 0.935 |\n",
            "|        Spotify        | 0.975 | 0.981 | 0.978 |\n",
            "|        Torrent        | 0.998 | 0.998 | 0.998 |\n",
            "|          Tor          | 0.998 | 0.999 | 0.999 |\n",
            "|         Vimeo         | 0.983 | 0.986 | 0.985 |\n",
            "|       Voipbuster      | 0.992 | 0.997 | 0.994 |\n",
            "|        Youtube        | 0.986 | 0.982 | 0.984 |\n",
            "| Available Classes Avg |  0.97 |  0.97 | 0.969 |\n",
            "+-----------------------+-------+-------+-------+\n"
          ],
          "name": "stdout"
        },
        {
          "output_type": "display_data",
          "data": {
            "image/png": "[encoded data removed]",
            "text/plain": [
              "<Figure size 2400x720 with 1 Axes>"
            ]
          },
          "metadata": {
            "tags": []
          }
        }
      ]
    }
  ]
}